{
 "cells": [
  {
   "cell_type": "markdown",
   "metadata": {},
   "source": [
    "# 笔记本的两个模式\n",
    "- 输入模式：允许用户输入\n",
    "- 命令模式：允许用户通过命令操作笔记本\n",
    "- 模式的转换：回车to输入；Esc转命令模式；\n",
    "\n",
    "# 两种输入模式\n",
    "- Python代码模式：可直接运行，输入\n",
    "- Markdown模式：简洁的记录格式，允许使用markdown语法。\n",
    "- 百度搜索markdown简明语法\n",
    "- https://www.jianshu.com/p/473fd227e039\n",
    "- https://www.zhihu.com/question/20409634\n",
    "\n",
    "# 执行快捷键\n",
    "- Alt + Enter: 执行代码，并在下面生成一个新的输入框\n",
    "- Shift + Enter：执行代码\n",
    "- Ctrl + Enter：执行代码\n",
    "\n",
    "# Jupyter notebook 教程\n",
    "- https://blog.csdn.net/red_stone1/article/details/72858962"
   ]
  },
  {
   "cell_type": "code",
   "execution_count": 5,
   "metadata": {},
   "outputs": [
    {
     "name": "stdout",
     "output_type": "stream",
     "text": [
      "hahaha\n"
     ]
    }
   ],
   "source": [
    "print(\"hahaha\")"
   ]
  }
 ],
 "metadata": {
  "kernelspec": {
   "display_name": "Python 3",
   "language": "python",
   "name": "python3"
  },
  "language_info": {
   "codemirror_mode": {
    "name": "ipython",
    "version": 3
   },
   "file_extension": ".py",
   "mimetype": "text/x-python",
   "name": "python",
   "nbconvert_exporter": "python",
   "pygments_lexer": "ipython3",
   "version": "3.6.3"
  }
 },
 "nbformat": 4,
 "nbformat_minor": 2
}
