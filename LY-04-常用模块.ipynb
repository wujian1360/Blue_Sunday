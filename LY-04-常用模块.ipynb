﻿{
 "cells": [
  {
   "cell_type": "markdown",
   "metadata": {},
   "source": [
    "# 常用模块\n",
    "\n",
    "## 需要先导入才能使用\n",
    "- calendar\n",
    "- time\n",
    "- datetime\n",
    "- timeit\n",
    "\n",
    "- os\n",
    "- shutil\n",
    "- zip\n",
    "\n",
    "- math\n",
    "- string (此模块无需导入)"
   ]
  },
  {
   "cell_type": "markdown",
   "metadata": {},
   "source": [
    "## clendar\n",
    "- 跟日历相关的模块"
   ]
  },
  {
   "cell_type": "code",

   "outputs": [],
   "source": [
    "# 使用需要先导入\n",
    "import calendar"
   ]
  },
  {
   "cell_type": "code",
   "execution_count": 5,
   "metadata": {},
   "outputs": [
    {
     "name": "stdout",
     "output_type": "stream",
     "text": [
      "<class 'str'>\n"
     ]
    }
   ],
   "source": [
    "# calendar :获得一个日历的字符串\n",
    "# 参数：\n",
    "# w = 每个日历之间的间隔字符数\n",
    "# l = 每周所占用的行数\n",
    "# c = 每个月之间的字符间隔\n",
    "\n",
    "cal = calendar.calendar(2018)\n",
    "print(type(cal))"
   ]
  },
  {
   "cell_type": "code",
   "execution_count": 20,
   "metadata": {},
   "outputs": [
    {
     "name": "stdout",
     "output_type": "stream",
     "text": [
      "                                    2018\n",
      "\n",
      "      January                     February                     March\n",
      "Mo Tu We Th Fr Sa Su        Mo Tu We Th Fr Sa Su        Mo Tu We Th Fr Sa Su\n",
      " 1  2  3  4  5  6  7                  1  2  3  4                  1  2  3  4\n",
      " 8  9 10 11 12 13 14         5  6  7  8  9 10 11         5  6  7  8  9 10 11\n",
      "15 16 17 18 19 20 21        12 13 14 15 16 17 18        12 13 14 15 16 17 18\n",
      "22 23 24 25 26 27 28        19 20 21 22 23 24 25        19 20 21 22 23 24 25\n",
      "29 30 31                    26 27 28                    26 27 28 29 30 31\n",
      "\n",
      "       April                        May                         June\n",
      "Mo Tu We Th Fr Sa Su        Mo Tu We Th Fr Sa Su        Mo Tu We Th Fr Sa Su\n",
      "                   1            1  2  3  4  5  6                     1  2  3\n",
      " 2  3  4  5  6  7  8         7  8  9 10 11 12 13         4  5  6  7  8  9 10\n",
      " 9 10 11 12 13 14 15        14 15 16 17 18 19 20        11 12 13 14 15 16 17\n",
      "16 17 18 19 20 21 22        21 22 23 24 25 26 27        18 19 20 21 22 23 24\n",
      "23 24 25 26 27 28 29        28 29 30 31                 25 26 27 28 29 30\n",
      "30\n",
      "\n",
      "        July                       August                    September\n",
      "Mo Tu We Th Fr Sa Su        Mo Tu We Th Fr Sa Su        Mo Tu We Th Fr Sa Su\n",
      "                   1               1  2  3  4  5                        1  2\n",
      " 2  3  4  5  6  7  8         6  7  8  9 10 11 12         3  4  5  6  7  8  9\n",
      " 9 10 11 12 13 14 15        13 14 15 16 17 18 19        10 11 12 13 14 15 16\n",
      "16 17 18 19 20 21 22        20 21 22 23 24 25 26        17 18 19 20 21 22 23\n",
      "23 24 25 26 27 28 29        27 28 29 30 31              24 25 26 27 28 29 30\n",
      "30 31\n",
      "\n",
      "      October                     November                    December\n",
      "Mo Tu We Th Fr Sa Su        Mo Tu We Th Fr Sa Su        Mo Tu We Th Fr Sa Su\n",
      " 1  2  3  4  5  6  7                  1  2  3  4                        1  2\n",
      " 8  9 10 11 12 13 14         5  6  7  8  9 10 11         3  4  5  6  7  8  9\n",
      "15 16 17 18 19 20 21        12 13 14 15 16 17 18        10 11 12 13 14 15 16\n",
      "22 23 24 25 26 27 28        19 20 21 22 23 24 25        17 18 19 20 21 22 23\n",
      "29 30 31                    26 27 28 29 30              24 25 26 27 28 29 30\n",
      "                                                        31\n",
      "\n"
     ]
    }
   ],
   "source": [
    "cal = calendar.calendar(2018,l=1,c=8)\n",
    "print(cal)"
   ]
  },
  {
   "cell_type": "code",
   "execution_count": 21,
   "metadata": {},
   "outputs": [
    {
     "data": {
      "text/plain": [
       "False"
      ]
     },
     "execution_count": 21,
     "metadata": {},
     "output_type": "execute_result"
    }
   ],
   "source": [
    "# isleap 判断当前年是否是闰年\n",
    "calendar.isleap(2018)"
   ]
  },
  {
   "cell_type": "code",
   "execution_count": 23,
   "metadata": {},
   "outputs": [
    {
     "data": {
      "text/plain": [
       "5"
      ]
     },
     "execution_count": 23,
     "metadata": {},
     "output_type": "execute_result"
    }
   ],
   "source": [
    "# leapdays:获取指定年份区间的闰年个数\n",
    "calendar.leapdays(1999,2018)"
   ]
  },
  {
   "cell_type": "code",
   "execution_count": 33,
   "metadata": {},
   "outputs": [
    {
     "name": "stdout",
     "output_type": "stream",
     "text": [
      "                   March 2018\n",
      " Mon    Tue    Wed    Thu    Fri    Sat    Sun\n",
      "                        1      2      3      4\n",
      "   5      6      7      8      9     10     11\n",
      "  12     13     14     15     16     17     18\n",
      "  19     20     21     22     23     24     25\n",
      "  26     27     28     29     30     31\n",
      "\n",
      "Help on method formatmonth in module calendar:\n",
      "\n",
      "formatmonth(theyear, themonth, w=0, l=0) method of calendar.TextCalendar instance\n",
      "    Return a month's calendar string (multi-line).\n",
      "\n"
     ]
    }
   ],
   "source": [
    "# month()获取某个月份的日历字符串\n",
    "m3 = calendar.month(2018,3,w=6,l=0)\n",
    "print(m3)\n",
    "help(calendar.month)"
   ]
  },
  {
   "cell_type": "code",
   "execution_count": 8,
   "metadata": {},
   "outputs": [
    {
     "name": "stdout",
     "output_type": "stream",
     "text": [
      "3 31\n"
     ]
    }
   ],
   "source": [
    "# monthrange()获取某个月从周几开始，以及总天数\n",
    "# 返回：元(周几，总天数)\n",
    "# 0-6 魔人代表周一到周日\n",
    "w,t = calendar.monthrange(2018,3)\n",
    "print(w,t)"
   ]
  },
  {
   "cell_type": "code",
   "execution_count": 10,
   "metadata": {},
   "outputs": [
    {
     "name": "stdout",
     "output_type": "stream",
     "text": [
      "<class 'list'>\n",
      "[[0, 0, 0, 1, 2, 3, 4], [5, 6, 7, 8, 9, 10, 11], [12, 13, 14, 15, 16, 17, 18], [19, 20, 21, 22, 23, 24, 25], [26, 27, 28, 29, 30, 31, 0]]\n"
     ]
    }
   ],
   "source": [
    "# monthcalendar() 返回一个月日历的一个矩阵（二维列表）\n",
    "m = calendar.monthcalendar(2018,3)\n",
    "print(type(m))\n",
    "print(m)"
   ]
  },
  {
   "cell_type": "code",
   "execution_count": 24,
   "metadata": {},
   "outputs": [
    {
     "name": "stdout",
     "output_type": "stream",
     "text": [
      "Help on method pryear in module calendar:\n",
      "\n",
      "pryear(theyear, w=0, l=0, c=6, m=3) method of calendar.TextCalendar instance\n",
      "    Print a year's calendar.\n",
      "\n"
     ]
    }
   ],
   "source": [
    "# prcal:直接打印日历\n",
    "# calendar.prcal(2018)\n",
    "help(calendar.prcal)\n"
   ]
  },
  {
   "cell_type": "code",
   "execution_count": 22,
   "metadata": {},
   "outputs": [
    {
     "name": "stdout",
     "output_type": "stream",
     "text": [
      "     March 2018\n",
      "Mo Tu We Th Fr Sa Su\n",
      "          1  2  3  4\n",
      " 5  6  7  8  9 10 11\n",
      "12 13 14 15 16 17 18\n",
      "19 20 21 22 23 24 25\n",
      "26 27 28 29 30 31\n"
     ]
    }
   ],
   "source": [
    "# prmonth() 直接打印整个月的日历,无返回值\n",
    "calendar.prmonth(2018,3)"
   ]
  },
  {
   "cell_type": "code",
   "execution_count": 25,
   "metadata": {},
   "outputs": [
    {
     "data": {
      "text/plain": [
       "0"
      ]
     },
     "execution_count": 25,
     "metadata": {},
     "output_type": "execute_result"
    }
   ],
   "source": [
    "# weekday()获取周几\n",
    "# 返回一个对应的数字\n",
    "calendar.weekday(2018,3,26)"
   ]
  },
  {
   "cell_type": "markdown",
   "metadata": {},
   "source": [
    "## time 模块\n",
    "### 时间戳\n",
    "- 一个时间，根据不同语言，可以是整数或浮点\n",
    "- 是从1970年1月1日0时0分0秒到现在的秒数\n",
    "- 如果表示的时间是1970年以前或者太遥远的未来，可能出现异常\n",
    "- 32位操作系统，能够支持到2038年\n",
    "\n",
    "### UTC时间\n",
    "- UTC又称为世界协调时间，以英国的格林尼治天文台所在地的时间作为参考，也叫做标准时间。\n",
    "- 中国的时间是UTC+8 东八区\n",
    "\n",
    "### 夏令时\n",
    "- 本质还是24小时\n",
    "\n",
    "### 时间元组\n",
    "- 一个包含时间内容的普通元组"
   ]
  },
  {
   "cell_type": "code",
   "execution_count": null,
   "metadata": {},
   "outputs": [],
   "source": [
    "'''\n",
    "   - |索引    |内容     |属性         |值\n",
    "   - ————————————————————————————\n",
    "   - |0       |年       |tm_year      |2015\n",
    "   - |1       |月       |tm_mon       |1～12\n",
    "   - |2       |日       |tm_mday      |1～31\n",
    "   - |3       |时       |tm_hour      |0～23\n",
    "   - |4       |分       |tm_min       |0～59\n",
    "   - |5       |秒       |tm_sec       |0～61  60表示闰秒  61保留值\n",
    "   - |6       |周几     |tm_wday      |0～6\n",
    "   - |7       |第几天   |tm_yday      |1～366\n",
    "   - |8       |夏令时   |tm_isdst     |0，1，-1（表示夏令时）\n",
    "\n",
    "'''"
   ]
  },
  {
   "cell_type": "code",
   "execution_count": 1,
   "metadata": {},
   "outputs": [],
   "source": [
    "import time"
   ]
  },
  {
   "cell_type": "code",
   "execution_count": 12,
   "metadata": {},
   "outputs": [
    {
     "name": "stdout",
     "output_type": "stream",
     "text": [
      "0\n",
      "-32400\n",
      "-28800\n"
     ]
    }
   ],
   "source": [
    "# 属性：\n",
    "# timezone：当前时区和UTC时间相差的秒数，东八区是-28800\n",
    "# altzone：获取当前时区与UTC时间相差的秒数，在有夏令时的情况下？\n",
    "# daylight：检测当前是否夏令时，0表示是？\n",
    "print(time.daylight)\n",
    "print(time.altzone)\n",
    "print(time.timezone)"
   ]
  },
  {
   "cell_type": "code",
   "execution_count": 9,
   "metadata": {},
   "outputs": [
    {
     "data": {
      "text/plain": [
       "1539952662.1770856"
      ]
     },
     "execution_count": 9,
     "metadata": {},
     "output_type": "execute_result"
    }
   ],
   "source": [
    "# 得到时间戳\n",
    "time.time()"
   ]
  },
  {
   "cell_type": "code",
   "execution_count": 24,
   "metadata": {},
   "outputs": [
    {
     "name": "stdout",
     "output_type": "stream",
     "text": [
      "time.struct_time(tm_year=2018, tm_mon=10, tm_mday=19, tm_hour=20, tm_min=45, tm_sec=54, tm_wday=4, tm_yday=292, tm_isdst=0)\n",
      "2018 10 20\n"
     ]
    }
   ],
   "source": [
    "# 时间元组\n",
    "# localtime,得到当前时间的时间结构\n",
    "# 可以通过点号操作符得到相应的属性元素\n",
    "t = time.localtime()\n",
    "print(t)\n",
    "print(t.tm_year,t.tm_mon,t.tm_hour)"
   ]
  },
  {
   "cell_type": "code",
   "execution_count": 25,
   "metadata": {},
   "outputs": [
    {
     "name": "stdout",
     "output_type": "stream",
     "text": [
      "Fri Oct 19 20:46:19 2018\n"
     ]
    }
   ],
   "source": [
    "# asctime()返回元组的正常字符串样式的时间\n",
    "# 返回值：有\n",
    "t = time.asctime(time.localtime())\n",
    "print(t)"
   ]
  },
  {
   "cell_type": "code",
   "execution_count": 26,
   "metadata": {},
   "outputs": [
    {
     "name": "stdout",
     "output_type": "stream",
     "text": [
      "Fri Oct 19 20:47:22 2018\n"
     ]
    }
   ],
   "source": [
    "# ctime() 获取格式化的字符串时间\n",
    "t = time.ctime()\n",
    "print(t)"
   ]
  },
  {
   "cell_type": "code",
   "execution_count": 27,
   "metadata": {},
   "outputs": [
    {
     "name": "stdout",
     "output_type": "stream",
     "text": [
      "1539953375.0\n"
     ]
    }
   ],
   "source": [
    "# mktime() 使用时间元组获取对应的时间戳\n",
    "# 格式：time.mktime（时间元组localtime）\n",
    "# 返回值：浮点数时间戳\n",
    "t = time.mktime(time.localtime())\n",
    "print(t)"
   ]
  },
  {
   "cell_type": "code",
   "execution_count": null,
   "metadata": {},
   "outputs": [],
   "source": [
    "# clock()  获取cpu时间，3.0-3.3版本可以用，3.6调用有问题"
   ]
  },
  {
   "cell_type": "code",
   "execution_count": 29,
   "metadata": {},
   "outputs": [
    {
     "name": "stdout",
     "output_type": "stream",
     "text": [
      "0\n",
      "1\n",
      "2\n"
     ]
    }
   ],
   "source": [
    "# sleep: 是程序进入睡眠，n秒后继续\n",
    "for i in range(3):\n",
    "    print(i)\n",
    "    time.sleep(1)"
   ]
  },
  {
   "cell_type": "code",
   "execution_count": 33,
   "metadata": {},
   "outputs": [
    {
     "name": "stdout",
     "output_type": "stream",
     "text": [
      "2.59977777187477\n"
     ]
    }
   ],
   "source": [
    "def p():\n",
    "    time.sleep(2.6)\n",
    "    \n",
    "t0 = time.clock()\n",
    "p()\n",
    "t1 = time.clock()\n",
    "\n",
    "print(t1 - t0)  # 打印前后时间差"
   ]
  },
  {
   "cell_type": "code",
   "execution_count": 35,
   "metadata": {},
   "outputs": [
    {
     "name": "stdout",
     "output_type": "stream",
     "text": [
      "2018-10-19  21:00\n"
     ]
    }
   ],
   "source": [
    "# strftime:将时间元组传承自定义的字符串\n",
    "\n",
    "loctime = time.localtime()\n",
    "ft = time.strftime('%Y-%m-%d  %H:%M',loctime)\n",
    "print(ft)\n",
    "\n",
    "'''\n",
    "格式  含义  备注\n",
    "%a    本地（locale）简化星期名称    \n",
    "%A    本地完整星期名称    \n",
    "%b    本地简化月份名称    \n",
    "%B    本地完整月份名称    \n",
    "%c    本地相应的日期和时间表示    \n",
    "%d    一个月中的第几天（01 - 31）   \n",
    "%H    一天中的第几个小时（24 小时制，00 - 23）   \n",
    "%I    一天中的第几个小时（12 小时制，01 - 12）   \n",
    "%j    一年中的第几天（001 - 366）  \n",
    "%m    月份（01 - 12） \n",
    "%M    分钟数（00 - 59）    \n",
    "%p    本地 am 或者 pm 的相应符    注1\n",
    "%S    秒（01 - 61）  注2\n",
    "%U    一年中的星期数（00 - 53 星期天是一个星期的开始）第一个星期天之前的所有天数都放在第 0 周   注3\n",
    "%w    一个星期中的第几天（0 - 6，0 是星期天） 注3\n",
    "%W    和 %U 基本相同，不同的是 %W 以星期一为一个星期的开始  \n",
    "%x    本地相应日期  \n",
    "%X    本地相应时间  \n",
    "%y    去掉世纪的年份（00 - 99）    \n",
    "%Y    完整的年份   \n",
    "%z    用 +HHMM 或 -HHMM 表示距离格林威治的时区偏移（H 代表十进制的小时数，M 代表十进制的分钟数）      \n",
    "%%    %号本身\n",
    "'''"
   ]
  },
  {
   "cell_type": "markdown",
   "metadata": {},
   "source": [
    "### datetime模块\n",
    "- datetime提供日期和时间的运算表示"
   ]
  },
  {
   "cell_type": "code",
   "execution_count": 40,
   "metadata": {},
   "outputs": [
    {
     "name": "stdout",
     "output_type": "stream",
     "text": [
      "2018-03-26   2018 3 26\n"
     ]
    }
   ],
   "source": [
    "import datetime\n",
    "# 常见属性\n",
    "# datetime.date:一个理想的日期，提供year，month，day属性\n",
    "dt = datetime.date(2018,3,26)\n",
    "print(dt,  ' ',  dt.year,  dt.month,  dt.day)"
   ]
  },
  {
   "cell_type": "code",
   "execution_count": 47,
   "metadata": {},
   "outputs": [
    {
     "name": "stdout",
     "output_type": "stream",
     "text": [
      "2018-03-23 00:00:00\n",
      "2018-10-19 21:12:02.041903\n",
      "2018-10-19 21:12:02.041903\n",
      "2018-10-19 13:12:02.041903\n",
      "1539954722.0419033\n",
      "2018-10-19 21:12:02.041903\n"
     ]
    }
   ],
   "source": [
    "# datetime.datetime\n",
    "from datetime import datetime\n",
    "# 常用类的用法\n",
    "# today\n",
    "# now\n",
    "# utcnow\n",
    "dt = datetime(2018,3,23)\n",
    "print(dt)\n",
    "print(dt.today())\n",
    "print(dt.now())\n",
    "print(dt.utcnow())\n",
    "\n",
    "# fromtimestamp：从时间戳中返回本地时间\n",
    "print(time.time())\n",
    "print(dt.fromtimestamp(time.time()))"
   ]
  },
  {
   "cell_type": "code",
   "execution_count": null,
   "metadata": {
    "collapsed": true
   },
   "outputs": [],
   "source": [
    "12u3tiiiiiiiiiiiiiiiiiiiiii"
   ]
  }
 ],
 "metadata": {
  "kernelspec": {
   "display_name": "Python 3",
   "language": "python",
   "name": "python3"
  },
  "language_info": {
   "codemirror_mode": {
    "name": "ipython",
    "version": 3
   },
   "file_extension": ".py",
   "mimetype": "text/x-python",
   "name": "python",
   "nbconvert_exporter": "python",
   "pygments_lexer": "ipython3",
   "version": "3.6.3"
  }
 },
 "nbformat": 4,
 "nbformat_minor": 2
}
