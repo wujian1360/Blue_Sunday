{
 "cells": [
  {
   "cell_type": "markdown",
   "metadata": {},
   "source": [
    "# while循环\n",
    "- 在条件成立之前保持循环\n",
    "- 不知道循环次数\n",
    "- while语法\n",
    "      while 条件表达式:\n",
    "          语句块\n",
    "      \n",
    "      while 条件表达式：\n",
    "          语句块1\n",
    "      else:\n",
    "          语句块2"
   ]
  },
  {
   "cell_type": "code",
   "execution_count": 3,
   "metadata": {},
   "outputs": [
    {
     "name": "stdout",
     "output_type": "stream",
     "text": [
      "第1年，目前额度：106700.0元\n",
      "第2年，目前额度：113848.9元\n",
      "第3年，目前额度：121476.77629999998元\n",
      "第4年，目前额度：129615.72031209998元\n",
      "第5年，目前额度：138299.97357301068元\n",
      "第6年，目前额度：147566.07180240238元\n",
      "第7年，目前额度：157452.99861316333元\n",
      "第8年，目前额度：168002.34952024528元\n",
      "第9年，目前额度：179258.5069381017元\n",
      "第10年，目前额度：191268.8269029545元\n",
      "第11年，目前额度：204083.83830545243元\n",
      "hahaha\n"
     ]
    }
   ],
   "source": [
    "# 年利率6.7%，本利翻滚，几年后翻倍。\n",
    "\n",
    "b = 100000\n",
    "year = 0\n",
    "\n",
    "while b<200000:\n",
    "    b *= (1 + 0.067)\n",
    "    year += 1\n",
    "    print('第{0}年，目前额度：{1}元'.format(year,b))\n",
    "else:\n",
    "    print('hahaha')"
   ]
  },
  {
   "cell_type": "markdown",
   "metadata": {},
   "source": [
    "# 函数\n",
    "- 代码分块的形式\n",
    "- 一个函数完成一个功能\n",
    "- 函数要先定义\n",
    "- 调用就是使用函数"
   ]
  },
  {
   "cell_type": "code",
   "execution_count": 8,
   "metadata": {},
   "outputs": [
    {
     "name": "stdout",
     "output_type": "stream",
     "text": [
      "定义了一个函数\n"
     ]
    }
   ],
   "source": [
    "# 定义一个函数，不会立即执行\n",
    "# def关键字后面跟空格\n",
    "# 函数名自定义，遵循小驼峰命名规则，大驼峰留给类名\n",
    "# 后面的（）和：冒号不能省略，括号内可以给参数\n",
    "# 函数内所有代码块要有缩进\n",
    "def func():\n",
    "    print('定义了一个函数')\n",
    "\n",
    "func()"
   ]
  },
  {
   "cell_type": "markdown",
   "metadata": {},
   "source": [
    "# 函数的参数和返回值\n",
    "- 参数：负责给函数传递一些必要的数据或者信息\n",
    "  - 形参：形式参数，定义函数用到的没有具体值，只是一个占位符\n",
    "  - 实参：实际参数，在调用函数输入的值\n",
    "- 返回值：函数执行完后返回一个结果\n",
    "  - 使用return关键字，一旦使用则返回后面的值，立即结束函数的执行\n",
    "  - 如果没有return，则返回None"
   ]
  },
  {
   "cell_type": "code",
   "execution_count": null,
   "metadata": {},
   "outputs": [],
   "source": [
    "# 参数的定义和使用\n",
    "# 参数的person只是一个形参，代表调用某一个数据\n",
    "# 调用的时候，会用p（实参）的值代替函数中的所有person"
   ]
  },
  {
   "cell_type": "code",
   "execution_count": 9,
   "metadata": {},
   "outputs": [
    {
     "name": "stdout",
     "output_type": "stream",
     "text": [
      "wujian,你好\n"
     ]
    }
   ],
   "source": [
    "def func(person):\n",
    "    print('{0},你好'.format(person))\n",
    "\n",
    "p = 'wujian'\n",
    "func(p)"
   ]
  },
  {
   "cell_type": "code",
   "execution_count": 20,
   "metadata": {},
   "outputs": [
    {
     "name": "stdout",
     "output_type": "stream",
     "text": [
      "你好\n"
     ]
    }
   ],
   "source": [
    "# return 语句1\n",
    "def func():\n",
    "    return \"你好\"\n",
    "    print(\"还有\")\n",
    "\n",
    "print(func())\n"
   ]
  },
  {
   "cell_type": "code",
   "execution_count": 21,
   "metadata": {},
   "outputs": [
    {
     "name": "stdout",
     "output_type": "stream",
     "text": [
      "Help on built-in function print in module builtins:\n",
      "\n",
      "print(...)\n",
      "    print(value, ..., sep=' ', end='\\n', file=sys.stdout, flush=False)\n",
      "    \n",
      "    Prints the values to a stream, or to sys.stdout by default.\n",
      "    Optional keyword arguments:\n",
      "    file:  a file-like object (stream); defaults to the current sys.stdout.\n",
      "    sep:   string inserted between values, default a space.\n",
      "    end:   string appended after the last value, default a newline.\n",
      "    flush: whether to forcibly flush the stream.\n",
      "\n"
     ]
    }
   ],
   "source": [
    "# 查找函数帮助文档\n",
    "# 1. 用help函数\n",
    "help(print)"
   ]
  },
  {
   "cell_type": "code",
   "execution_count": 55,
   "metadata": {},
   "outputs": [
    {
     "name": "stdout",
     "output_type": "stream",
     "text": [
      "1 --------------------\n",
      "2 4 --------------------\n",
      "3 6 9 --------------------\n",
      "4 8 12 16 --------------------\n",
      "5 10 15 20 25 --------------------\n",
      "6 12 18 24 30 36 --------------------\n",
      "7 14 21 28 35 42 49 --------------------\n",
      "8 16 24 32 40 48 56 64 --------------------\n",
      "9 18 27 36 45 54 63 72 81 --------------------\n"
     ]
    }
   ],
   "source": [
    "# 九九乘法表\n",
    "\n",
    "for i in range(1,10):\n",
    "    for j in range(1,i+1):\n",
    "        print(i*j,end=' ')\n",
    "    print('-'* 20)"
   ]
  },
  {
   "cell_type": "code",
   "execution_count": 60,
   "metadata": {},
   "outputs": [
    {
     "name": "stdout",
     "output_type": "stream",
     "text": [
      "1 --------------------\n",
      "2 4 --------------------\n",
      "3 6 9 --------------------\n",
      "4 8 12 16 --------------------\n",
      "5 10 15 20 25 --------------------\n",
      "6 12 18 24 30 36 --------------------\n",
      "7 14 21 28 35 42 49 --------------------\n",
      "8 16 24 32 40 48 56 64 --------------------\n",
      "9 18 27 36 45 54 63 72 81 --------------------\n"
     ]
    }
   ],
   "source": [
    "def func(i):\n",
    "    for j in range(1,i+1):\n",
    "        print(i*j,end=' ')\n",
    "    print('-'*20)\n",
    "\n",
    "for i in range(1,10):\n",
    "    func(i)"
   ]
  },
  {
   "cell_type": "markdown",
   "metadata": {},
   "source": [
    "# 参数详解\n",
    "- 参考资料：https://www.cnblogs.com/bingabcd/p/6671368.html\n",
    "- python参考资料： headfirst python -> 零基础入门学习python（小甲鱼),本讲义参考的是流畅的python-->习题-->后期可以考虑腾讯公开免费课\n",
    "- 参数分类\n",
    "  - 普通参数\n",
    "  - 默认参数\n",
    "  - 关键字参数\n",
    "  - 收集参数\n",
    "  \n",
    "- 普通参数\n",
    "  - 直接定义变量名\n",
    "  - 调用的时候直接把变量或者值放入指定位置\n",
    "            def func1(v1,v2):\n",
    "                函数体\n",
    "                \n",
    "            # 调用\n",
    "            函数名（value1，value2，......）\n",
    "            \n",
    "            # 调用的时候，具体参考的是位置，按位置赋值。\n",
    "- 默认参数\n",
    "  - 形参带有默认值\n",
    "  - 调用的时候有就赋值，没有就默认值\n",
    "             def func1(a=v1,b=v2):\n",
    "                函数体\n",
    "                \n",
    "             # 调用1\n",
    "             func_name()\n",
    "             \n",
    "             # 调用2\n",
    "             value1 = 100\n",
    "             value2 = 200\n",
    "             func_name(value1,value2)\n",
    "             "
   ]
  },
  {
   "cell_type": "code",
   "execution_count": 62,
   "metadata": {},
   "outputs": [
    {
     "name": "stdout",
     "output_type": "stream",
     "text": [
      "wu is 18,and he is a good student!\n",
      "sarah is 21,and she is a good student!\n"
     ]
    }
   ],
   "source": [
    "# 默认参数\n",
    "def func(name, age, gender='male'):\n",
    "    if gender == 'male':\n",
    "        print('{0} is {1},and he is a good student!'.format(name,age))\n",
    "    else:\n",
    "        print('{0} is {1},and she is a good student!'.format(name,age))\n",
    "\n",
    "# 调用\n",
    "func('wu',18)\n",
    "func('sarah',21,'famale')"
   ]
  },
  {
   "cell_type": "markdown",
   "metadata": {},
   "source": [
    "# 关键字参数\n",
    "- 语法\n",
    "   def func(p1=v1,p2=v2,...):\n",
    "          func body\n",
    "   - 调用\n",
    "   func(p1=value1,p2=value2...)\n",
    "\n",
    "- 不易混淆，实参和形参一一对应即可，容易出错\n",
    "- 使用关键字参数，可以不考虑参数位置"
   ]
  },
  {
   "cell_type": "code",
   "execution_count": 65,
   "metadata": {},
   "outputs": [
    {
     "name": "stdout",
     "output_type": "stream",
     "text": [
      "wujian is 18,我住chaoyang\n",
      "关键字 is 80,我住haidian\n"
     ]
    }
   ],
   "source": [
    "# 关键字参数\n",
    "def stu(name, age, add):\n",
    "    print('{0} is {1},我住{2}'.format(name,age,add))\n",
    "\n",
    "stu('wujian',18,'chaoyang')\n",
    "\n",
    "def stu_key(name='No name',age=0,add='No add'):\n",
    "    print('{0} is {1},我住{2}'.format(name,age,add))\n",
    "\n",
    "n = '关键字'\n",
    "a = 80\n",
    "addr = 'haidian'\n",
    "stu_key(name=n, age=a, add=addr) "
   ]
  },
  {
   "cell_type": "markdown",
   "metadata": {},
   "source": [
    "# 收集参数\n",
    "- 把一个或者多个，数量、位置不定的参数，放入一个特定的数据结构中\n",
    "- 语法\n",
    "      def func(*args):\n",
    "           func_body\n",
    "           按照list的使用方式访问args得到传入的参数\n",
    "    - 调用：\n",
    "    func(p1,p2,p3...)\n",
    "- 参数名args不是必须这么写，但是我们推荐使用args，约定俗成\n",
    "- 参数名args前面加*星号\n",
    "- 收集参数可以喝其他参数共存"
   ]
  },
  {
   "cell_type": "code",
   "execution_count": 69,
   "metadata": {},
   "outputs": [
    {
     "name": "stdout",
     "output_type": "stream",
     "text": [
      "hello 大家好，我自我介绍一下，简单说：\n",
      "<class 'tuple'>\n",
      "wujian\n",
      "18\n",
      "海淀区\n",
      "看电视\n",
      "single\n",
      "hello 大家好，我自我介绍一下，简单说：\n",
      "<class 'tuple'>\n",
      "zhou\n",
      "hello 大家好，我自我介绍一下，简单说：\n",
      "<class 'tuple'>\n"
     ]
    }
   ],
   "source": [
    "# 收集参数代码\n",
    "# 函数模拟一个学生自我介绍，具体内容格式不清楚\n",
    "# args把它看做是一个list或者tuple\n",
    "def stu( *args):\n",
    "    print('hello 大家好，我自我介绍一下，简单说：')\n",
    "    print(type(args))\n",
    "    \n",
    "    for i in args:\n",
    "        print(i)\n",
    "\n",
    "        \n",
    "# 说明收集参数可以不带任何实参调用，此时收集参数为空tuple        \n",
    "stu('wujian',18,'海淀区','看电视','single')\n",
    "stu('zhou')\n",
    "stu()"
   ]
  },
  {
   "cell_type": "code",
   "execution_count": null,
   "metadata": {},
   "outputs": [],
   "source": []
  }
 ],
 "metadata": {
  "kernelspec": {
   "display_name": "Python 3",
   "language": "python",
   "name": "python3"
  },
  "language_info": {
   "codemirror_mode": {
    "name": "ipython",
    "version": 3
   },
   "file_extension": ".py",
   "mimetype": "text/x-python",
   "name": "python",
   "nbconvert_exporter": "python",
   "pygments_lexer": "ipython3",
   "version": "3.6.5"
  }
 },
 "nbformat": 4,
 "nbformat_minor": 2
}
