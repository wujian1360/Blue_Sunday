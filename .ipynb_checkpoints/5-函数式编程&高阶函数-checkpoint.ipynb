{
 "cells": [
  {
   "cell_type": "markdown",
   "metadata": {},
   "source": [
    "# Python函数式编程\n",
    "## 函数式编程（FunctionalProgramming）\n",
    "- 基于lamba验算的一种编程方式\n",
    " - 程序中只有函数\n",
    " - 函数可以作为参数，也可作为返回值\n",
    " - 纯函数式编程语言：LISP，Haskell\n",
    " \n",
    "- Python函数式编程只是借鉴了传统函数式编程的一些特点，可以理解成一般函数式一半Python式\n",
    "- Python函数式编程主要包含：\n",
    "  - 高阶函数\n",
    "  - 返回函数\n",
    "  - 匿名函数\n",
    "  - 装饰器\n",
    "  - 偏函数\n",
    "  \n",
    "## lambda表达式\n",
    "- 函数的作用：最大程度的复用代码\n",
    "  - 存在问题：如果函数很短小，则会造成啰嗦\n",
    "  - 如果函数被调用次数少，则会造成浪费\n",
    "  - 对于阅读者来说，造成思路的中断\n",
    "\n",
    "- lambda表达式（匿名函数）好处：\n",
    "  - 只用一个表达式，函数相对简单\n",
    "  - 不是一个代码块，仅仅是一个表达式\n",
    "  - 可以有一个或多个参数，用逗号隔开\n",
    " "
   ]
  },
  {
   "cell_type": "code",
   "execution_count": 3,
   "metadata": {},
   "outputs": [
    {
     "name": "stdout",
     "output_type": "stream",
     "text": [
      "AAAAAAAA\n"
     ]
    }
   ],
   "source": [
    "# 小函数例子\n",
    "def printA():\n",
    "    print('AAAAAAAA')\n",
    "    \n",
    "printA()"
   ]
  },
  {
   "cell_type": "code",
   "execution_count": 12,
   "metadata": {},
   "outputs": [
    {
     "data": {
      "text/plain": [
       "29"
      ]
     },
     "execution_count": 12,
     "metadata": {},
     "output_type": "execute_result"
    }
   ],
   "source": [
    "# lambda表达式的用法\n",
    "# 以lambda开头，紧跟参数（多个参数用逗号隔开，亦可没有参数），用冒号隔开后面的语句。\n",
    "# lambda只是一个表达式，所以不需要return\n",
    "\n",
    "# 极端一个数字100倍数\n",
    "\n",
    "stm = lambda x: x * 100\n",
    "stm(77)\n",
    "\n",
    "stm1 = lambda x,y,z: x*x + y*y + z*z\n",
    "stm1(2,3,4)"
   ]
  },
  {
   "cell_type": "code",
   "execution_count": 10,
   "metadata": {},
   "outputs": [
    {
     "name": "stdout",
     "output_type": "stream",
     "text": [
      "[57.0, 58.2, 50.6, 27.2]\n"
     ]
    },
    {
     "ename": "NameError",
     "evalue": "name 'numbers_list' is not defined",
     "output_type": "error",
     "traceback": [
      "\u001b[1;31m---------------------------------------------------------------------------\u001b[0m",
      "\u001b[1;31mNameError\u001b[0m                                 Traceback (most recent call last)",
      "\u001b[1;32m<ipython-input-10-a9f567825ebe>\u001b[0m in \u001b[0;36m<module>\u001b[1;34m\u001b[0m\n\u001b[0;32m     16\u001b[0m \u001b[1;31m# 用lambda的写法\u001b[0m\u001b[1;33m\u001b[0m\u001b[1;33m\u001b[0m\u001b[1;33m\u001b[0m\u001b[0m\n\u001b[0;32m     17\u001b[0m \u001b[0mmean\u001b[0m \u001b[1;33m=\u001b[0m \u001b[1;32mlambda\u001b[0m \u001b[0mnum_list\u001b[0m\u001b[1;33m:\u001b[0m \u001b[0msum\u001b[0m\u001b[1;33m(\u001b[0m\u001b[0mnum_list\u001b[0m\u001b[1;33m)\u001b[0m \u001b[1;33m/\u001b[0m \u001b[0mlen\u001b[0m\u001b[1;33m(\u001b[0m\u001b[0mnum_list\u001b[0m\u001b[1;33m)\u001b[0m\u001b[1;33m\u001b[0m\u001b[1;33m\u001b[0m\u001b[0m\n\u001b[1;32m---> 18\u001b[1;33m \u001b[0maverages\u001b[0m \u001b[1;33m=\u001b[0m \u001b[0mlist\u001b[0m\u001b[1;33m(\u001b[0m\u001b[0mmap\u001b[0m\u001b[1;33m(\u001b[0m\u001b[0mmean\u001b[0m\u001b[1;33m,\u001b[0m\u001b[0mnumbers_list\u001b[0m\u001b[1;33m)\u001b[0m\u001b[1;33m)\u001b[0m\u001b[1;33m\u001b[0m\u001b[1;33m\u001b[0m\u001b[0m\n\u001b[0m\u001b[0;32m     19\u001b[0m \u001b[0mprint\u001b[0m\u001b[1;33m(\u001b[0m\u001b[0maverages\u001b[0m\u001b[1;33m(\u001b[0m\u001b[0mnumbers\u001b[0m\u001b[1;33m)\u001b[0m\u001b[1;33m)\u001b[0m\u001b[1;33m\u001b[0m\u001b[1;33m\u001b[0m\u001b[0m\n",
      "\u001b[1;31mNameError\u001b[0m: name 'numbers_list' is not defined"
     ]
    }
   ],
   "source": [
    "# 求每个list的平均数，映射到一个新列表\n",
    "# _function_name = lambda _paramete ：_The expression to return\n",
    "\n",
    "numbers = [\n",
    "              [34, 63, 88, 71, 29],\n",
    "              [90, 78, 51, 27, 45],\n",
    "              [63, 37, 85, 46, 22],\n",
    "              [51, 22, 34, 11, 18]\n",
    "           ]\n",
    "# 用普通写法\n",
    "def mean(num_list):\n",
    "    return sum(num_list) / len(num_list)\n",
    "averages = list(map(mean, numbers))\n",
    "print(averages)\n",
    "\n",
    "# 用lambda的写法\n",
    "mean = lambda num_list: sum(num_list) / len(num_list)\n",
    "averages = lambda numbers_list: list(map(mean,numbers_list))\n",
    "print(averages(numbers))"
   ]
  },
  {
   "cell_type": "markdown",
   "metadata": {},
   "source": [
    "## 高阶函数\n",
    "- 把函数作为参数使用的函数，叫做高阶函数\n",
    "- 变量可以相互赋值，函数名称就是一个变量，也可以用来赋值\n",
    "- 既然函数名称就是变量，那么应该可以被当做参数传入另一个函数"
   ]
  },
  {
   "cell_type": "code",
   "execution_count": 14,
   "metadata": {},
   "outputs": [
    {
     "name": "stdout",
     "output_type": "stream",
     "text": [
      "FFFFFF\n"
     ]
    }
   ],
   "source": [
    "def funA():\n",
    "    print('FFFFFF') \n",
    "    \n",
    "funC = funA\n",
    "funC()"
   ]
  },
  {
   "cell_type": "code",
   "execution_count": 19,
   "metadata": {},
   "outputs": [
    {
     "name": "stdout",
     "output_type": "stream",
     "text": [
      "600\n",
      "2700\n",
      "240\n"
     ]
    }
   ],
   "source": [
    "# 高阶函数举例\n",
    "def funA(n):\n",
    "    return n * 100\n",
    "def funB(n):\n",
    "    return funA(n)*3\n",
    "\n",
    "print(funB(2))\n",
    "\n",
    "\n",
    "def funC(n,func):\n",
    "    return func(n)*3\n",
    "\n",
    "# 把funB当做参数传入funC\n",
    "print(funC(3,funB))\n",
    "\n",
    "def funD(n):\n",
    "    return n*10\n",
    "\n",
    "print(funC(8,funD))"
   ]
  },
  {
   "cell_type": "markdown",
   "metadata": {},
   "source": [
    "# zip：粘贴两个序列，成员成对出现\n",
    "- 把两个可迭代内容生成一个可迭代的tuple元素类型组成的内容\n",
    "### *zipped 可理解为解压，与 zip 相反，返回二维矩阵式"
   ]
  },
  {
   "cell_type": "code",
   "execution_count": 18,
   "metadata": {},
   "outputs": [
    {
     "name": "stdout",
     "output_type": "stream",
     "text": [
      "<zip object at 0x000000000529C9C8>\n",
      "[(1, 'wu'), (5, 'jj'), (65, 'll'), (4, 'jian'), (34, 'pop')]\n",
      "[(1, 5, 65, 4, 34), ('wu', 'jj', 'll', 'jian', 'pop')]\n",
      "[]\n"
     ]
    }
   ],
   "source": [
    "l1 = [1,5,65,4,34]\n",
    "l2 = [\"wu\",'jj','ll','jian','pop']\n",
    "\n",
    "z = zip(l1,l2)\n",
    "print(z)\n",
    "\n",
    "zl = [i for i in z]\n",
    "print(zl)\n",
    "\n",
    "# 与 zip 相反，*zipped 可理解为解压，返回二维矩阵式\n",
    "d1 = [i for i in zip(*zl)]          \n",
    "print(d1)\n",
    "\n",
    "# zip是一个可迭代对象，同时是一个数据流，只能迭代一次，然后就掏空了。\n",
    "zl2 = [i for i in z]\n",
    "print(zl2)"
   ]
  },
  {
   "cell_type": "markdown",
   "metadata": {},
   "source": [
    "## map ：用同一种方式分别计算它们\n",
    "- 系统自带的高阶函数\n",
    "- 原意就是映射，把一个可迭代对象（列表、元组、集合...）中的每一个元素，都按照一个函数进行操作，生成一个新的可迭代对象。\n",
    "- map函数是系统提供的具有映射功能的函数，返回值是一个新的可迭代对象。"
   ]
  },
  {
   "cell_type": "code",
   "execution_count": 43,
   "metadata": {},
   "outputs": [
    {
     "name": "stdout",
     "output_type": "stream",
     "text": [
      "[0, 1, 2, 3, 4, 5, 6, 7, 8, 9]\n",
      "[0, 10, 20, 30, 40, 50, 60, 70, 80, 90]\n",
      "[0, 10, 20, 30, 40, 50, 60, 70, 80, 90]\n",
      "<map object at 0x0000000004EE4518>\n",
      "[]\n"
     ]
    }
   ],
   "source": [
    "# 讲一个列表中的每一个元素都*10，并得到新的列表\n",
    "l1 = [i for i in range(10)]\n",
    "print(l1)\n",
    "l2 = []\n",
    "for i in l1:\n",
    "    l2.append(i*10)\n",
    "print(l2)\n",
    "\n",
    "# map写法\n",
    "def map10(n):\n",
    "    return n*10\n",
    "\n",
    "l3 = map(map10,l1)\n",
    "# Python 3 以后，map函数返回一个map类的可迭代对象，可以通过for遍历\n",
    "l33 = [i for i in l3]\n",
    "print(l33)\n",
    "\n",
    "# 以下列表生成式得到的结果为空， why？好像只能遍历一次\n",
    "l4 = [i for i in l3]\n",
    "print(l3)\n",
    "print(l4)\n"
   ]
  },
  {
   "cell_type": "code",
   "execution_count": 42,
   "metadata": {},
   "outputs": [
    {
     "name": "stdout",
     "output_type": "stream",
     "text": [
      "[114477, 225588, 336699]\n",
      "[]\n"
     ]
    }
   ],
   "source": [
    "def abc(a, b, c):\n",
    "    return a*10000 + b*100 + c\n",
    "\n",
    "list1 = [11,22,33]\n",
    "list2 = [44,55,66]\n",
    "list3 = [77,88,99]\n",
    "list4 = map(abc,list1,list2,list3)\n",
    "\n",
    "listW = [i for i in list4]\n",
    "print(listW)\n"
   ]
  },
  {
   "cell_type": "markdown",
   "metadata": {},
   "source": [
    "## reduce 归并:一起计算它们，得到一个值\n",
    "- 把一个了迭代对象，按照所给出函数的处理方式，归并成一个结果\n",
    "- 作为参数的函数，要求必须有两个参数，且必须返回结果\n",
    "- reduce需要导入funtools包"
   ]
  },
  {
   "cell_type": "code",
   "execution_count": 44,
   "metadata": {},
   "outputs": [],
   "source": [
    "from functools import reduce"
   ]
  },
  {
   "cell_type": "code",
   "execution_count": 48,
   "metadata": {},
   "outputs": [
    {
     "data": {
      "text/plain": [
       "45"
      ]
     },
     "execution_count": 48,
     "metadata": {},
     "output_type": "execute_result"
    }
   ],
   "source": [
    "# 定义一个相加的操作函数\n",
    "def mAdd(x,y):\n",
    "    return x+y\n",
    "list1 = [i for i in range(10)]\n",
    "\n",
    "# 依次逐个处理，是ruduce函数的特点\n",
    "reduce(mAdd,list1)"
   ]
  },
  {
   "cell_type": "markdown",
   "metadata": {},
   "source": [
    "## filter 过滤：用一种方式挑选它们\n",
    "- 对一组数据进行过滤，符合条件的数据会生成一个新的列表返回\n",
    "- 跟map相比：\n",
    "  - 相同：都对可迭代对象的元素逐一处理\n",
    "  - 不同：\n",
    "    - map：会生成一个跟原来队列相对应的新队列\n",
    "    - filter：不一定，只要符合条件的才会进入新的队列\n",
    "  - filter函数怎么写\n",
    "    - 利用给定函数进行判断\n",
    "    - 给定函数：要求有输入，返回值一定是一个布尔值\n",
    "    - 调用格式：filter（f，data），f是过滤函数，data是数据"
   ]
  },
  {
   "cell_type": "code",
   "execution_count": 54,
   "metadata": {},
   "outputs": [
    {
     "name": "stdout",
     "output_type": "stream",
     "text": [
      "<class 'filter'>\n",
      "<filter object at 0x000000000532B3C8>\n",
      "[0, 2, 4, 6, 8, 10, 12, 14, 16, 18, 20, 22, 24, 26, 28]\n",
      "[]\n"
     ]
    }
   ],
   "source": [
    "# fileter案例\n",
    "# 对于一个列表，对其进行过滤，偶数形成新列表\n",
    "\n",
    "def isEven(n):\n",
    "    return n%2 == 0\n",
    "\n",
    "l = [i for i in range(30)]\n",
    "\n",
    "rst = filter(isEven,l)\n",
    "\n",
    "print(type(rst))\n",
    "print(rst)\n",
    "\n",
    "a = [i for i in rst]\n",
    "print(a)\n",
    "\n",
    "# 只能被掏空一次\n",
    "b = [i for i in rst]\n",
    "print(b)"
   ]
  },
  {
   "cell_type": "markdown",
   "metadata": {},
   "source": [
    "## sorted 排序：用一种方式给它们排序\n",
    "- 把一个序列按照给定函数进行排序\n",
    "- key：在排序前对每一个元素进行key函数运算，可以理解成按照key函数定义的逻辑进行排序\n",
    "- Python2和Python3在这一点上相差巨大"
   ]
  },
  {
   "cell_type": "code",
   "execution_count": 68,
   "metadata": {},
   "outputs": [
    {
     "name": "stdout",
     "output_type": "stream",
     "text": [
      "[-8, 6, 2, -7, 7, -4, -3, 2, 0, -9]\n",
      "[7, 6, 2, 2, 0, -3, -4, -7, -8, -9]\n",
      "[-9, -8, -7, 7, 6, -4, -3, 2, 2, 0]\n"
     ]
    }
   ],
   "source": [
    "# 排序的案例\n",
    "import random\n",
    "#from random import randint\n",
    "\n",
    "l1=[]\n",
    "for i in range(10):\n",
    "    n = random.randint(-10,10)\n",
    "    l1.append(n)\n",
    "    \n",
    "# 原始列表    \n",
    "print(l1)\n",
    "\n",
    "# 按降序排序\n",
    "l2 = sorted(l1,reverse=True)\n",
    "print(l2)\n",
    "\n",
    "# 按照绝对值排序\n",
    "l3 = sorted(l1,key=abs,reverse=True)\n",
    "print(l3)\n"
   ]
  },
  {
   "cell_type": "code",
   "execution_count": 70,
   "metadata": {},
   "outputs": [
    {
     "name": "stdout",
     "output_type": "stream",
     "text": [
      "['Alix', 'Zoo', 'joo', 'mike', 'pop', 'study', 'wujian']\n",
      "['Alix', 'joo', 'mike', 'pop', 'study', 'wujian', 'Zoo']\n"
     ]
    }
   ],
   "source": [
    "# 字符串排序\n",
    "str1 = ['wujian','mike','joo','Zoo','Alix','pop','study']\n",
    "\n",
    "# 自然排序，大写在前\n",
    "str2 = sorted(str1)\n",
    "print(str2)\n",
    "\n",
    "# 忽略大小写排序，先全部转化成小写，在排序。\n",
    "str3 = sorted(str1,key=str.lower)\n",
    "print(str3)"
   ]
  },
  {
   "cell_type": "markdown",
   "metadata": {},
   "source": [
    "## 返回函数：方法名本质就是一个变量名\n",
    "- 函数可以返回具体的值\n",
    "- 也可以返回一个函数作为结果"
   ]
  },
  {
   "cell_type": "code",
   "execution_count": 71,
   "metadata": {},
   "outputs": [
    {
     "name": "stdout",
     "output_type": "stream",
     "text": [
      "In my Fun\n",
      "None\n"
     ]
    }
   ],
   "source": [
    "# 定义一个普通函数\n",
    "def myFun(a):\n",
    "    print('In my Fun')\n",
    "    return None\n",
    "\n",
    "print(myFun(8))"
   ]
  },
  {
   "cell_type": "code",
   "execution_count": 73,
   "metadata": {},
   "outputs": [
    {
     "name": "stdout",
     "output_type": "stream",
     "text": [
      "<class 'function'>\n",
      "<function myFun2.<locals>.myF3 at 0x0000000004ECAE18>\n",
      "In my F3\n"
     ]
    },
    {
     "data": {
      "text/plain": [
       "3"
      ]
     },
     "execution_count": 73,
     "metadata": {},
     "output_type": "execute_result"
    }
   ],
   "source": [
    "#函数作为返回值返回，被返回的函数在函数体内定义\n",
    "\n",
    "def myFun2():\n",
    "    def myF3():\n",
    "        print('In my F3')\n",
    "        return 3\n",
    "    return myF3\n",
    "\n",
    "# 上面的定义，调用myF2，返回一个函数myF3，赋值给f3\n",
    "f3 = myFun2()\n",
    "print(type(f3))\n",
    "print(f3)\n",
    "f3()"
   ]
  },
  {
   "cell_type": "code",
   "execution_count": 80,
   "metadata": {},
   "outputs": [
    {
     "name": "stdout",
     "output_type": "stream",
     "text": [
      "45\n",
      "60\n"
     ]
    }
   ],
   "source": [
    "# 返回函数的例子2\n",
    "# *args：参数列表\n",
    "# myF4定义函数，返回内部定义的myF5\n",
    "# myF5使用了外部变量args，是myF4的参数\n",
    "# 下面定义的myF4就是一个标准的闭包。 \n",
    "\n",
    "def myF4( *args):\n",
    "    def myF5():\n",
    "        rst = 0\n",
    "        for i in args:\n",
    "            rst += i\n",
    "        return rst\n",
    "    return myF5\n",
    "\n",
    "f5 = myF4(1,2,3,4,5,6,7,8,9,0)\n",
    "print(f5())\n",
    "f6 = myF4(10,20,30)\n",
    "print(f6())"
   ]
  },
  {
   "cell_type": "markdown",
   "metadata": {},
   "source": [
    "# enumerate：给各个元素加序号\n",
    "- 跟zip功能比较像\n",
    "- 对可迭代对象里的每一元素，配上一个索引，然后索引和内容构成tuple类型"
   ]
  },
  {
   "cell_type": "code",
   "execution_count": 19,
   "metadata": {},
   "outputs": [
    {
     "name": "stdout",
     "output_type": "stream",
     "text": [
      "[(0, 11), (1, 22), (2, 33), (3, 44), (4, 55)]\n"
     ]
    }
   ],
   "source": [
    "# enumerate案例1\n",
    "l1 = [11,22,33,44,55]\n",
    "\n",
    "em = enumerate(l1)\n",
    "\n",
    "l2 = [i for i in em]\n",
    "print(l2)"
   ]
  },
  {
   "cell_type": "code",
   "execution_count": 20,
   "metadata": {},
   "outputs": [
    {
     "name": "stdout",
     "output_type": "stream",
     "text": [
      "[(100, 11), (101, 22), (102, 33), (103, 44), (104, 55)]\n"
     ]
    }
   ],
   "source": [
    "em = enumerate(l1, start=100) # 加起始点，但是不知道是否有步长？？？？？\n",
    "\n",
    "l2 = [ i for i in em]\n",
    "print(l2)"
   ]
  },
  {
   "cell_type": "markdown",
   "metadata": {},
   "source": [
    "## 为何要使用生成器？\n",
    "- 你可能会疑问，为何要使用生成器，而不使用列表。下面这段摘自 stack overflow 页面 的内容回答了这个问题：\n",
    "\n",
    "- 生成器是构建迭代器的 “懒惰” 方式。当内存不够存储完整实现的列表时，或者计算每个列表元素的代价很高，你希望尽量推迟计算时，就可以使用生成器。但是这些元素只能遍历一次。\n",
    "\n",
    "- 另一种详细的解释如下（详细说明参见 该 stack overflow 页面。）\n",
    "\n",
    "- 由于使用生成器是一次处理一个数据，在内存和存储的需求上会比使用list方式直接全部生成再存储节省很多资源。\n",
    "\n",
    "- 由此区别，在处理大量数据时，经常使用生成器初步处理数据后，再进行长期存储，而不是使用 list。因为无论使用生成器还是 list，都是使用过就要丢弃的临时数据。既然功能和结果一样，那就不如用生成器。\n",
    "\n",
    "- 但是生成器也有自己的局限，它产生的数据不能回溯，不像list可以任意选择。"
   ]
  },
  {
   "cell_type": "markdown",
   "metadata": {},
   "source": [
    "### 练习：实现 my_enumerate\n",
    "- 请自己写一个效果和内置函数 enumerate 一样的生成器函数。\n",
    "\n",
    "- 如下所示地调用该函数："
   ]
  },
  {
   "cell_type": "code",
   "execution_count": 2,
   "metadata": {},
   "outputs": [
    {
     "name": "stdout",
     "output_type": "stream",
     "text": [
      "Lesson 1: Why Python Programming\n",
      "Lesson 2: Data Types and Operators\n",
      "Lesson 3: Control Flow\n",
      "Lesson 4: Functions\n",
      "Lesson 5: Scripting\n"
     ]
    }
   ],
   "source": [
    "lessons = [\"Why Python Programming\", \"Data Types and Operators\", \"Control Flow\", \"Functions\", \"Scripting\"]\n",
    "\n",
    "def my_enumerate(iterable, start=0):\n",
    "    i = start\n",
    "    for item in iterable:\n",
    "        yield i,item\n",
    "        i+=1\n",
    "        \n",
    "for i, lesson in my_enumerate(lessons, 1):\n",
    "    print(\"Lesson {}: {}\".format(i, lesson))"
   ]
  },
  {
   "cell_type": "markdown",
   "metadata": {},
   "source": [
    "### 练习：Chunker\n",
    "- 如果可迭代对象太大，无法完整地存储在内存中（例如处理大型文件时），每次能够使用一部分很有用。\n",
    "- 实现一个生成器函数 chunker，接受一个可迭代对象并每次生成指定大小的部分数据。\n",
    "- 如下所示地调用该函数："
   ]
  },
  {
   "cell_type": "code",
   "execution_count": 24,
   "metadata": {},
   "outputs": [
    {
     "name": "stdout",
     "output_type": "stream",
     "text": [
      "[0, 1, 2, 3]\n",
      "[4, 5, 6, 7]\n",
      "[8, 9, 10, 11]\n",
      "[12, 13, 14, 15]\n",
      "[16, 17, 18, 19]\n",
      "[20, 21, 22, 23]\n",
      "[24]\n"
     ]
    }
   ],
   "source": [
    "def chunker(iterable, size):\n",
    "\n",
    "# range(起点，终点，步长)\n",
    "# yield 一步生成一个可迭代对象,[定义起止位置]\n",
    "    for i in range(0, len(iterable), size):\n",
    "        yield iterable[i : i+size]\n",
    "\n",
    "    \n",
    "for chunk in chunker(range(25), 4):\n",
    "    print(list(chunk))"
   ]
  },
  {
   "cell_type": "markdown",
   "metadata": {},
   "source": [
    "## 闭包\n",
    "- 满足以下条件的函数就叫闭包结构：\n",
    "  - 在函数内部定义另一个函数；\n",
    "  - 内部的函数应用了外部函数的参数、局部变量；\n",
    "  - 当内部函数被当做返回值时，相关参数和变量保存在返回的函数中。  \n",
    "- 上面定义的myF4就是一个标准的闭包。\n",
    "\n",
    "- “官方”的解释是：\n",
    "  - 所谓“闭包”，指的是一个拥有许多变量和绑定了这些变量的环境的表达式（通常是一个函数），因而这些变量也是该表达式的一部分。\n",
    "- 通俗的讲：\n",
    "  - 就是函数a的内部函数b，被函数a外部的一个变量引用的时候，就创建了一个闭包。\n",
    "  \n",
    "  \n",
    "- 闭包的特性：\n",
    "  - 封闭性：外界无法访问闭包内部的数据，如果在闭包内声明变量，外界是无法访问的，除非闭包主动向外界提供访问接口；\n",
    "  - 持久性：一般的函数，调用完毕之后，系统自动注销函数，而对于闭包来说，在外部函数被调用之后，闭包结构依然保存在系统中，闭包中的数据依然存在，从而实现对数据的持久使用。\n",
    "\n",
    "  - 优点：\n",
    "    - 减少全局变量。\n",
    "    - 减少传递函数的参数量\n",
    "    - 封装；\n",
    "\n",
    "  - 缺点：\n",
    "    - 使用闭包会占有内存资源，过多的使用闭包会导致内存溢出等.\n",
    "\n",
    "\n",
    "- 最简洁、直击要害的回答，我能想到的分别有这么三句\n",
    "  - 闭包是一个有状态（不消失的私有数据）的函数。\n",
    "  - 闭包是一个有记忆的函数。\n",
    "  - 闭包相当于一个只有一个方法的紧凑对象（a compact object）。\n",
    "  - 上面这三句话是等价的，而其中第 3 句最精妙，可以指导何时、如何用好闭包。\n",
    "  \n",
    "  - 更多资料参考：https://blog.csdn.net/wy_blog/article/details/57130702\n",
    "\n"
   ]
  },
  {
   "cell_type": "markdown",
   "metadata": {},
   "source": [
    "### 闭包出现的坑"
   ]
  },
  {
   "cell_type": "code",
   "execution_count": 85,
   "metadata": {},
   "outputs": [
    {
     "name": "stdout",
     "output_type": "stream",
     "text": [
      "9 9 9\n"
     ]
    }
   ],
   "source": [
    "def mycount():\n",
    "    # 定义列表，列表里存放定义的函数\n",
    "    fc = []\n",
    "    for i in range(1,4):\n",
    "        # 定义了一个函数，func是一个闭包结构\n",
    "        def func():\n",
    "            return i*i\n",
    "        fc.append(func)\n",
    "    return fc\n",
    "\n",
    "f1,f2,f3 = mycount()\n",
    "print(f1(),f2(),f3())"
   ]
  },
  {
   "cell_type": "markdown",
   "metadata": {},
   "source": [
    "### 出现的问题\n",
    "- 造成上述状况的原因是，返回函数引用了变量i，i并非立即执行，而是等到三个函数都返回的时候才统一使用，此时都变成了i=3。\n",
    "- 此问题描述成：返回闭包时，返回函数不能引用任何循环变量\n",
    "- 解决方法：在创建一层函数，用该函数的参数绑定循环变量当前的值，无论该循环变量以后如何改变，已经绑定的函数参数值不再改变。"
   ]
  },
  {
   "cell_type": "code",
   "execution_count": 84,
   "metadata": {},
   "outputs": [
    {
     "name": "stdout",
     "output_type": "stream",
     "text": [
      "1 4 9\n"
     ]
    }
   ],
   "source": [
    "# 修改上述函数\n",
    "def mycount2():\n",
    "    \n",
    "    def fun(j):\n",
    "        def g():\n",
    "            return j*j\n",
    "        return g\n",
    "    \n",
    "    fs = []\n",
    "    for i in range(1,4):\n",
    "        fs.append(fun(i))\n",
    "    return fs\n",
    "\n",
    "f1,f2,f3 = mycount2()\n",
    "print(f1(),f2(),f3())  \n",
    "    "
   ]
  },
  {
   "cell_type": "markdown",
   "metadata": {},
   "source": [
    "### Decorator 装饰器：已有方法的外挂\n",
    "- 在不改动函数代码的基础上无限制扩展函数功能的一种机制，本质上，装饰器是一个返回函数的高阶函数\n",
    "- 装饰器的使用：使用@语法，即每次要扩展的函数定义之前使用@+函数名"
   ]
  },
  {
   "cell_type": "code",
   "execution_count": 97,
   "metadata": {},
   "outputs": [],
   "source": [
    "# 对hello功能进行扩展，每次打印hello之前打印当前系统时间\n",
    "# 而实现这个功能又不能改动现有代码\n",
    "# ==>使用装饰器\n",
    "import time\n",
    "\n",
    "\n",
    "# 需要用到高阶函数，以函数作为参数\n",
    "def printTime(f):\n",
    "    def wrapper(*args,**kwargs):\n",
    "        print('Time:',time.ctime())\n",
    "        return f(*args,**kwargs)\n",
    "    return wrapper"
   ]
  },
  {
   "cell_type": "code",
   "execution_count": 98,
   "metadata": {},
   "outputs": [
    {
     "name": "stdout",
     "output_type": "stream",
     "text": [
      "Time: Tue Oct 23 11:34:29 2018\n",
      "hello world\n"
     ]
    }
   ],
   "source": [
    "# Python的语法糖：上面定义了装饰器，使用的时候直接用@贴。\n",
    "@printTime\n",
    "def hello():\n",
    "    print('hello world')\n",
    "hello()"
   ]
  },
  {
   "cell_type": "code",
   "execution_count": 89,
   "metadata": {},
   "outputs": [
    {
     "name": "stdout",
     "output_type": "stream",
     "text": [
      "Time: Tue Oct 23 11:31:20 2018\n",
      "12345\n",
      "jjjjjjjj\n"
     ]
    }
   ],
   "source": [
    "# 装饰器的好处是一旦定义，则可以装饰任意函数\n",
    "# 一旦被其装饰，则把装饰器的功能添加到定义函数的功能上\n",
    "@printTime\n",
    "def hello2():\n",
    "    print('12345')\n",
    "    print('jjjjjjjj')\n",
    "hello2()"
   ]
  },
  {
   "cell_type": "markdown",
   "metadata": {},
   "source": [
    "- 由于printTime()是一个decorator，返回一个函数，所以，原来的hello2()函数仍然存在，只是现在同名的hello2变量指向了新的函数，于是调用hello2()将执行新函数，即在printTime()函数中返回的wrapper()函数。\n",
    "\n",
    "- wrapper()函数的参数定义是(*args, **kw)，因此，wrapper()函数可以接受任意参数的调用。在wrapper()函数内，首先打印printTime，再紧接着调用原始函数。hello2"
   ]
  },
  {
   "cell_type": "code",
   "execution_count": 101,
   "metadata": {},
   "outputs": [
    {
     "name": "stdout",
     "output_type": "stream",
     "text": [
      "我是手动\n",
      "Time: Tue Oct 23 11:35:45 2018\n",
      "我是手动\n",
      "Time: Tue Oct 23 11:35:45 2018\n",
      "Time: Tue Oct 23 11:35:45 2018\n",
      "我是手动\n"
     ]
    }
   ],
   "source": [
    "# 手动执行装饰器\n",
    "# 其实就是把要装饰的函数当做参数传进去\n",
    "def hello3():\n",
    "    print('我是手动')\n",
    "hello3()\n",
    "hello3 = printTime(hello3)\n",
    "hello3()\n",
    "f = printTime(hello3)\n",
    "f()"
   ]
  },
  {
   "cell_type": "markdown",
   "metadata": {},
   "source": [
    "- 如果decorator本身需要传入参数，那就需要编写一个返回decorator的高阶函数，写出来会更复杂。比如，要自定义log的文本："
   ]
  },
  {
   "cell_type": "code",
   "execution_count": 130,
   "metadata": {},
   "outputs": [
    {
     "name": "stdout",
     "output_type": "stream",
     "text": [
      "我是装饰器log,下面执行:now\n",
      "now: Tue Oct 23 12:26:56 2018\n"
     ]
    }
   ],
   "source": [
    "def log(text):\n",
    "    def decorator(func):\n",
    "        def wrapper(*args, **kw):\n",
    "            print('{0}:{1}'.format(text, func.__name__))\n",
    "            return func(*args, **kw)\n",
    "        return wrapper\n",
    "    return decorator\n",
    "\n",
    "@log('我是装饰器log,下面执行')\n",
    "def now():\n",
    "    print('now:',time.ctime())\n",
    "\n",
    "now()"
   ]
  },
  {
   "cell_type": "markdown",
   "metadata": {},
   "source": [
    "- 以上两种decorator的定义都没有问题，但还差最后一步。\n",
    "- 因为函数也是对象，它有__name__等属性，但你去看经过decorator装饰之后的函数，它们的__name__已经从原来的'now'变成了'wrapper'："
   ]
  },
  {
   "cell_type": "code",
   "execution_count": 131,
   "metadata": {},
   "outputs": [
    {
     "data": {
      "text/plain": [
       "'wrapper'"
      ]
     },
     "execution_count": 131,
     "metadata": {},
     "output_type": "execute_result"
    }
   ],
   "source": [
    "now.__name__"
   ]
  },
  {
   "cell_type": "markdown",
   "metadata": {},
   "source": [
    "- 因为返回的那个wrapper()函数名字就是'wrapper'，所以，需要把原始函数的__name__等属性复制到wrapper()函数中，否则，有些依赖函数签名的代码执行就会出错。\n",
    "- 不需要编写wrapper.__name__ = func.__name__这样的代码\n",
    "- Python内置的functools.wraps就是干这个事的，所以，一个完整的decorator的写法如下：\n",
    "- @functools.wraps(func)  # 加上这句，函数名__name__属性就不会变\n"
   ]
  },
  {
   "cell_type": "code",
   "execution_count": 155,
   "metadata": {},
   "outputs": [
    {
     "name": "stdout",
     "output_type": "stream",
     "text": [
      "我是装饰器log1，下面执行 now\n",
      "now: Tue Oct 23 12:49:25 2018\n",
      "now\n",
      "------------------------------------------------------------\n",
      "我是装饰器log2,下面执行:now1\n",
      "now: Tue Oct 23 12:49:25 2018\n",
      "now1\n"
     ]
    }
   ],
   "source": [
    "import functools\n",
    "\n",
    "# 一个完整的decorator的写法\n",
    "def log1(func):\n",
    "    @functools.wraps(func)  # 加上这句，函数名__name__属性就不会变\n",
    "    def wrapper(*args, **kwargs):\n",
    "        print('我是装饰器log1，下面执行 {0}'.format(func.__name__))\n",
    "        return func(*args, **kwargs)\n",
    "    return wrapper\n",
    "\n",
    "\n",
    "\n",
    "# 或者针对带参数的decorator：\n",
    "def log2(text):\n",
    "    def decorator(func):\n",
    "        @functools.wraps(func)  # 加上这句，函数名__name__属性就不会变\n",
    "        def wrapper(*args, **kw):\n",
    "            print('{0}:{1}'.format(text, func.__name__))\n",
    "            return func(*args, **kw)\n",
    "        return wrapper\n",
    "    return decorator\n",
    "\n",
    "# 只需记住在定义wrapper()的前面加上@functools.wraps(func)即可。\n",
    "\n",
    "@log1\n",
    "def now():\n",
    "    print('now:',time.ctime())\n",
    "    \n",
    "    \n",
    "now()\n",
    "print(now.__name__)\n",
    "\n",
    "print('--'*30)\n",
    "\n",
    "@log2('我是装饰器log2,下面执行')\n",
    "def now1():\n",
    "    print('now:',time.ctime())\n",
    "\n",
    "now1()\n",
    "print(now1.__name__)\n"
   ]
  },
  {
   "cell_type": "markdown",
   "metadata": {},
   "source": [
    "## 偏函数：固定一个方法的部分参数\n",
    "- 当函数的参数个数太多，需要简化时，使用functools.partial可以创建一个新的函数，这个新函数可以固定住原函数的部分参数，从而在调用时更简单。\n",
    "- 在介绍函数参数的时候，我们讲到，通过设定参数的默认值，可以降低函数调用的难度。而偏函数也可以做到这一点。\n",
    "\n",
    "  - 参数固定的函数，相当于一个有特定参数的函数体\n",
    "  - 需要导入functools, —— functool.partial的作用是：把一个函数某些参数固定，返回一个新函数"
   ]
  },
  {
   "cell_type": "code",
   "execution_count": 108,
   "metadata": {},
   "outputs": [
    {
     "name": "stdout",
     "output_type": "stream",
     "text": [
      "12345\n",
      "5349\n",
      "74565\n"
     ]
    }
   ],
   "source": [
    "# 常规写法\n",
    "# 把字符串转成十进制\n",
    "nstr = '12345'\n",
    "print(int(nstr))\n",
    "\n",
    "# 求八进制的字符串\n",
    "print(int(nstr,base=8))\n",
    "\n",
    "# 定义一个函数，默认输入一个16进制的数字字符串\n",
    "# 返回一个十进制的数字\n",
    "def int16to10(x,base=16):\n",
    "    return int(x,base)\n",
    "\n",
    "print(int16to10('12345'))"
   ]
  },
  {
   "cell_type": "code",
   "execution_count": 3,
   "metadata": {},
   "outputs": [],
   "source": [
    "import functools"
   ]
  },
  {
   "cell_type": "code",
   "execution_count": 4,
   "metadata": {},
   "outputs": [
    {
     "name": "stdout",
     "output_type": "stream",
     "text": [
      "74565\n"
     ]
    }
   ],
   "source": [
    "int16to10 = functools.partial(int,base=16)\n",
    "print(int16to10('12345'))"
   ]
  },
  {
   "cell_type": "code",
   "execution_count": 7,
   "metadata": {},
   "outputs": [
    {
     "data": {
      "text/plain": [
       "9"
      ]
     },
     "execution_count": 7,
     "metadata": {},
     "output_type": "execute_result"
    }
   ],
   "source": [
    "# 实际上会把10作为*args的一部分自动加到左边，也就是：\n",
    "# max(*args)\n",
    "# 这个新创建的函数，将总是现将10,12加入比较成员中，最终计算最大的数字返回\n",
    "\n",
    "max2 = functools.partial(max, 10,12)\n",
    "max2(5,6,7,9)\n",
    "\n"
   ]
  },
  {
   "cell_type": "markdown",
   "metadata": {},
   "source": [
    "- 在面向对象（OOP）的设计模式中，decorator被称为装饰模式。OOP的装饰模式需要通过继承和组合来实现，而Python除了能支持OOP的decorator外，直接从语法层次支持decorator。Python的decorator可以用函数实现，也可以用类实现。\n",
    "\n",
    "- decorator可以增强函数的功能，定义起来虽然有点复杂，但使用起来非常灵活和方便。\n",
    "- 请编写一个decorator，能在函数调用的前后打印出'begin call'和'end call'的日志。\n",
    "- 再思考一下能否写出一个@log的decorator，使它既支持带参数，也支持不带参数函数"
   ]
  }
 ],
 "metadata": {
  "kernelspec": {
   "display_name": "Python 3",
   "language": "python",
   "name": "python3"
  },
  "language_info": {
   "codemirror_mode": {
    "name": "ipython",
    "version": 3
   },
   "file_extension": ".py",
   "mimetype": "text/x-python",
   "name": "python",
   "nbconvert_exporter": "python",
   "pygments_lexer": "ipython3",
   "version": "3.6.7"
  }
 },
 "nbformat": 4,
 "nbformat_minor": 2
}
