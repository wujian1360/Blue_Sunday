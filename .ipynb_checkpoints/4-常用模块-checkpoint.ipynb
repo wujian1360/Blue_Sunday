{
 "cells": [
  {
   "cell_type": "markdown",
   "metadata": {},
   "source": [
    "# 常用模块\n",
    "\n",
    "- calendar:跟日历相关，打印日历、判断闰年、获取各种日历参数\n",
    "- time：1970年以来到现在的，时间戳、当前时间、程序睡眠等\n",
    "- datetime：获取理想日历时间格式\n",
    "- timeit：测量程序运行时间的工具\n",
    "\n",
    "- os：操作系统相关，路径拼合、进出路径、文件修改、删除、\n",
    "- shutil：移动、复制、修改内容，文件归档\n",
    "- zip：文件压缩打包\n",
    "\n",
    "- math：数学模块\n",
    "- string：字符串模块\n",
    "\n",
    "- 上述所有模块使用理论上都应该先导入，string是特例\n",
    "- calendar，time，datetime的区别参考中文意思\n",
    "\n",
    "- [详细扩展资料一](https://www.cnblogs.com/smallmars/p/6947084.html)\n",
    "- [更多模块分类列表](http://www.cnblogs.com/itech/archive/2011/01/28/1945273.html)\n",
    "- [代码示范](https://www.cnblogs.com/huan-ge/p/6822817.html)\n",
    "- [详细扩展资料二](https://www.cnblogs.com/mingerlcm/category/1130720.html)"
   ]
  },
  {
   "cell_type": "markdown",
   "metadata": {},
   "source": [
    "### Log模块的资料\n",
    "- https://www.cnblogs.com/yyds/p/6901864.html"
   ]
  },
  {
   "cell_type": "markdown",
   "metadata": {},
   "source": [
    "## 更多模块\n",
    "\n",
    "### logging：用于便捷记录日志且线程安全的模块\n",
    "\n",
    "### suprocess：用来生成子进程\n",
    "  - subprocess最早在2.4版本引入。用来生成子进程，并可以通过管道连接他们的输入/输出/错误，以及获得他们的返回值。\n",
    "  - subprocess提供了一些管理标准流(standard stream)和管道(pipe)的工具，从而在进程间使用文本通信。\n",
    "  \n",
    "### hashlib：加密相关\n",
    "  - 用于加密相关的操作，代替了md5模块和sha模块，主要提供SHA1，SHA224，SHA256，SHA384，SHA512,MD5算法。\n",
    "  - 在python3中已经废弃了md5和sha模块。\n",
    "  - 摘要算法又称为哈希算法，散列算法。\n",
    "  - 它通过一个函数，把任意长度的数据转换为一个长度固顶的数据串（通常用16进制的字符串表示）用于加密相关的操作。\n",
    "  \n",
    "### configparser： 配置文件解析相关\n",
    "  - configparser用于配置文件解析，可以解析特定格式的配置文件，\n",
    "  - 多数此类配置文件名格式为XXX.ini，例如mysql的配置文件。\n",
    "\n",
    "### xml：\n",
    "  - xml是实现不同语言或程序之间进行数据交换的协议，可扩展标记语言，标准通用标记语言的子集。\n",
    "  - 是一种用于标记电子文件使其具有结构性的标记语言。\n",
    "  \n",
    "### 正则re模块：正则表达式\n",
    "  \n",
    "  \n",
    "## json&pickle 序列化\n",
    "  - 序列化定义：\n",
    "    - 把对象(变量)从内存中变成可存储或传输的过程称之为序列化\n",
    "    - 在Python中叫pickling\n",
    "    - 在其他语言中也被称之为serialization，marshalling，flattening等等，都是一个意思。\n",
    "    \n",
    "#### 序列化的好处：\n",
    "    - 持久保存状态：需知一个软件/程序的执行就在处理一系列状态的变化，在编程语言中，'状态'会以各种各样有结构的数据类型(也可简单的理解为变量)的形式被保存在内存中。内存是无法永久保存数据的，当程序运行了一段时间，我们断电或者重启程序，内存中关于这个程序的之前一段时间的数据（有结构）都被清空了。在断电或重启程序之前将程序当前内存中所有的数据都保存下来（保存到文件中），以便于下次程序执行能够从文件中载入之前的数据，然后继续执行，这就是序列化。具体的来说，你玩使命召唤闯到了第13关，你保存游戏状态，关机走人，下次再玩，还能从上次的位置开始继续闯关。或如，虚拟机状态的挂起等。\n",
    "    - 跨平台数据交互：序列化之后，不仅可以把序列化后的内容写入磁盘，还可以通过网络传输到别的机器上，如果收发的双方约定好实用一种序列化的格式，那么便打破了平台/语言差异化带来的限制，实现了跨平台数据交互。反过来，把变量内容从序列化的对象重新读到内存里称之为反序列化，即unpickling。\n",
    "\n",
    "### json：\n",
    "  - JSON(JavaScript Object Notation) 是一种轻量级的数据交换格式。\n",
    "  - json模块主要用于处理json格式的数据，可以将json格式的数据转化为python的字典，便于python处理。\n",
    "  - 同时也可以将python的字典或列表等对象转化为json格式的数据，便于跨平台或跨语言进行数据交互。\n",
    "\n",
    "### pickle：\n",
    "  - pickle模块实现了基本的数据序列和反序列化，和json的功能类似。\n",
    "  - 通过pickle模块的序列化操作我们能够将程序中运行的对象信息保存到文件中去，永久存储，也可以简单的将字符进行序列化\n",
    "  - 通过pickle模块的反序列化操作，我们能够从文件中创建上一次程序保存的对象，也可以将字符进行反序列化。\n",
    "  - 和json不同的是：json 更适合跨语言 可以处理字符串，基本数据类型；pickle python专有,更适合处理复杂类型的序列化\n",
    "  \n",
    "### shelve：\n",
    "  - shelve模块比pickle模块简单，只有一个open函数，返回类似字典的对象，可读可写;key必须为字符串，而值可以是python所支持的数据类型。"
   ]
  },
  {
   "cell_type": "markdown",
   "metadata": {},
   "source": [
    "## calendar\n",
    "- 跟日历相关的模块"
   ]
  },
  {
   "cell_type": "code",
   "execution_count": 2,
   "metadata": {
    "collapsed": true
   },
   "outputs": [],
   "source": [
    "# 使用需要先导入\n",
    "import calendar"
   ]
  },
  {
   "cell_type": "code",
   "execution_count": 4,
   "metadata": {},
   "outputs": [
    {
     "name": "stdout",
     "output_type": "stream",
     "text": [
      "<class 'str'>\n"
     ]
    }
   ],
   "source": [
    "# calendar：　获取一年的日历字符串\n",
    "# 参数\n",
    "# w = 每个日期之间的间隔字符数\n",
    "# l = 每周所占用的行数\n",
    "# c = 每个月之间的间隔字符数\n",
    "cal = calendar.calendar(2017)\n",
    "print(type(cal))\n",
    "# print(cal)"
   ]
  },
  {
   "cell_type": "code",
   "execution_count": 5,
   "metadata": {},
   "outputs": [
    {
     "name": "stdout",
     "output_type": "stream",
     "text": [
      "                                 2017\n",
      "\n",
      "      January                  February                  March\n",
      "Mo Tu We Th Fr Sa Su     Mo Tu We Th Fr Sa Su     Mo Tu We Th Fr Sa Su\n",
      "                   1            1  2  3  4  5            1  2  3  4  5\n",
      " 2  3  4  5  6  7  8      6  7  8  9 10 11 12      6  7  8  9 10 11 12\n",
      " 9 10 11 12 13 14 15     13 14 15 16 17 18 19     13 14 15 16 17 18 19\n",
      "16 17 18 19 20 21 22     20 21 22 23 24 25 26     20 21 22 23 24 25 26\n",
      "23 24 25 26 27 28 29     27 28                    27 28 29 30 31\n",
      "30 31\n",
      "\n",
      "       April                     May                      June\n",
      "Mo Tu We Th Fr Sa Su     Mo Tu We Th Fr Sa Su     Mo Tu We Th Fr Sa Su\n",
      "                1  2      1  2  3  4  5  6  7               1  2  3  4\n",
      " 3  4  5  6  7  8  9      8  9 10 11 12 13 14      5  6  7  8  9 10 11\n",
      "10 11 12 13 14 15 16     15 16 17 18 19 20 21     12 13 14 15 16 17 18\n",
      "17 18 19 20 21 22 23     22 23 24 25 26 27 28     19 20 21 22 23 24 25\n",
      "24 25 26 27 28 29 30     29 30 31                 26 27 28 29 30\n",
      "\n",
      "        July                    August                 September\n",
      "Mo Tu We Th Fr Sa Su     Mo Tu We Th Fr Sa Su     Mo Tu We Th Fr Sa Su\n",
      "                1  2         1  2  3  4  5  6                  1  2  3\n",
      " 3  4  5  6  7  8  9      7  8  9 10 11 12 13      4  5  6  7  8  9 10\n",
      "10 11 12 13 14 15 16     14 15 16 17 18 19 20     11 12 13 14 15 16 17\n",
      "17 18 19 20 21 22 23     21 22 23 24 25 26 27     18 19 20 21 22 23 24\n",
      "24 25 26 27 28 29 30     28 29 30 31              25 26 27 28 29 30\n",
      "31\n",
      "\n",
      "      October                  November                 December\n",
      "Mo Tu We Th Fr Sa Su     Mo Tu We Th Fr Sa Su     Mo Tu We Th Fr Sa Su\n",
      "                   1            1  2  3  4  5                  1  2  3\n",
      " 2  3  4  5  6  7  8      6  7  8  9 10 11 12      4  5  6  7  8  9 10\n",
      " 9 10 11 12 13 14 15     13 14 15 16 17 18 19     11 12 13 14 15 16 17\n",
      "16 17 18 19 20 21 22     20 21 22 23 24 25 26     18 19 20 21 22 23 24\n",
      "23 24 25 26 27 28 29     27 28 29 30              25 26 27 28 29 30 31\n",
      "30 31\n",
      "\n"
     ]
    }
   ],
   "source": [
    "cal = calendar.calendar(2017, l=0, c=5)\n",
    "print(cal)"
   ]
  },
  {
   "cell_type": "code",
   "execution_count": 6,
   "metadata": {},
   "outputs": [
    {
     "data": {
      "text/plain": [
       "True"
      ]
     },
     "execution_count": 6,
     "metadata": {},
     "output_type": "execute_result"
    }
   ],
   "source": [
    "# isleap: 判断某一年是否闰年\n",
    "calendar.isleap(2000)"
   ]
  },
  {
   "cell_type": "code",
   "execution_count": 12,
   "metadata": {},
   "outputs": [
    {
     "name": "stdout",
     "output_type": "stream",
     "text": [
      "29\n",
      "-1\n",
      "Help on function leapdays in module calendar:\n",
      "\n",
      "leapdays(y1, y2)\n",
      "    Return number of leap years in range [y1, y2).\n",
      "    Assume y1 <= y2.\n",
      "\n"
     ]
    }
   ],
   "source": [
    "# leapdays: 获取指定年份之间的闰年的个数\n",
    "print(calendar.leapdays(1901, 2018))\n",
    "print(calendar.leapdays(2001, 1998))\n",
    "help(calendar.leapdays)"
   ]
  },
  {
   "cell_type": "code",
   "execution_count": 13,
   "metadata": {},
   "outputs": [
    {
     "name": "stdout",
     "output_type": "stream",
     "text": [
      "     March 2018\n",
      "Mo Tu We Th Fr Sa Su\n",
      "          1  2  3  4\n",
      " 5  6  7  8  9 10 11\n",
      "12 13 14 15 16 17 18\n",
      "19 20 21 22 23 24 25\n",
      "26 27 28 29 30 31\n",
      "\n"
     ]
    }
   ],
   "source": [
    "# month（） 获取某个月的日历字符串\n",
    "# 格式:calendar.month(年，月)\n",
    "# 回值：月日历的字符串\n",
    "m3 = calendar.month(2018, 3)\n",
    "print(m3)"
   ]
  },
  {
   "cell_type": "code",
   "execution_count": 14,
   "metadata": {},
   "outputs": [
    {
     "name": "stdout",
     "output_type": "stream",
     "text": [
      "2\n",
      "31\n"
     ]
    }
   ],
   "source": [
    "# monthrange（） 获取一个月的周几开始即和天数\n",
    "# 格式：calendar.monthrange(年,月)\n",
    "# 回值：元组(周几开始,总天数)\n",
    "# 注意：周默认 0 -6 表示周一到周天\n",
    "w,t = calendar.monthrange(2017, 3)\n",
    "print(w)\n",
    "print(t)"
   ]
  },
  {
   "cell_type": "code",
   "execution_count": 15,
   "metadata": {},
   "outputs": [
    {
     "name": "stdout",
     "output_type": "stream",
     "text": [
      "<class 'list'>\n",
      "[[0, 0, 0, 1, 2, 3, 4], [5, 6, 7, 8, 9, 10, 11], [12, 13, 14, 15, 16, 17, 18], [19, 20, 21, 22, 23, 24, 25], [26, 27, 28, 29, 30, 31, 0]]\n"
     ]
    }
   ],
   "source": [
    "# monthcalendar() 返回一个月每天的矩阵列表\n",
    "# 格式：calendar.monthcalendar(年，月)\n",
    "# 回值：二级列表\n",
    "# 注意：矩阵中没有天数用0表示\n",
    "m = calendar.monthcalendar(2018, 3)\n",
    "print(type(m))\n",
    "print(m)"
   ]
  },
  {
   "cell_type": "code",
   "execution_count": 16,
   "metadata": {},
   "outputs": [
    {
     "name": "stdout",
     "output_type": "stream",
     "text": [
      "Help on method pryear in module calendar:\n",
      "\n",
      "pryear(theyear, w=0, l=0, c=6, m=3) method of calendar.TextCalendar instance\n",
      "    Print a year's calendar.\n",
      "\n"
     ]
    }
   ],
   "source": [
    "# prcal: print calendar 直接打印日历\n",
    "#calendar.prcal(2018)\n",
    "help(calendar.prcal)"
   ]
  },
  {
   "cell_type": "code",
   "execution_count": 17,
   "metadata": {},
   "outputs": [
    {
     "name": "stdout",
     "output_type": "stream",
     "text": [
      "     March 2018\n",
      "Mo Tu We Th Fr Sa Su\n",
      "          1  2  3  4\n",
      " 5  6  7  8  9 10 11\n",
      "12 13 14 15 16 17 18\n",
      "19 20 21 22 23 24 25\n",
      "26 27 28 29 30 31\n"
     ]
    }
   ],
   "source": [
    "# prmonth() 直接打印整个月的日历\n",
    "# 格式：calendar.prmonth(年，月)\n",
    "# 返回值：无\n",
    "calendar.prmonth(2018, 3)"
   ]
  },
  {
   "cell_type": "code",
   "execution_count": 19,
   "metadata": {},
   "outputs": [
    {
     "data": {
      "text/plain": [
       "2"
      ]
     },
     "execution_count": 19,
     "metadata": {},
     "output_type": "execute_result"
    }
   ],
   "source": [
    "# weekday() 获取周几\n",
    "# 格式:calendar.weekday(年，月，日)\n",
    "# 返回值:周几对应的数字\n",
    "calendar.weekday(2018, 3, 28)"
   ]
  },
  {
   "cell_type": "markdown",
   "metadata": {},
   "source": [
    "## time模块\n",
    "### 时间戳\n",
    "- 一个时间表示，根据不同语言，可以是整数或者浮点数\n",
    "- 是从1970年1月1日0时0分0秒到现在经历的秒数\n",
    "- 如果表示的时间是1970年以前或者太遥远的未来，可能出现异常\n",
    "- 32位操作系统能够支持到2038年\n",
    "\n",
    "### UTC时间\n",
    "- UTC又称为世界协调时间，以英国的格林尼治天文所在地区的时间作为参考的时间，也叫做世界标准时间。\n",
    "- 中国时间是 UTC+8 东八区\n",
    "\n",
    "### 夏令时\n",
    "- 夏令时就是在夏天的时候将时间调快一小时，本意是督促大家早睡早起节省蜡烛！ 每天变成25个小时，本质没变还是24小时\n",
    "\n",
    "### 时间元组\n",
    "- 一个包含时间内容的普通元组\n",
    "\n",
    "\n",
    "    索引      内容    属性            值\n",
    "\n",
    "    0       年       tm_year     2015\n",
    "    1       月       tm_mon      1～12\n",
    "    2       日       tm_mday     1～31\n",
    "    3       时       tm_hour     0～23\n",
    "    4       分       tm_min      0～59\n",
    "    5       秒       tm_sec      0～61  60表示闰秒  61保留值\n",
    "    6       周几     tm_wday     0～6\n",
    "    7       第几天    tm_yday     1～366\n",
    "    8       夏令时    tm_isdst    0，1，-1（表示夏令时）"
   ]
  },
  {
   "cell_type": "code",
   "execution_count": 20,
   "metadata": {
    "collapsed": true
   },
   "outputs": [],
   "source": [
    "# 需要单独导入\n",
    "import time"
   ]
  },
  {
   "cell_type": "code",
   "execution_count": 22,
   "metadata": {},
   "outputs": [
    {
     "name": "stdout",
     "output_type": "stream",
     "text": [
      "0\n",
      "-28800\n"
     ]
    }
   ],
   "source": [
    "# 时间模块的属性\n",
    "# timezone: 当前时区和UTC时间相差的秒数，在没有夏令时的情况下的间隔,东八区的是 -28800\n",
    "# altzone  获取当前时区与UTC时间相差的秒数，在有夏令时的情况下，\n",
    "# daylight 测当前是否是夏令时时间状态, 0 表示是\n",
    "print(time.daylight)\n",
    "print(time.timezone)"
   ]
  },
  {
   "cell_type": "code",
   "execution_count": 23,
   "metadata": {},
   "outputs": [
    {
     "data": {
      "text/plain": [
       "1539999935.8277242"
      ]
     },
     "execution_count": 23,
     "metadata": {},
     "output_type": "execute_result"
    }
   ],
   "source": [
    "# 得到时间戳\n",
    "time.time()"
   ]
  },
  {
   "cell_type": "code",
   "execution_count": 24,
   "metadata": {},
   "outputs": [
    {
     "name": "stdout",
     "output_type": "stream",
     "text": [
      "9\n"
     ]
    }
   ],
   "source": [
    "# localtime， 得到当前时间的时间结构\n",
    "# 可以通过点号操作符得到相应的属性元素的内容\n",
    "t = time.localtime()\n",
    "print(t.tm_hour)"
   ]
  },
  {
   "cell_type": "code",
   "execution_count": 25,
   "metadata": {},
   "outputs": [
    {
     "name": "stdout",
     "output_type": "stream",
     "text": [
      "<class 'str'>\n",
      "Sat Oct 20 09:46:10 2018\n"
     ]
    }
   ],
   "source": [
    "#asctime() 返回元组的正常字符串化之后的时间格式 \n",
    "# 格式：time.asctime（时间元组）\n",
    "# 返回值:字符串 Tue Jun  6 11:11:00 2017\n",
    "t = time.localtime()\n",
    "\n",
    "tt = time.asctime(t)\n",
    "print(type(tt))\n",
    "print(tt)"
   ]
  },
  {
   "cell_type": "code",
   "execution_count": 26,
   "metadata": {},
   "outputs": [
    {
     "name": "stdout",
     "output_type": "stream",
     "text": [
      "<class 'str'>\n",
      "Sat Oct 20 09:46:20 2018\n"
     ]
    }
   ],
   "source": [
    "# ctime: 获取字符串化的当前时间\n",
    "t = time.ctime()\n",
    "print(type(t))\n",
    "print(t)"
   ]
  },
  {
   "cell_type": "code",
   "execution_count": 27,
   "metadata": {},
   "outputs": [
    {
     "name": "stdout",
     "output_type": "stream",
     "text": [
      "<class 'float'>\n",
      "1539999990.0\n"
     ]
    }
   ],
   "source": [
    "# mktime() 使用时间元组获取对应的时间戳\n",
    "# 格式：time.mktime（时间元组）\n",
    "# 返回值：浮点数时间戳\n",
    "\n",
    "lt = time.localtime()\n",
    "ts = time.mktime(lt)\n",
    "print(type(ts))\n",
    "print(ts)"
   ]
  },
  {
   "cell_type": "code",
   "execution_count": null,
   "metadata": {
    "collapsed": true
   },
   "outputs": [],
   "source": [
    "# clock: 获取cpu时间， 3.0-3.3版本直接使用, 3.6调用有问题"
   ]
  },
  {
   "cell_type": "code",
   "execution_count": 28,
   "metadata": {},
   "outputs": [
    {
     "name": "stdout",
     "output_type": "stream",
     "text": [
      "0\n",
      "1\n",
      "2\n"
     ]
    }
   ],
   "source": [
    "# sleep: 使程序进入睡眠，n秒后继续\n",
    "for i in range(3):\n",
    "    print(i)\n",
    "    time.sleep(1)"
   ]
  },
  {
   "cell_type": "code",
   "execution_count": 33,
   "metadata": {},
   "outputs": [
    {
     "name": "stdout",
     "output_type": "stream",
     "text": [
      "0.0008120000000000349\n"
     ]
    }
   ],
   "source": [
    "# windows下正确\n",
    "def p():\n",
    "    time.sleep(2.6)\n",
    "    \n",
    "t0 = time.clock()\n",
    "p()\n",
    "t1 = time.clock()\n",
    "\n",
    "print(t1 - t0)"
   ]
  },
  {
   "cell_type": "code",
   "execution_count": 34,
   "metadata": {},
   "outputs": [
    {
     "name": "stdout",
     "output_type": "stream",
     "text": [
      "2018年10月20日 09:49\n"
     ]
    }
   ],
   "source": [
    "# strftime:将时间元组转化为自定义的字符串格式\n",
    "'''\n",
    "格式  含义  备注\n",
    "%a  本地（locale）简化星期名称    \n",
    "%A  本地完整星期名称    \n",
    "%b  本地简化月份名称    \n",
    "%B  本地完整月份名称    \n",
    "%c  本地相应的日期和时间表示    \n",
    "%d  一个月中的第几天（01 - 31）   \n",
    "%H  一天中的第几个小时（24 小时制，00 - 23）   \n",
    "%I  一天中的第几个小时（12 小时制，01 - 12）   \n",
    "%j  一年中的第几天（001 - 366）  \n",
    "%m  月份（01 - 12） \n",
    "%M  分钟数（00 - 59）    \n",
    "%p  本地 am 或者 pm 的相应符    注1\n",
    "%S  秒（01 - 61）  注2\n",
    "%U  一年中的星期数（00 - 53 星期天是一个星期的开始）第一个星期天之前的所有天数都放在第 0 周   注3\n",
    "%w  一个星期中的第几天（0 - 6，0 是星期天） 注3\n",
    "%W  和 %U 基本相同，不同的是 %W 以星期一为一个星期的开始  \n",
    "%x  本地相应日期  \n",
    "%X  本地相应时间  \n",
    "%y  去掉世纪的年份（00 - 99）    \n",
    "%Y  完整的年份   \n",
    "%z  用 +HHMM 或 -HHMM 表示距离格林威治的时区偏移（H 代表十进制的小时数，M 代表十进制的分钟数）      \n",
    "%%  %号本身\n",
    "'''\n",
    "# 把时间表示成， 2018年3月26日 21:05\n",
    "t = time.localtime()\n",
    "ft = time.strftime(\"%Y年%m月%d日 %H:%M\" , t)\n",
    "print(ft)"
   ]
  },
  {
   "cell_type": "markdown",
   "metadata": {},
   "source": [
    "## datetime模块\n",
    "- datetinme提供日期和时间的运算和表示\n",
    "- 提供比较好用的时间而已\n",
    "\n",
    "### 类定义\n",
    "    class datetime.datetime(year, month, day[, hour\n",
    "          [, minute\n",
    "          [, second\n",
    "          [, microsecond\n",
    "          [, tzinfo]]]]])\n",
    "\n",
    "### The year, month and day arguments are required.\n",
    "       MINYEAR <= year <= MAXYEAR\n",
    "       1 <= month <= 12\n",
    "       1 <= day <= n\n",
    "       0 <= hour < 24\n",
    "       0 <= minute < 60\n",
    "       0 <= second < 60\n",
    "       0 <= microsecond < 10**\n",
    "       \n",
    "### 类方法\n",
    "      datetime.today(): 返回当前本地datetime.随着 tzinfo None. datetime.fromtimestamp(time.time()).\n",
    "      datetime.now([tz]): 返回当前本地日期和时间, 如果可选参数tz为None或没有详细说明,这个方法会像today(). \n",
    "      datetime.utcnow(): 返回当前的UTC日期和时间, 如果tzinfo None ,那么与now()类似. \n",
    "      datetime.fromtimestamp(timestamp[, tz]): 根据时间戳返回本地的日期和时间.tz指定时区.\n",
    "      datetime.utcfromtimestamp(timestamp): 根据时间戳返回 UTC datetime. \n",
    "      datetime.fromordinal(ordinal): 根据Gregorian ordinal 返回datetime. \n",
    "      datetime.combine(date, time): 根据date和time返回一个新的datetime. \n",
    "      datetime.strptime(date_string, format): 根据date_string和format返回一个datetime.\n",
    "      datetime.timedelta(hours=4,...):表示一个时间间隔\n",
    "\n",
    "### 实例方法\n",
    "      datetime.date(): 返回相同年月日的date对象. \n",
    "      datetime.time(): 返回相同时分秒微秒的time对象. \n",
    "      datetime.replace(kw): kw in [year, month, day, hour, minute, second, microsecond, tzinfo], 与date类似. \n",
    "      \n",
    "### 类属性\n",
    "      datetime.min: datetime(MINYEAR, 1, 1). \n",
    "      datetime.max: datetime(MAXYEAR, 12, 31, 23, 59, 59, 999999).\n",
    "\n",
    "### 实例属性(read-only)\n",
    "      datetime.year: 1 至 9999 \n",
    "      datetime.month: 1 至 12 \n",
    "      datetime.day: 1 至 n \n",
    "      datetime.hour: In range(24). 0 至 23 \n",
    "      datetime.minute: In range(60). \n",
    "      datetime.second: In range(60). \n",
    "      datetime.microsecond: In range(1000000). `\n"
   ]
  },
  {
   "cell_type": "code",
   "execution_count": 35,
   "metadata": {
    "collapsed": true
   },
   "outputs": [],
   "source": [
    "import datetime"
   ]
  },
  {
   "cell_type": "code",
   "execution_count": 61,
   "metadata": {},
   "outputs": [
    {
     "name": "stdout",
     "output_type": "stream",
     "text": [
      "2018-10-20 10:36:44.424556\n"
     ]
    }
   ],
   "source": [
    "from datetime import datetime as dt\n",
    "print(dt.now())"
   ]
  },
  {
   "cell_type": "code",
   "execution_count": 36,
   "metadata": {},
   "outputs": [
    {
     "name": "stdout",
     "output_type": "stream",
     "text": [
      "2018-03-26\n",
      "26\n",
      "2018\n",
      "3\n"
     ]
    }
   ],
   "source": [
    "# datetime常见属性\n",
    "# datetime.date: 一个理想和的日期，提供year, month, day属性\n",
    "dt = datetime.date(2018, 3,26)\n",
    "print(dt)\n",
    "print(dt.day)\n",
    "print(dt.year)\n",
    "print(dt.month)\n",
    "\n",
    "# datetime.time: 提供一个理想和的时间， 居于哦hour， minute，sec，microsec等内容\n",
    "# datetime.datetime: 提供日期跟时间的组合\n",
    "# datetime.timedelta: 提供一个时间差，时间长度"
   ]
  },
  {
   "cell_type": "code",
   "execution_count": 38,
   "metadata": {},
   "outputs": [
    {
     "name": "stdout",
     "output_type": "stream",
     "text": [
      "2018-03-26 00:00:00\n",
      "2018-10-20 09:54:17.902217\n",
      "2018-10-20 09:54:17.902421\n",
      "2018-10-20 09:54:17.902608\n"
     ]
    }
   ],
   "source": [
    "# datetime.datetime\n",
    "from datetime import datetime\n",
    "# 常用类方法：\n",
    "# today： \n",
    "# now\n",
    "# utcnow\n",
    "# fromtimestamp： 从时间戳中返回本地时间\n",
    "dt = datetime(2018, 3, 26)\n",
    "print(dt)\n",
    "print(dt.today())\n",
    "print(dt.now())\n",
    "\n",
    "print(dt.fromtimestamp(time.time()))"
   ]
  },
  {
   "cell_type": "code",
   "execution_count": 41,
   "metadata": {},
   "outputs": [
    {
     "name": "stdout",
     "output_type": "stream",
     "text": [
      "2018-10-20 09:55:33\n",
      "2018-10-20 13:55:33\n"
     ]
    }
   ],
   "source": [
    "# datetime.timedelta \n",
    "# 表示一个时间间隔\n",
    "from datetime import datetime, timedelta\n",
    "\n",
    "t1 = datetime.now()\n",
    "print( t1.strftime(\"%Y-%m-%d %H:%M:%S\"))\n",
    "# td表示以小时的时间长度\n",
    "add1 = timedelta(hours=4)\n",
    "# 当前时间加上时间间隔后，把得到的一个小时后的时间格式化输出\n",
    "print( (t1 + add1).strftime(\"%Y-%m-%d %H:%M:%S\"))"
   ]
  },
  {
   "cell_type": "markdown",
   "metadata": {},
   "source": [
    "## timeit 模块"
   ]
  },
  {
   "cell_type": "code",
   "execution_count": 43,
   "metadata": {},
   "outputs": [
    {
     "name": "stdout",
     "output_type": "stream",
     "text": [
      "3.603426694869995\n"
     ]
    }
   ],
   "source": [
    "# timeit-时间测量工具,Linux有效\n",
    "# 测量程序运行时间间隔实验\n",
    "\n",
    "def p():\n",
    "    time.sleep(3.6)\n",
    "    \n",
    "t1 = time.time()\n",
    "p()\n",
    "t2 = time.time()\n",
    "print(t2 - t1)"
   ]
  },
  {
   "cell_type": "code",
   "execution_count": 50,
   "metadata": {},
   "outputs": [
    {
     "name": "stdout",
     "output_type": "stream",
     "text": [
      "7.039981558999898\n",
      "2.646910740000294\n",
      "[2.6195404390000476, 2.6369597969996903, 2.6217752100001235]\n"
     ]
    }
   ],
   "source": [
    "import timeit\n",
    "# 生成列表两种方法代码的比较\n",
    "# 如果单纯比较生成一个列表的时间，可能很难实现,所以需要十万次的执行\n",
    "\n",
    "# 先将两段代码,当做字符串赋值给c1,c2\n",
    "# 然后使用timeit.timeit()函数测量执行c1,c2代码100000次所花的时间，然后进行比较\n",
    "\n",
    "# timeit 用于测量小代码片段执行时间的工具。\n",
    "# Tool for measuring execution time of small code snippets.\n",
    "c1 = '''\n",
    "sum = []\n",
    "for i in range(1000):\n",
    "    sum.append(i)\n",
    "'''\n",
    "c2 = \"[i for i in range(1000)]\"\n",
    "\n",
    "# 测量代码c1执行100000次运行结果\n",
    "t1 = timeit.timeit(stmt=c1, number=100000)\n",
    "\n",
    "# 利用timeit调用代码，执行100000次，查看c2运行时间\n",
    "t2 = timeit.timeit(stmt=c2, number=100000)\n",
    "\n",
    "# 重复3次，默认3次\n",
    "t3 = timeit.repeat(stmt=c2, number=100000)   \n",
    "\n",
    "print(t1)\n",
    "print(t2)\n",
    "print(t3)"
   ]
  },
  {
   "cell_type": "code",
   "execution_count": 52,
   "metadata": {},
   "outputs": [
    {
     "name": "stdout",
     "output_type": "stream",
     "text": [
      "Help on function timeit in module timeit:\n",
      "\n",
      "timeit(stmt='pass', setup='pass', timer=<built-in function perf_counter>, number=1000000, globals=None)\n",
      "    Convenience function to create Timer object and call timeit method.\n",
      "\n",
      "Help on function repeat in module timeit:\n",
      "\n",
      "repeat(stmt='pass', setup='pass', timer=<built-in function perf_counter>, repeat=3, number=1000000, globals=None)\n",
      "    Convenience function to create Timer object and call repeat method.\n",
      "\n"
     ]
    }
   ],
   "source": [
    "help(timeit.timeit)\n",
    "help(timeit.repeat)"
   ]
  },
  {
   "cell_type": "code",
   "execution_count": 58,
   "metadata": {},
   "outputs": [
    {
     "name": "stdout",
     "output_type": "stream",
     "text": [
      "Repeat for 0\n",
      "Repeat for 1\n",
      "Repeat for 0\n",
      "Repeat for 1\n",
      "Repeat for 0\n",
      "Repeat for 1\n",
      "0.001297450000038225\n"
     ]
    }
   ],
   "source": [
    "# timeit 也可以执行一个函数，来测量一个函数的执行时间 \n",
    "def doIt():\n",
    "    num = 2\n",
    "    for i in range(num):\n",
    "        print(\"Repeat for {0}\".format(i))\n",
    "        \n",
    "# 执行函数，重复10次\n",
    "t = timeit.timeit(stmt=doIt, number=3)\n",
    "print(t)"
   ]
  },
  {
   "cell_type": "code",
   "execution_count": 60,
   "metadata": {},
   "outputs": [
    {
     "name": "stdout",
     "output_type": "stream",
     "text": [
      "Repeat for 0\n",
      "Repeat for 1\n",
      "Repeat for 2\n",
      "Repeat for 0\n",
      "Repeat for 1\n",
      "Repeat for 2\n",
      "Repeat for 0\n",
      "Repeat for 1\n",
      "Repeat for 2\n",
      "0.008970422999482253\n"
     ]
    }
   ],
   "source": [
    "# 执行doIt(num)这段函数，3次，返回时间长\n",
    "# setup负责把环境变量准备好，setup负责组装代码片段，便于操作片段内的变化\n",
    "# 实际相当于给timeit创造了一个小运行环境\n",
    "\n",
    "s1 = '''\n",
    "def doIt(num):\n",
    "    for i in range(num):\n",
    "        print(\"Repeat for {0}\".format(i))\n",
    "\n",
    "'''\n",
    "s2 = \"num=3\"\n",
    "\n",
    "\n",
    "t = timeit.timeit(\"doIt(num)\", setup=s1+s2, number=3)\n",
    "print(t)"
   ]
  },
  {
   "cell_type": "markdown",
   "metadata": {},
   "source": [
    "## os - 操作系统相关¶\n",
    "- 跟操作系统相关，主要是文件操作\n",
    "- 于系统相关的操作，主要包含在三个模块里\n",
    "  - os， 操作系统目录相关\n",
    "  - os.path, 系统路径相关操作\n",
    "- shutil， 高级文件操作，目录树的操作，文件赋值，删除，移动\n",
    "- 路径：\n",
    "  - 绝对路径： 总是从根目录上开始\n",
    "  - 相对路径： 基本以当前环境为开始的一个相对的地方"
   ]
  },
  {
   "cell_type": "markdown",
   "metadata": {},
   "source": [
    "### os 模块"
   ]
  },
  {
   "cell_type": "code",
   "execution_count": 69,
   "metadata": {
    "collapsed": true
   },
   "outputs": [],
   "source": [
    "import os"
   ]
  },
  {
   "cell_type": "code",
   "execution_count": 63,
   "metadata": {},
   "outputs": [
    {
     "name": "stdout",
     "output_type": "stream",
     "text": [
      "/home/tlxy/PycharmProjects/Blue_Sunday\n"
     ]
    }
   ],
   "source": [
    "# getcwd() 获取当前的工作目录\n",
    "# 格式：os.getcwd()\n",
    "# 返回值：当前工作目录的字符串\n",
    "# 当前工作目录就是程序在进行文件相关操作，默认查找文件的目录\n",
    "\n",
    "mydir = os.getcwd()\n",
    "print(mydir)"
   ]
  },
  {
   "cell_type": "code",
   "execution_count": 64,
   "metadata": {},
   "outputs": [
    {
     "name": "stdout",
     "output_type": "stream",
     "text": [
      "/home/tlxy\n"
     ]
    }
   ],
   "source": [
    "# chdir() 改变当前的工作目录\n",
    "# change directory\n",
    "# 格式：os.chdir（路径）\n",
    "# 返回值：无\n",
    "\n",
    "os.chdir('/home/tlxy')\n",
    "mydir = os.getcwd()\n",
    "print(mydir)"
   ]
  },
  {
   "cell_type": "code",
   "execution_count": 65,
   "metadata": {},
   "outputs": [
    {
     "name": "stdout",
     "output_type": "stream",
     "text": [
      "['.viminfo', '.xsession-errors.old', '.sudo_as_admin_successful', '.bashrc', '.ICEauthority', '.sunpinyin', '图片', '.profile', '.conda', '.java', '.presage', '.pki', '.sogouinput', '.config', 'tulingxueyuan', '.astropy', '.Xdefaults', '.swo', '.gitconfig', '.bash_history', '.ssh', '.dmrc', '下载', 'Downloads', '.vboxclient-clipboard.pid', '.vboxclient-draganddrop.pid', '.PyCharm2017.3', '.bash_logout', '.gconf', '.swp', '.local', 'PycharmProjects', '.gnome2', 'java_error_in_PYCHARM_2922.log', '.xsession-errors', '.mozilla', '.jupyter', '.gnupg', '.ipynb_checkpoints', '.thumbnails', 'PythonNotebook2', '文档', '.cache', '.ipython', '.swn', '.git', '桌面', '.nano', '.vboxclient-seamless.pid', '.vboxclient-display.pid', '.xscreensaver', '.xinputrc', '.Xauthority']\n"
     ]
    }
   ],
   "source": [
    "# listdir() 获取一个目录中所有子目录和文件的名称列表\n",
    "#  格式:os.listdir(路径)\n",
    "#  返回值：所有子目录和文件名称的列表\n",
    "\n",
    "ld = os.listdir()\n",
    "print(ld)"
   ]
  },
  {
   "cell_type": "code",
   "execution_count": 71,
   "metadata": {},
   "outputs": [
    {
     "name": "stdout",
     "output_type": "stream",
     "text": [
      "None\n"
     ]
    }
   ],
   "source": [
    "# makedirs（） 递归创建文件夹\n",
    "# 格式：os.makedirs(递归路径)\n",
    "# 返回值：无\n",
    "#  递归路径：多个文件夹层层包含的路径就是递归路径 例如 a/b/c...\n",
    "\n",
    "os.chdir('/home/tlxy/PycharmProjects/')\n",
    "rst = os.makedirs(\"dana\")\n",
    "print(rst)"
   ]
  },
  {
   "cell_type": "code",
   "execution_count": 72,
   "metadata": {},
   "outputs": [
    {
     "name": "stdout",
     "output_type": "stream",
     "text": [
      "0\n",
      "0\n"
     ]
    }
   ],
   "source": [
    "# system() 运行系统shell命令\n",
    "# 格式：os.system(系统命令)\n",
    "#  返回值：打开一个shell或者终端界面\n",
    "# 一般推荐使用subprocess代替\n",
    "\n",
    "# ls是列出当前文件和文件夹的系统命令\n",
    "rst = os.system(\"ls\")\n",
    "print(rst)\n",
    "\n",
    "# 在当前目录下创建一个dana.haha 的文件\n",
    "rst = os.system(\"touch dana.haha\")\n",
    "print(rst)"
   ]
  },
  {
   "cell_type": "code",
   "execution_count": 73,
   "metadata": {},
   "outputs": [
    {
     "name": "stdout",
     "output_type": "stream",
     "text": [
      "/var/sw/anaconda3/bin:/home/tlxy/bin:/home/tlxy/.local/bin:/var/sw/anaconda3/bin:/usr/local/sbin:/usr/local/bin:/usr/sbin:/usr/bin:/sbin:/bin:/usr/games:/usr/local/games:/snap/bin\n"
     ]
    }
   ],
   "source": [
    "# getenv() 获取指定的系统环境变量值\n",
    "# 相应的还有putenv\n",
    "#  格式：os.getenv('环境变量名')\n",
    "#  返回值：指定环境变量名对应的值\n",
    "rst = os.getenv(\"PATH\")\n",
    "print(rst)"
   ]
  },
  {
   "cell_type": "code",
   "execution_count": null,
   "metadata": {
    "collapsed": true
   },
   "outputs": [],
   "source": [
    "# exit() 退出当前程序\n",
    "#  格式：exit()\n",
    "#  返回值:无"
   ]
  },
  {
   "cell_type": "markdown",
   "metadata": {},
   "source": [
    "### 值部分\n",
    "-   os.curdir: curretn dir,当前目录\n",
    "-   os.pardir: parent dir， 父亲目录\n",
    "-   os.sep: 当前系统的路径分隔符\n",
    "-   windows: \"\\\"\n",
    "-   linux: \"/\"\n",
    "-   os.linesep: 当前系统的换行符号\n",
    "-   windows: \"\\r\\n\"\n",
    "-   unix,linux,macos: \"\\n\"\n",
    "-   os.name： 当前系统名称\n",
    "-   windows： nt\n",
    "-   mac，unix，linux： posix"
   ]
  },
  {
   "cell_type": "code",
   "execution_count": 74,
   "metadata": {},
   "outputs": [
    {
     "name": "stdout",
     "output_type": "stream",
     "text": [
      "..\n",
      ".\n"
     ]
    }
   ],
   "source": [
    "print(os.pardir)\n",
    "print(os.curdir)"
   ]
  },
  {
   "cell_type": "code",
   "execution_count": 75,
   "metadata": {},
   "outputs": [
    {
     "name": "stdout",
     "output_type": "stream",
     "text": [
      "/\n",
      "\n",
      "\n"
     ]
    }
   ],
   "source": [
    "#   os.sep: 当前系统的路径分隔符： windows: \"\\\"    linux: \"/\"\n",
    "#   os.linesep: 当前系统的换行符号\n",
    "print(os.sep)\n",
    "print(os.linesep)"
   ]
  },
  {
   "cell_type": "code",
   "execution_count": 76,
   "metadata": {},
   "outputs": [
    {
     "name": "stdout",
     "output_type": "stream",
     "text": [
      "/home/tlxy/dana\n"
     ]
    }
   ],
   "source": [
    "# 在路径相关的操作中，不要手动拼写地址，因为手动拼写的路径可能不具有移植性\n",
    "path = \"/home/tlxy\" + \"/\" + \"dana\"\n",
    "print(path)"
   ]
  },
  {
   "cell_type": "code",
   "execution_count": 77,
   "metadata": {},
   "outputs": [
    {
     "name": "stdout",
     "output_type": "stream",
     "text": [
      "posix\n"
     ]
    }
   ],
   "source": [
    "# linux操作系统的名称是posix\n",
    "print(os.name)"
   ]
  },
  {
   "cell_type": "markdown",
   "metadata": {},
   "source": [
    "## os.path 模块， 跟路径相关的模块"
   ]
  },
  {
   "cell_type": "code",
   "execution_count": 79,
   "metadata": {
    "collapsed": true
   },
   "outputs": [],
   "source": [
    "import os.path as op"
   ]
  },
  {
   "cell_type": "code",
   "execution_count": 80,
   "metadata": {},
   "outputs": [
    {
     "name": "stdout",
     "output_type": "stream",
     "text": [
      "/home/tlxy/PycharmProjects\n"
     ]
    }
   ],
   "source": [
    "# abspath() 将路径转化为绝对路径\n",
    "# abselute 绝对\n",
    "#  格式:os.path.abspath('路径')\n",
    "#  返回值：路径的绝对路径形式\n",
    "\n",
    "# linux中\n",
    "# . 点号，代表当前目录\n",
    "# .. 双点，代表父目录\n",
    "absp = op.abspath(\".\")\n",
    "print(absp)"
   ]
  },
  {
   "cell_type": "code",
   "execution_count": 82,
   "metadata": {},
   "outputs": [
    {
     "name": "stdout",
     "output_type": "stream",
     "text": [
      "tlxy\n"
     ]
    }
   ],
   "source": [
    "# basename() 获取路径中的文件名部分\n",
    "#  格式:os.path.basename(路径)\n",
    "#  返回值：文件名字符串\n",
    "\n",
    "bn = op.basename(\"/home/tlxy\")\n",
    "print(bn)"
   ]
  },
  {
   "cell_type": "code",
   "execution_count": 83,
   "metadata": {},
   "outputs": [
    {
     "name": "stdout",
     "output_type": "stream",
     "text": [
      "/home/tlxy/dana.haha\n"
     ]
    }
   ],
   "source": [
    "# join() 将多个路径拼合成一个路径\n",
    "#  格式：os.path.join(路径1，路径2....)\n",
    "#  返回值：组合之后的新路径字符串\n",
    "\n",
    "bd = \"/home/tlxy\"\n",
    "fn = \"dana.haha\"\n",
    "\n",
    "p = op.join(bd, fn)\n",
    "print(p)"
   ]
  },
  {
   "cell_type": "code",
   "execution_count": 84,
   "metadata": {},
   "outputs": [
    {
     "name": "stdout",
     "output_type": "stream",
     "text": [
      "('/home/tlxy', 'dana.haha')\n",
      "/home/tlxy dana.haha\n"
     ]
    }
   ],
   "source": [
    "# split() 将路径切割为文件夹部分和当前文件部分\n",
    "#  格式:os.path.split（路径）\n",
    "#  返回值：路径和文件名组成的元组\n",
    "\n",
    "t = op.split(\"/home/tlxy/dana.haha\")\n",
    "print(t)\n",
    "\n",
    "d,p = op.split(\"/home/tlxy/dana.haha\")\n",
    "print(d, p)"
   ]
  },
  {
   "cell_type": "code",
   "execution_count": 88,
   "metadata": {},
   "outputs": [
    {
     "name": "stdout",
     "output_type": "stream",
     "text": [
      "False\n",
      "True\n"
     ]
    }
   ],
   "source": [
    "# isdir（） 检测是否是目录\n",
    "#  格式：os.path.isdir(路径)\n",
    "#  返回值：布尔值\n",
    "\n",
    "rst = op.isdir(\"/home/tlxy/dana.haha\")\n",
    "print(rst)\n",
    "rst = op.isdir(\"/home/tlxy/\")\n",
    "print(rst)"
   ]
  },
  {
   "cell_type": "code",
   "execution_count": 89,
   "metadata": {},
   "outputs": [
    {
     "data": {
      "text/plain": [
       "False"
      ]
     },
     "execution_count": 89,
     "metadata": {},
     "output_type": "execute_result"
    }
   ],
   "source": [
    "# exists() 检测文件或者目录是否存在\n",
    "#  格式：os.path.exists(路径)\n",
    "#  返回值:布尔值\n",
    "\n",
    "e = op.exists(\"/home/tlxy/haha\")\n",
    "e"
   ]
  },
  {
   "cell_type": "code",
   "execution_count": null,
   "metadata": {},
   "outputs": [],
   "source": [
    "# os模块是与操作系统交互的一个接口\n",
    "'''\n",
    "os.access(path, mode)           # 检验权限模式   \n",
    "os.chdir(path)                  # 改变当前工作目录\n",
    "os.chflags(path, flags)         # 设置路径的标记为数字标记。\n",
    "os.chmod(path, mode)            # 更改权限\n",
    "os.chown(path, uid, gid)        # 更改文件所有者\n",
    "os.chroot(path)                 # 改变当前进程的根目录\n",
    "os.close(fd)                    # 关闭文件描述符 fd\n",
    "os.closerange(fd_low, fd_high)  # 关闭所有文件描述符，从 fd_low (包含) 到 fd_high (不包含), 错误会忽略\n",
    "os.curdir                       # 返回当前目录：（'.'）\n",
    "os.dup(fd)                      # 复制文件描述符 fd\n",
    "os.dup2(fd, fd2)                # 将一个文件描述符 fd 复制到另一个 fd2\n",
    "os.environ                      # 获取系统环境变量\n",
    "os.fchdir(fd)                   # 通过文件描述符改变当前工作目录\n",
    "os.fchmod(fd, mode)             # 改变一个文件的访问权限，该文件由参数fd指定，参数mode是Unix下的文件访问权限。\n",
    "os.fchown(fd, uid, gid)         # 修改一个文件的所有权，这个函数修改一个文件的用户ID和用户组ID，该文件由文件描述符fd指定。\n",
    "os.fdatasync(fd)                # 强制将文件写入磁盘，该文件由文件描述符fd指定，但是不强制更新文件的状态信息。\n",
    "os.fdopen(fd[, mode[, bufsize]])  # 通过文件描述符 fd 创建一个文件对象，并返回这个文件对象\n",
    "os.fpathconf(fd, name)          # 返回一个打开的文件的系统配置信息。name为检索的系统配置的值，它也许是一个定义系统值的字符串，这些名字在很多标准中指定（POSIX.1, Unix 95, Unix 98, 和其它）。\n",
    "os.fstat(fd)                    # 返回文件描述符fd的状态，像stat()。\n",
    "os.fstatvfs(fd)                 # 返回包含文件描述符fd的文件的文件系统的信息，像 statvfs()\n",
    "os.fsync(fd)                    # 强制将文件描述符为fd的文件写入硬盘。\n",
    "os.ftruncate(fd, length)        # 裁剪文件描述符fd对应的文件, 所以它最大不能超过文件大小。\n",
    "os.getcwd()                     # 返回当前工作目录\n",
    "os.getcwdu()                    # 返回一个当前工作目录的Unicode对象\n",
    "os.isatty(fd)                   # 如果文件描述符fd是打开的，同时与tty(-like)设备相连，则返回true, 否则False。\n",
    "os.lchflags(path, flags)        # 设置路径的标记为数字标记，类似 chflags()，但是没有软链接\n",
    "os.lchmod(path, mode)           # 修改连接文件权限\n",
    "os.lchown(path, uid, gid)       # 更改文件所有者，类似 chown，但是不追踪链接。\n",
    "os.link(src, dst)               # 创建硬链接，名为参数 dst，指向参数 src\n",
    "os.listdir(path)                # 返回path指定的文件夹包含的文件或文件夹的名字的列表。\n",
    "os.lseek(fd, pos, how)          # 设置文件描述符 fd当前位置为pos, how方式修改: SEEK_SET 或者 0 设置从文件开始的计算的pos; SEEK_CUR或者 1 则从当前位置计算; os.SEEK_END或者2则从文件尾部开始. 在unix，Windows中有效\n",
    "os.lstat(path)                  # 像stat(),但是没有软链接\n",
    "os.linesep                      # 当前平台使用的行终止符，win下为\"\\t\\n\",Linux下为\"\\n\"\n",
    "os.major(device)                # 从原始的设备号中提取设备major号码 (使用stat中的st_dev或者st_rdev field)。\n",
    "os.makedev(major, minor)        # 以major和minor设备号组成一个原始设备号\n",
    "os.makedirs(path[, mode])       # 递归文件夹创建函数。像mkdir(), 但创建的所有intermediate-level文件夹需要包含子文件夹。\n",
    "os.minor(device)                # 从原始的设备号中提取设备minor号码 (使用stat中的st_dev或者st_rdev field )。\n",
    "os.mkdir(path[, mode])          # 以数字mode的mode创建一个名为path的文件夹.默认的 mode 是 0777 (八进制)。\n",
    "os.mkfifo(path[, mode])         # 创建命名管道，mode 为数字，默认为 0666 (八进制)\n",
    "os.mknod(filename[, mode=0600, device])  # 创建一个名为filename文件系统节点（文件，设备特别文件或者命名pipe）。\n",
    "os.open(file, flags[, mode])    # 打开一个文件，并且设置需要的打开选项，mode参数是可选的\n",
    "os.openpty()                    # 打开一个新的伪终端对。返回 pty 和 tty的文件描述符。\n",
    "os.pathconf(path, name)         # 返回相关文件的系统配置信息。\n",
    "os.pathsep                      # 用于分割文件路径的字符串\n",
    "os.pardir                       # 获取当前目录的父目录字符串名：('..')\n",
    "os.pipe()                       # 创建一个管道. 返回一对文件描述符(r, w) 分别为读和写\n",
    "os.popen(command[, mode[, bufsize]])  # 从一个 command 打开一个管道\n",
    "os.path.abspath(path)           # 返回path规范化的绝对路径\n",
    "os.path.split(path)             # 将path分割成目录和文件名二元组返回\n",
    "os.path.dirname(path)           # 返回path的目录。其实就是os.path.split(path)的第一个元素\n",
    "os.path.basename(path)          # 返回path最后的文件名。如何path以／或\\结尾，那么就会返回空值。即os.path.split(path)的第二个元素\n",
    "os.path.exists(path)            # 如果path存在，返回True；如果path不存在，返回False\n",
    "os.path.isabs(path)             # 如果path是绝对路径，返回True\n",
    "os.path.isfile(path)            # 如果path是一个存在的文件，返回True。否则返回False\n",
    "os.path.isdir(path)             # 如果path是一个存在的目录，则返回True。否则返回False\n",
    "os.path.join(path1[, path2[, ...]])  # 将多个路径组合后返回，第一个绝对路径之前的参数将被忽略\n",
    "os.path.getatime(path)          # 返回path所指向的文件或者目录的最后存取时间\n",
    "os.path.getmtime(path)          # 返回path所指向的文件或者目录的最后修改时间\n",
    "os.name                         # 字符串指示当前使用平台。win->'nt'; Linux->'posix'\n",
    "os.read(fd, n)                  # 从文件描述符 fd 中读取最多 n 个字节，返回包含读取字节的字符串，文件描述符 fd对应文件已达到结尾, 返回一个空字符串。\n",
    "os.readlink(path)               # 返回软链接所指向的文件\n",
    "os.remove(path)                 # 删除路径为path的文件。如果path 是一个文件夹，将抛出OSError; 查看下面的rmdir()删除一个 directory。\n",
    "os.removedirs(path)             # 递归删除目录。若目录为空，则删除，并递归到上一级目录，如若也为空，则删除，依此类推\n",
    "os.rename(src, dst)             # 重命名文件或目录，从 src 到 dst\n",
    "os.renames(old, new)            # 递归地对目录进行更名，也可以对文件进行更名。\n",
    "os.rmdir(path)                  # 删除path指定的空目录，如果目录非空，则抛出一个OSError异常。\n",
    "os.sep                          # 操作系统特定的路径分隔符，win下为\"\\\\\",Linux下为\"/\"\n",
    "os.stat(path)                   # 获取path指定的路径的信息，功能等同于C API中的stat()系统调用。\n",
    "os.stat_float_times([newvalue]) # 决定stat_result是否以float对象显示时间戳\n",
    "os.statvfs(path)                # 获取指定路径的文件系统统计信息\n",
    "os.symlink(src, dst)            # 创建一个软链接\n",
    "os.system(\"bash command\")       # 运行shell命令，直接显示\n",
    "os.tcgetpgrp(fd)                # 返回与终端fd（一个由os.open()返回的打开的文件描述符）关联的进程组\n",
    "os.tcsetpgrp(fd, pg)            # 设置与终端fd（一个由os.open()返回的打开的文件描述符）关联的进程组为pg。\n",
    "os.tempnam([dir[, prefix]])     # 返回唯一的路径名用于创建临时文件。\n",
    "os.tmpfile()                    # 返回一个打开的模式为(w+b)的文件对象 .这文件对象没有文件夹入口，没有文件描述符，将会自动删除。\n",
    "os.tmpnam()                     # 为创建一个临时文件返回一个唯一的路径\n",
    "os.ttyname(fd)                  # 返回一个字符串，它表示与文件描述符fd 关联的终端设备。如果fd 没有与终端设备关联，则引发一个异常。\n",
    "os.unlink(path)                 # 删除文件路径\n",
    "os.utime(path, times)           # 返回指定的path文件的访问和修改的时间。\n",
    "os.walk(top[, topdown=True[, onerror=None[, followlinks=False]]])  # 输出在文件夹中的文件名通过在树中游走，向上或者向下。\n",
    "os.write(fd, str)               # 写入字符串到文件描述符 fd中. 返回实际写入的字符串长度\n",
    "\n",
    "'''"
   ]
  },
  {
   "cell_type": "markdown",
   "metadata": {},
   "source": [
    "## shutil 模块\n",
    "- 高级的文件、文件夹、压缩包处理模块"
   ]
  },
  {
   "cell_type": "code",
   "execution_count": 90,
   "metadata": {
    "collapsed": true
   },
   "outputs": [],
   "source": [
    "import shutil"
   ]
  },
  {
   "cell_type": "code",
   "execution_count": 93,
   "metadata": {},
   "outputs": [
    {
     "name": "stdout",
     "output_type": "stream",
     "text": [
      "/home/tlxy/PycharmProjects/dana/haha.haha\n"
     ]
    }
   ],
   "source": [
    "# copy() 复制文件\n",
    "#  格式：shutil.copy(来源路径，目标路径)\n",
    "#  返回值：返回目标路径\n",
    "# 拷贝的同时，可以给文件重命名\n",
    "\n",
    "rst = shutil.copy(\"/home/tlxy/PycharmProjects/dana.haha\", \"/home/tlxy/PycharmProjects/dana/haha.haha\")\n",
    "print(rst)\n",
    "\n",
    "\n",
    "# copy2() 复制文件，保留元数据（文件信息）\n",
    "#  格式：shutil.copy2(来源路径，目标路径)\n",
    "#  返回值：返回目标路径\n",
    "#  注意：copy和copy2的唯一区别在于copy2复制文件时尽量保留元数据"
   ]
  },
  {
   "cell_type": "code",
   "execution_count": 94,
   "metadata": {},
   "outputs": [
    {
     "name": "stdout",
     "output_type": "stream",
     "text": [
      "/home/tlxy/PycharmProjects/dana/haha.haha\n"
     ]
    }
   ],
   "source": [
    "# copyfile()将一个文件中的内容复制（覆盖）到另外一个文件当中\n",
    "#  格式：shutil.copyfile（'源路径','目标路径')\n",
    "#  返回值：无\n",
    "\n",
    "rst = shutil.copyfile(\"/home/tlxy/PycharmProjects/dana.haha\", \"/home/tlxy/PycharmProjects/dana/haha.haha\")\n",
    "print(rst)"
   ]
  },
  {
   "cell_type": "code",
   "execution_count": 96,
   "metadata": {},
   "outputs": [
    {
     "name": "stdout",
     "output_type": "stream",
     "text": [
      "/home/tlxy/PycharmProjects/dana/dana.haha\n"
     ]
    }
   ],
   "source": [
    "# move() 移动文件/文件夹\n",
    "#  格式：shutil.move(源路径，目标路径)\n",
    "#  返回值：目标路径！\n",
    "rst  = shutil.move(\"/home/tlxy/PycharmProjects/dana.haha\", \"/home/tlxy/PycharmProjects/dana\")\n",
    "print(rst)"
   ]
  },
  {
   "cell_type": "markdown",
   "metadata": {},
   "source": [
    "## 归档和压缩\n",
    "- 归档： 把多个文件或者文件夹合并到一个文件当中\n",
    "- 压缩： 用算法把多个文件或者文件夹无损或者有损合并到一个文件当中"
   ]
  },
  {
   "cell_type": "code",
   "execution_count": null,
   "metadata": {
    "collapsed": true
   },
   "outputs": [],
   "source": [
    "# make_archive() 归档操作\n",
    "#  格式:shutil.make_archive('归档之后的目录和文件名','后缀','需要归档的文件夹')\n",
    "#  返回值：归档之后的地址\n",
    "\n",
    "#help(shutil.make_archive)\n",
    "\n",
    "# 是想得到一个叫做tuling.zip的归档文件\n",
    "rst = shutil.make_archive(\"/home/tlxy/tuling\", \"zip\", \"/home/tlxy/dana\")\n",
    "print(rst)"
   ]
  },
  {
   "cell_type": "code",
   "execution_count": null,
   "metadata": {
    "collapsed": true
   },
   "outputs": [],
   "source": [
    "# unpack_archive() 解包操作\n",
    "# 格式：shutil.unpack_archive('归档文件地址','解包之后的地址')\n",
    "# 返回值：解包之后的地址"
   ]
  },
  {
   "cell_type": "markdown",
   "metadata": {},
   "source": [
    "## zip - 压缩包\n",
    "- 名称叫 zipfile"
   ]
  },
  {
   "cell_type": "code",
   "execution_count": 97,
   "metadata": {
    "collapsed": true
   },
   "outputs": [],
   "source": [
    "import zipfile"
   ]
  },
  {
   "cell_type": "code",
   "execution_count": null,
   "metadata": {
    "collapsed": true
   },
   "outputs": [],
   "source": [
    "#zipfile.ZipFile(file[, mode[, compression[, allowZip64]]])\n",
    "# 创建一个ZipFile对象，表示一个zip文件。参数file表示文件的路径或类文件对象(file-like object)；参数mode指示打开zip文件的模式，默认值为’r’，表示读已经存在的zip文件，也可以为’w’或’a’，’w’表示新建一个zip文档或覆盖一个已经存在的zip文档，’a’表示将数据附加到一个现存的zip文档中。参数compression表示在写zip文档时使用的压缩方法，它的值可以是zipfile. ZIP_STORED 或zipfile. ZIP_DEFLATED。如果要操作的zip文件大小超过2G，应该将allowZip64设置为True。\n",
    "\n",
    "zf = zipfile.ZipFile(\"/home/tlxy/tuling.zip\")"
   ]
  },
  {
   "cell_type": "code",
   "execution_count": null,
   "metadata": {
    "collapsed": true
   },
   "outputs": [],
   "source": [
    "# ZipFile.getinfo(name):\n",
    "#  获取zip文档内指定文件的信息。返回一个zipfile.ZipInfo对象，它包括文件的详细信息。将在下面 具体介绍该对象。\n",
    "\n",
    "rst = zf.getinfo(\"dana.haha\")\n",
    "print(rst)"
   ]
  },
  {
   "cell_type": "code",
   "execution_count": null,
   "metadata": {
    "collapsed": true
   },
   "outputs": [],
   "source": [
    "# ZipFile.namelist()\n",
    "#  获取zip文档内所有文件的名称列表。\n",
    "\n",
    "nl = zf.namelist()\n",
    "print(nl)"
   ]
  },
  {
   "cell_type": "code",
   "execution_count": null,
   "metadata": {
    "collapsed": true
   },
   "outputs": [],
   "source": [
    "# ZipFile.extractall([path[, members[, pwd]]])\n",
    "#  解压zip文档中的所有文件到当前目录。参数members的默认值为zip文档内的所有文件名称列表，也可以自己设置，选择要解压的文件名称。\n",
    "\n",
    "rst = zf.extractall(\"/home/tlxy/dana\")"
   ]
  },
  {
   "cell_type": "code",
   "execution_count": null,
   "metadata": {
    "collapsed": true
   },
   "outputs": [],
   "source": [
    "print(rst)"
   ]
  },
  {
   "cell_type": "markdown",
   "metadata": {},
   "source": [
    "## random随机数\n",
    "- 随机生成0-1的小数，随机生成0-100的整数\n",
    "- 随机在列表中选一个\n",
    "- 随机打乱列表\n",
    "- help(random)\n",
    "- 所有的随机模块都是伪随机"
   ]
  },
  {
   "cell_type": "code",
   "execution_count": 99,
   "metadata": {
    "collapsed": true
   },
   "outputs": [],
   "source": [
    "import random"
   ]
  },
  {
   "cell_type": "code",
   "execution_count": 100,
   "metadata": {},
   "outputs": [
    {
     "name": "stdout",
     "output_type": "stream",
     "text": [
      "0.23954000155598787\n"
     ]
    }
   ],
   "source": [
    "# random() 获取0-1之间的随机小数\n",
    "#  格式：random.random()\n",
    "#  返回值：随机0-1之间的小数\n",
    "\n",
    "print(random.random())\n",
    "\n",
    "# 作业： 利用random函数，注意是函数，生成0-100直接的整数"
   ]
  },
  {
   "cell_type": "code",
   "execution_count": 101,
   "metadata": {},
   "outputs": [
    {
     "name": "stdout",
     "output_type": "stream",
     "text": [
      "['0haha', '1haha', '2haha', '3haha', '4haha', '5haha', '6haha', '7haha', '8haha', '9haha']\n",
      "0haha\n"
     ]
    }
   ],
   "source": [
    "# choice() 随机返回序列中的某个值\n",
    "#  格式：random.choice(序列)\n",
    "#  返回值：序列中的某个值\n",
    "\n",
    "l = [str(i)+\"haha\" for i in range(10)]\n",
    "print(l)\n",
    "rst = random.choice(l)\n",
    "print(rst)"
   ]
  },
  {
   "cell_type": "code",
   "execution_count": 102,
   "metadata": {},
   "outputs": [
    {
     "name": "stdout",
     "output_type": "stream",
     "text": [
      "[0, 1, 2, 3, 4, 5, 6, 7, 8, 9]\n",
      "[5, 2, 6, 4, 0, 8, 7, 1, 3, 9]\n"
     ]
    }
   ],
   "source": [
    "# shuffle() 随机打乱列表\n",
    "#  格式：random.shuffle(列表)\n",
    "#  返回值：打乱顺序之后的列表\n",
    "\n",
    "l1 = [i for i in range(10)]\n",
    "print(l1)\n",
    "\n",
    "random.shuffle(l1)\n",
    "print(l1)"
   ]
  },
  {
   "cell_type": "code",
   "execution_count": 104,
   "metadata": {},
   "outputs": [
    {
     "name": "stdout",
     "output_type": "stream",
     "text": [
      "35\n"
     ]
    }
   ],
   "source": [
    "# randint(a,b): 返回一个a到b之间的随机整数，包含a和b\n",
    "print(random.randint(0,100))"
   ]
  },
  {
   "cell_type": "markdown",
   "metadata": {
    "collapsed": true
   },
   "source": [
    "## sys\n",
    "- sys模块用于提供对python解释器的相关操作。"
   ]
  },
  {
   "cell_type": "code",
   "execution_count": null,
   "metadata": {},
   "outputs": [],
   "source": [
    "'''\n",
    "sys.argv   命令行参数List，第一个元素是程序本身路径\n",
    "sys.modules 返回系统导入的模块字段，key是模块名，value是模块\n",
    "sys.exit(n)        退出程序，正常退出时exit(0)\n",
    "sys.version        获取Python解释程序的版本信息\n",
    "sys.maxint         最大的Int值\n",
    "sys.path           返回模块的搜索路径，初始化时使用PYTHONPATH环境变量的值\n",
    "sys.platform       返回操作系统平台名称\n",
    "sys.stdout.write('please:')\n",
    "val = sys.stdin.readline()[:-1]\n",
    "sys.modules.keys() 返回所有已经导入的模块名\n",
    "sys.modules.values() 返回所有已经导入的模块\n",
    "sys.exc_info()     获取当前正在处理的异常类,exc_type、exc_value、exc_traceback当前处理的异常详细信息\n",
    "sys.exit(n)        退出程序，正常退出时exit(0)\n",
    "sys.hexversion     获取Python解释程序的版本值，16进制格式如：0x020403F0\n",
    "sys.version        获取Python解释程序的\n",
    "sys.api_version    解释器的C的API版本\n",
    "sys.version_info\n",
    "‘final’表示最终,也有’candidate’表示候选，serial表示版本级别，是否有后继的发行\n",
    "sys.displayhook(value)      如果value非空，这个函数会把他输出到sys.stdout，并且将他保存进__builtin__._.指在python的交互式解释器里，’_’ 代表上次你输入得到的结果，hook是钩子的意思，将上次的结果钩过来\n",
    "sys.getdefaultencoding()    返回当前你所用的默认的字符编码格式\n",
    "sys.getfilesystemencoding() 返回将Unicode文件名转换成系统文件名的编码的名字\n",
    "sys.setdefaultencoding(name)用来设置当前默认的字符编码，如果name和任何一个可用的编码都不匹配，抛出 LookupError，这个函数只会被site模块的sitecustomize使用，一旦别site模块使用了，他会从sys模块移除\n",
    "sys.builtin_module_names    Python解释器导入的模块列表\n",
    "sys.executable              Python解释程序路径\n",
    "sys.getwindowsversion()     获取Windows的版本\n",
    "sys.copyright      记录python版权相关的东西\n",
    "sys.byteorder      本地字节规则的指示器，big-endian平台的值是’big’,little-endian平台的值是’little’\n",
    "sys.exc_clear()    用来清除当前线程所出现的当前的或最近的错误信息\n",
    "sys.exec_prefix    返回平台独立的python文件安装的位置\n",
    "sys.stderr         错误输出\n",
    "sys.stdin          标准输入\n",
    "sys.stdout         标准输出\n",
    "sys.platform       返回操作系统平台名称\n",
    "sys.path           返回模块的搜索路径，初始化时使用PYTHONPATH环境变量的值\n",
    "sys.maxunicode     最大的Unicode值\n",
    "sys.maxint         最大的Int值\n",
    "sys.version        获取Python解释程序的版本信息\n",
    "sys.hexversion     获取Python解释程序的版本值，16进制格式如：0x020403F0\n",
    "\n",
    "'''"
   ]
  },
  {
   "cell_type": "code",
   "execution_count": 17,
   "metadata": {},
   "outputs": [
    {
     "name": "stdout",
     "output_type": "stream",
     "text": [
      "Help on method flush in module ipykernel.iostream:\n",
      "\n",
      "flush() method of ipykernel.iostream.OutStream instance\n",
      "    trigger actual zmq send\n",
      "    \n",
      "    send will happen in the background thread\n",
      "\n"
     ]
    }
   ],
   "source": [
    "# 进度条（注意：在pycharm中执行无效，请到命令行中以脚本的方式执行）\n",
    "\n",
    "import sys,time\n",
    "'''\n",
    "for i in range(50):\n",
    "    sys.stdout.write('%s\\r' %('#'*i))\n",
    "    sys.stdout.flush()\n",
    "    time.sleep(0.1)\n",
    "'''\n",
    "help(sys.stdout.flush)"
   ]
  }
 ],
 "metadata": {
  "kernelspec": {
   "display_name": "Python 3",
   "language": "python",
   "name": "python3"
  },
  "language_info": {
   "codemirror_mode": {
    "name": "ipython",
    "version": 3
   },
   "file_extension": ".py",
   "mimetype": "text/x-python",
   "name": "python",
   "nbconvert_exporter": "python",
   "pygments_lexer": "ipython3",
   "version": "3.6.5"
  }
 },
 "nbformat": 4,
 "nbformat_minor": 2
}
