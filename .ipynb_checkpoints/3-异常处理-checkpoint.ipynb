{
 "cells": [
  {
   "cell_type": "markdown",
   "metadata": {
    "collapsed": true
   },
   "source": [
    "# 异常处理\n",
    "- 广义上报错分为：错误和异常\n",
    "  - 错误：是人为可以避免的\n",
    "  - 异常：是语法逻辑正确的前提下，出现的问题\n",
    "- 在Python里，异常是一个类，可以处理和使用\n",
    "\n",
    "# 异常的内置分类\n",
    "- AssertError 断言语句（assert）失败\n",
    "- AttributeError 尝试访问未知的对象属性\n",
    "- EOFError 用户输入文件末尾标志EOF（Ctrl+d）\n",
    "- FloatingPointError 浮点计算错误\n",
    "- GeneratorExit generator.close()方法被调用的时候\n",
    "- ImportError 导入模块失败的时候\n",
    "- IndexError 索引超出序列的范围\n",
    "- KeyError 字典中查找一个不存在的关键字\n",
    "- KeyboardInterrupt 用户输入中断键（Ctrl+c）\n",
    "- MemoryError 内存溢出（可通过删除对象释放内存）\n",
    "- NameError 尝试访问一个不存在的变量\n",
    "- NotImplementedError 尚未实现的方法\n",
    "- OSError 操作系统产生的异常（例如打开一个不存在的文件）\n",
    "- OverflowError 数值运算超出最大限制\n",
    "- ReferenceError 弱引用（weak reference）试图访问一个已经被垃圾回收机制回收了的对象\n",
    "- RuntimeError 一般的运行时错误\n",
    "- StopIteration 迭代器没有更多的值\n",
    "- SyntaxError Python的语法错误\n",
    "- IndentationError 缩进错误\n",
    "- TabError Tab和空格混合使用\n",
    "- SystemError Python编译器系统错误\n",
    "- SystemExit Python编译器进程被关闭\n",
    "- TypeError 不同类型间的无效操作\n",
    "- UnboundLocalError 访问一个未初始化的本地变量（NameError的子类）\n",
    "- UnicodeError Unicode相关的错误（ValueError的子类）\n",
    "- UnicodeEncodeError Unicode编码时的错误（UnicodeError的子类）\n",
    "- UnicodeDecodeError Unicode解码时的错误（UnicodeError的子类）\n",
    "- UnicodeTranslateError Unicode转换时的错误（UnicodeError的子类）\n",
    "- ValueError 传入无效的参数\n",
    "- ZeroDivisionError 除数为零"
   ]
  },
  {
   "cell_type": "markdown",
   "metadata": {},
   "source": [
    "- 例如:IndentationError属于SyntaxError的派生子类，其和TypeError均是派生自Exception而来的\n",
    "- 理论上:Exception可以说是python中所有异常的父类\n",
    "- 但只是理论：除了Exception派生的异常内置类外还存在按键异常退出，系统异常退出等异常不属于Exception派生的，\n",
    "- 根据层次结果：可以确认的是，python中所有异常的父类是BaseException(该类是从python2.5新增的)，\n",
    "##### 如下给出内置异常处理类的基本层次结构:"
   ]
  },
  {
   "cell_type": "markdown",
   "metadata": {},
   "source": [
    "BaseException\n",
    " +-- SystemExit\n",
    " +-- KeyboardInterrupt\n",
    " +-- GeneratorExit\n",
    " +-- Exception\n",
    "      +-- StopIteration\n",
    "      +-- StandardError\n",
    "      |    +-- BufferError\n",
    "      |    +-- ArithmeticError\n",
    "      |    |    +-- FloatingPointError\n",
    "      |    |    +-- OverflowError\n",
    "      |    |    +-- ZeroDivisionError\n",
    "      |    +-- AssertionError\n",
    "      |    +-- AttributeError\n",
    "      |    +-- EnvironmentError\n",
    "      |    |    +-- IOError\n",
    "      |    |    +-- OSError\n",
    "      |    |         +-- WindowsError (Windows)\n",
    "      |    |         +-- VMSError (VMS)\n",
    "      |    +-- EOFError\n",
    "      |    +-- ImportError\n",
    "      |    +-- LookupError\n",
    "      |    |    +-- IndexError\n",
    "      |    |    +-- KeyError\n",
    "      |    +-- MemoryError\n",
    "      |    +-- NameError\n",
    "      |    |    +-- UnboundLocalError\n",
    "      |    +-- ReferenceError\n",
    "      |    +-- RuntimeError\n",
    "      |    |    +-- NotImplementedError\n",
    "      |    +-- SyntaxError\n",
    "      |    |    +-- IndentationError\n",
    "      |    |         +-- TabError\n",
    "      |    +-- SystemError\n",
    "      |    +-- TypeError\n",
    "      |    +-- ValueError\n",
    "      |         +-- UnicodeError\n",
    "      |              +-- UnicodeDecodeError\n",
    "      |              +-- UnicodeEncodeError\n",
    "      |              +-- UnicodeTranslateError\n",
    "      +-- Warning\n",
    "           +-- DeprecationWarning\n",
    "           +-- PendingDeprecationWarning\n",
    "           +-- RuntimeWarning\n",
    "           +-- SyntaxWarning\n",
    "           +-- UserWarning\n",
    "           +-- FutureWarning\n",
    "       +-- ImportWarning\n",
    "       +-- UnicodeWarning\n",
    "       +-- BytesWarning"
   ]
  },
  {
   "cell_type": "code",
   "execution_count": 1,
   "metadata": {},
   "outputs": [
    {
     "name": "stdout",
     "output_type": "stream",
     "text": [
      "请输入数字：0\n"
     ]
    },
    {
     "ename": "ZeroDivisionError",
     "evalue": "division by zero",
     "output_type": "error",
     "traceback": [
      "\u001b[0;31m---------------------------------------------------------------------------\u001b[0m",
      "\u001b[0;31mZeroDivisionError\u001b[0m                         Traceback (most recent call last)",
      "\u001b[0;32m<ipython-input-1-672a55ffe889>\u001b[0m in \u001b[0;36m<module>\u001b[0;34m()\u001b[0m\n\u001b[1;32m      2\u001b[0m \u001b[0;31m# 除0错误的例子\u001b[0m\u001b[0;34m\u001b[0m\u001b[0;34m\u001b[0m\u001b[0m\n\u001b[1;32m      3\u001b[0m \u001b[0mnum\u001b[0m \u001b[0;34m=\u001b[0m \u001b[0mint\u001b[0m\u001b[0;34m(\u001b[0m\u001b[0minput\u001b[0m\u001b[0;34m(\u001b[0m\u001b[0;34m'请输入数字：'\u001b[0m\u001b[0;34m)\u001b[0m\u001b[0;34m)\u001b[0m\u001b[0;34m\u001b[0m\u001b[0m\n\u001b[0;32m----> 4\u001b[0;31m \u001b[0mprint\u001b[0m\u001b[0;34m(\u001b[0m\u001b[0;36m100\u001b[0m\u001b[0;34m/\u001b[0m\u001b[0mnum\u001b[0m\u001b[0;34m)\u001b[0m\u001b[0;34m\u001b[0m\u001b[0m\n\u001b[0m",
      "\u001b[0;31mZeroDivisionError\u001b[0m: division by zero"
     ]
    }
   ],
   "source": [
    "l = [1,2,3,4,5]\n",
    "# 除0错误的例子\n",
    "num = int(input('请输入数字：'))\n",
    "print(100/num)"
   ]
  },
  {
   "cell_type": "markdown",
   "metadata": {},
   "source": [
    "# 异常捕获\n",
    "- 不能保证程序永远正确运行，但是必须保证程序在出现异常的情况下被妥善处理\n",
    "- Python的异常处理语法：\n",
    "    \n",
    "    try:\n",
    "        捕获范围：这里包含容易出错的一段代码\n",
    "        如果没出现异常，就继续向下执行\n",
    "        如果出现异常，则抛出异常，交给后面尝试解决\n",
    "        \n",
    "    except NameError1 as e:\n",
    "        用于处理异常的代码\n",
    "        \n",
    "    except NameError2 as e:\n",
    "        用于处理异常的代码\n",
    "        \n",
    "    except (NameError3,NameError4, ... )\n",
    "        只能对多种异常采取同一种方式解决\n",
    "        \n",
    "    else:\n",
    "        如果没有出现任何异常，则执行此处代码\n",
    "        \n",
    "    finally:\n",
    "        无论有无异常，最终都要执行\n",
    "\n",
    "- 流程：\n",
    "    - 1、执行try下面的语句\n",
    "    - 2、如果发现异常，则查找except里标记过的异常，并加以处理\n",
    "    - 3、如果没有异常，则执行else里的语句\n",
    "    - 4、最后，不管是否出现异常，都要执行finally内的语句\n",
    "    - 5、除except至少需要一个以外，else,finally语句可选"
   ]
  },
  {
   "cell_type": "code",
   "execution_count": 8,
   "metadata": {},
   "outputs": [
    {
     "name": "stdout",
     "output_type": "stream",
     "text": [
      "请输入：0\n",
      "有错误\n"
     ]
    }
   ],
   "source": [
    "# 简单异常案例\n",
    "try:\n",
    "    num = int(input(\"请输入：\"))\n",
    "    r = 100/num\n",
    "    print(r)\n",
    "except:\n",
    "    print('有错误')\n",
    "    # exit() "
   ]
  },
  {
   "cell_type": "code",
   "execution_count": 37,
   "metadata": {},
   "outputs": [
    {
     "name": "stdout",
     "output_type": "stream",
     "text": [
      "请输入数字：0\n",
      "输入错误，除数不能为零\n",
      "division by zero\n"
     ]
    }
   ],
   "source": [
    "# 给出提示信息\n",
    "try:\n",
    "    num = int(input('请输入数字：'))\n",
    "    r = 100/num\n",
    "    print('计算结果是：{0}'.format(r))\n",
    "    \n",
    "# 捕获ZeroDivisionError异常后，把异常实例化为e，并直接打印出e\n",
    "except ZeroDivisionError as e:\n",
    "    print('输入错误，除数不能为零')\n",
    "    print(e)"
   ]
  },
  {
   "cell_type": "markdown",
   "metadata": {},
   "source": [
    "### 小知识点：为什么此处可以直接打印出实例 e ？此时实例e应该是实现了哪个函数？"
   ]
  },
  {
   "cell_type": "code",
   "execution_count": 35,
   "metadata": {},
   "outputs": [
    {
     "name": "stdout",
     "output_type": "stream",
     "text": [
      "Value: hello, world!\n"
     ]
    }
   ],
   "source": [
    "# 以下代码说明实现了__str_,或__repr__函数，将字符串写进data，就可以通过实例名或类名直接打印\n",
    "# 你会发现，直接输出对象ts时并没有按我们__str__方法中定义的格式进行输出，用print输出是正常字符串\n",
    "\n",
    "class TestStr(object):\n",
    "    def __init__(self, value='hello, world!'):\n",
    "        self.data = value\n",
    "        \n",
    "    def __str__(self):\n",
    "        return 'Value: {0}' .format(self.data)\n",
    "\n",
    "ts = TestStr()\n",
    "print (ts)\n"
   ]
  },
  {
   "cell_type": "code",
   "execution_count": 34,
   "metadata": {},
   "outputs": [
    {
     "data": {
      "text/plain": [
       "[Value: hello, world!]"
      ]
     },
     "execution_count": 34,
     "metadata": {},
     "output_type": "execute_result"
    }
   ],
   "source": [
    "# __str_,和__repr__函数的区别：\n",
    "#重构__repr__方法后，不管直接输出对象还是通过print打印的信息都按我们__repr__方法中定义的格式进行显示了\n",
    "\n",
    "class TestStr(object):\n",
    "    def __init__(self, value='hello, world!'):\n",
    "        self.data = value\n",
    "    def __repr__(self):\n",
    "        return '[Value: {0}]' .format(self.data)\n",
    "\n",
    "ts = TestStr()\n",
    "ts\n",
    "# print (ts)\n"
   ]
  },
  {
   "cell_type": "markdown",
   "metadata": {},
   "source": [
    "## 异常处理原则\n",
    "- 如果多种error的情况：越具体的错误越靠前\n",
    "- 因为在异常类继承关系中，越是子类的异常，越要往前方\n",
    "- 反之，越是父类的异常越要往后放\n",
    "- 在处理异常的时候，一旦拦截到某一个异常，则不再继续查找其他异常\n",
    "- 就是，由finally语句块就执行，否则就执行后面的代码"
   ]
  },
  {
   "cell_type": "code",
   "execution_count": 38,
   "metadata": {},
   "outputs": [
    {
     "name": "stdout",
     "output_type": "stream",
     "text": [
      "请输入数字：0\n",
      "输入错误，除数不能为零\n",
      "division by zero\n",
      "________END________\n",
      "还没完？\n"
     ]
    }
   ],
   "source": [
    "try:\n",
    "    num = int(input('请输入数字：'))\n",
    "    r = 100/num\n",
    "    print('计算结果是：{0}'.format(r))\n",
    "    \n",
    "except ZeroDivisionError as e:\n",
    "    print('输入错误，除数不能为零')\n",
    "    print(e) \n",
    "except NameError as e:\n",
    "    print('名字错误')\n",
    "except AttributeError as e:\n",
    "    print('属性错误')\n",
    "    print(e)\n",
    "except Exception as e:\n",
    "    print('总之有错误')\n",
    "    print(e)\n",
    "except ValueError as e:\n",
    "    print('这个位置永远不会打印我')\n",
    "    \n",
    "finally:\n",
    "    print('________END________')\n",
    "print('还没完？')"
   ]
  },
  {
   "cell_type": "markdown",
   "metadata": {},
   "source": [
    "# 异常抛出\n",
    "### 通常为手动抛出\n",
    "- 当某些情况，希望自己抛出一个异常信息的时候\n",
    "- 使用raise关键字"
   ]
  },
  {
   "cell_type": "code",
   "execution_count": 43,
   "metadata": {},
   "outputs": [
    {
     "name": "stdout",
     "output_type": "stream",
     "text": [
      "一些正常...\n",
      "just du it\n",
      "ValueError\n",
      "_______END________\n"
     ]
    }
   ],
   "source": [
    "try:\n",
    "    print('一些正常...')\n",
    "    print('just du it')\n",
    "    #此处手动引发一个异常\n",
    "    raise ValueError\n",
    "    print('不会找我的')\n",
    "    \n",
    "except NameError as e:\n",
    "        print('NameError')\n",
    "except ValueError as e:\n",
    "        print('ValueError')\n",
    "except Exception as e:\n",
    "        print('反正有错')\n",
    "finally:\n",
    "    print('_______END________')"
   ]
  },
  {
   "cell_type": "markdown",
   "metadata": {},
   "source": [
    "# 自定义异常\n",
    "### 自定义异常必须是系统类的子类\n",
    "- python中自定义异常一般是继承Exception或者Exception的子类，\n",
    "- 可以默认继承不做处理也可以通过对其进行定制"
   ]
  },
  {
   "cell_type": "code",
   "execution_count": 44,
   "metadata": {},
   "outputs": [
    {
     "name": "stdout",
     "output_type": "stream",
     "text": [
      "一些正常...\n",
      "just du it\n",
      "ValueError\n",
      "_______END________\n"
     ]
    }
   ],
   "source": [
    "class DefValueError(ValueError):\n",
    "    # 自定义异常的好处是，可以在此处自定义各种功能\n",
    "    pass\n",
    "\n",
    "\n",
    "try:\n",
    "    print('一些正常...')\n",
    "    print('just du it')\n",
    "    #此处手动引发一个异常\n",
    "    raise DefValueError\n",
    "    print('不会找我的')\n",
    "    \n",
    "except NameError as e:\n",
    "        print('NameError')\n",
    "except ValueError as e:\n",
    "        print('ValueError')\n",
    "except Exception as e:\n",
    "        print('反正有错')\n",
    "finally:\n",
    "    print('_______END________')"
   ]
  },
  {
   "cell_type": "markdown",
   "metadata": {},
   "source": [
    "# 主动抛出的异常通常是：自定义异常\n",
    "- 自定义异常一般包含以下内容：\n",
    " - 自定义异常发生时的执行代码\n",
    " - 自定义异常发生后的问题提示\n",
    " - 异常发生的行数\n",
    " - 目的：程序员能够快速方便的定位错误现场\n",
    " - 异常提示内容可以参考系统的格式"
   ]
  },
  {
   "cell_type": "code",
   "execution_count": 56,
   "metadata": {},
   "outputs": [
    {
     "name": "stdout",
     "output_type": "stream",
     "text": [
      "反正有错\n",
      "_______END________\n"
     ]
    }
   ],
   "source": [
    "# 如下给出两个示例，一个为简单的集成，一个为重写方法，如下:\n",
    "\n",
    "#直接继承不做处理\n",
    "class DefException(Exception):\n",
    "    pass\n",
    "\n",
    "try:\n",
    "    raise DefException(\"Def Exception\")\n",
    "\n",
    "\n",
    "except NameError as e:\n",
    "        print('NameError')\n",
    "except ValueError as e:\n",
    "        print('ValueError')\n",
    "except Exception as e:\n",
    "        print('反正有错')\n",
    "finally:\n",
    "    print('_______END________')"
   ]
  },
  {
   "cell_type": "code",
   "execution_count": 64,
   "metadata": {},
   "outputs": [
    {
     "ename": "SyntaxError",
     "evalue": "invalid syntax (<ipython-input-64-ff8bf50e64b7>, line 10)",
     "output_type": "error",
     "traceback": [
      "\u001b[0;36m  File \u001b[0;32m\"<ipython-input-64-ff8bf50e64b7>\"\u001b[0;36m, line \u001b[0;32m10\u001b[0m\n\u001b[0;31m    print repr(\" throw code:%s,message:%s\" % (self.code,self.message))\u001b[0m\n\u001b[0m             ^\u001b[0m\n\u001b[0;31mSyntaxError\u001b[0m\u001b[0;31m:\u001b[0m invalid syntax\n"
     ]
    }
   ],
   "source": [
    "#重写__init__\n",
    "class CustomerException(Exception):\n",
    "    KEY_CODE=\"code\"\n",
    "    KEY_MESSAGE=\"message\"\n",
    "    def __init__(self,**args):\n",
    "        self.code=args[CustomerException.KEY_CODE]\n",
    "        self.message=args[CustomerException.KEY_MESSAGE]\n",
    "\n",
    "    def __str__(self):\n",
    "        print repr(\" throw code:%s,message:%s\" % (self.code,self.message))\n",
    "\n",
    "raise CustomerException(code=21,message=\"this is customer Exception\")\n"
   ]
  },
  {
   "cell_type": "code",
   "execution_count": null,
   "metadata": {
    "collapsed": true
   },
   "outputs": [],
   "source": []
  }
 ],
 "metadata": {
  "kernelspec": {
   "display_name": "Python 3",
   "language": "python",
   "name": "python3"
  },
  "language_info": {
   "codemirror_mode": {
    "name": "ipython",
    "version": 3
   },
   "file_extension": ".py",
   "mimetype": "text/x-python",
   "name": "python",
   "nbconvert_exporter": "python",
   "pygments_lexer": "ipython3",
   "version": "3.6.3"
  }
 },
 "nbformat": 4,
 "nbformat_minor": 2
}
