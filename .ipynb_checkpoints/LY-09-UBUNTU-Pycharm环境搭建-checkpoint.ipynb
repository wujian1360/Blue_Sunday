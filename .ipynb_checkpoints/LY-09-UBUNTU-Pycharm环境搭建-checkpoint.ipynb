{
 "cells": [
  {
   "cell_type": "markdown",
   "metadata": {},
   "source": [
    "# Linux系统环境学习路径\n",
    "## Linux(Ubuntu)-VIM-GIT-Pycharm"
   ]
  },
  {
   "cell_type": "markdown",
   "metadata": {},
   "source": [
    "# Linux学习资料整理\n",
    "- [Linux学习资料索引](https://www.cnblogs.com/Rosanna/p/3746204.html)\n",
    "- [Linux命令大全](http://man.linuxde.net/)\n",
    "\n",
    "# VIM \n",
    "- Unix以及类Unix系统文版编辑器\n",
    "- [什么是 vim？](http://www.runoob.com/linux/linux-vim.html)\n",
    "- [VIM简明教程](https://coolshell.cn/articles/5426.html)"
   ]
  }
 ],
 "metadata": {
  "kernelspec": {
   "display_name": "Python 3",
   "language": "python",
   "name": "python3"
  },
  "language_info": {
   "codemirror_mode": {
    "name": "ipython",
    "version": 3
   },
   "file_extension": ".py",
   "mimetype": "text/x-python",
   "name": "python",
   "nbconvert_exporter": "python",
   "pygments_lexer": "ipython3",
   "version": "3.6.3"
  }
 },
 "nbformat": 4,
 "nbformat_minor": 1
}
