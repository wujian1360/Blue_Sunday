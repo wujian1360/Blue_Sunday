{
 "cells": [
  {
   "cell_type": "markdown",
   "metadata": {},
   "source": [
    "# 函数\n",
    "- 代码分块的形式\n",
    "- 一个函数完成一个功能\n",
    "- 函数要先定义\n",
    "- 调用就是使用函数"
   ]
  },
  {
   "cell_type": "code",
   "execution_count": 8,
   "metadata": {},
   "outputs": [
    {
     "name": "stdout",
     "output_type": "stream",
     "text": [
      "定义了一个函数\n"
     ]
    }
   ],
   "source": [
    "# 定义一个函数，不会立即执行\n",
    "# def关键字后面跟空格\n",
    "# 函数名自定义，遵循小驼峰命名规则，大驼峰留给类名\n",
    "# 后面的（）和：冒号不能省略，括号内可以给参数\n",
    "# 函数内所有代码块要有缩进\n",
    "def func():\n",
    "    print('定义了一个函数')\n",
    "\n",
    "func()"
   ]
  },
  {
   "cell_type": "markdown",
   "metadata": {},
   "source": [
    "# 函数的参数和返回值\n",
    "- 参数：负责给函数传递一些必要的数据或者信息\n",
    "  - 形参：形式参数，定义函数用到的没有具体值，只是一个占位符\n",
    "  - 实参：实际参数，在调用函数输入的值\n",
    "- 返回值：函数执行完后返回一个结果\n",
    "  - 使用return关键字，一旦使用则返回后面的值，立即结束函数的执行\n",
    "  - 如果没有return，则返回None"
   ]
  },
  {
   "cell_type": "code",
   "execution_count": null,
   "metadata": {},
   "outputs": [],
   "source": [
    "# 参数的定义和使用\n",
    "# 参数的person只是一个形参，代表调用某一个数据\n",
    "# 调用的时候，会用p（实参）的值代替函数中的所有person"
   ]
  },
  {
   "cell_type": "code",
   "execution_count": 9,
   "metadata": {},
   "outputs": [
    {
     "name": "stdout",
     "output_type": "stream",
     "text": [
      "wujian,你好\n"
     ]
    }
   ],
   "source": [
    "def func(person):\n",
    "    print('{0},你好'.format(person))\n",
    "\n",
    "p = 'wujian'\n",
    "func(p)"
   ]
  },
  {
   "cell_type": "code",
   "execution_count": 20,
   "metadata": {},
   "outputs": [
    {
     "name": "stdout",
     "output_type": "stream",
     "text": [
      "你好\n"
     ]
    }
   ],
   "source": [
    "# return 语句1\n",
    "def func():\n",
    "    return \"你好\"\n",
    "    print(\"还有\")\n",
    "\n",
    "print(func())\n"
   ]
  },
  {
   "cell_type": "code",
   "execution_count": 21,
   "metadata": {},
   "outputs": [
    {
     "name": "stdout",
     "output_type": "stream",
     "text": [
      "Help on built-in function print in module builtins:\n",
      "\n",
      "print(...)\n",
      "    print(value, ..., sep=' ', end='\\n', file=sys.stdout, flush=False)\n",
      "    \n",
      "    Prints the values to a stream, or to sys.stdout by default.\n",
      "    Optional keyword arguments:\n",
      "    file:  a file-like object (stream); defaults to the current sys.stdout.\n",
      "    sep:   string inserted between values, default a space.\n",
      "    end:   string appended after the last value, default a newline.\n",
      "    flush: whether to forcibly flush the stream.\n",
      "\n"
     ]
    }
   ],
   "source": [
    "# 查找函数帮助文档\n",
    "# 1. 用help函数\n",
    "help(print)"
   ]
  },
  {
   "cell_type": "code",
   "execution_count": 55,
   "metadata": {},
   "outputs": [
    {
     "name": "stdout",
     "output_type": "stream",
     "text": [
      "1 --------------------\n",
      "2 4 --------------------\n",
      "3 6 9 --------------------\n",
      "4 8 12 16 --------------------\n",
      "5 10 15 20 25 --------------------\n",
      "6 12 18 24 30 36 --------------------\n",
      "7 14 21 28 35 42 49 --------------------\n",
      "8 16 24 32 40 48 56 64 --------------------\n",
      "9 18 27 36 45 54 63 72 81 --------------------\n"
     ]
    }
   ],
   "source": [
    "# 九九乘法表\n",
    "\n",
    "for i in range(1,10):\n",
    "    for j in range(1,i+1):\n",
    "        print(i*j,end=' ')\n",
    "    print('-'* 20)"
   ]
  },
  {
   "cell_type": "code",
   "execution_count": 60,
   "metadata": {},
   "outputs": [
    {
     "name": "stdout",
     "output_type": "stream",
     "text": [
      "1 --------------------\n",
      "2 4 --------------------\n",
      "3 6 9 --------------------\n",
      "4 8 12 16 --------------------\n",
      "5 10 15 20 25 --------------------\n",
      "6 12 18 24 30 36 --------------------\n",
      "7 14 21 28 35 42 49 --------------------\n",
      "8 16 24 32 40 48 56 64 --------------------\n",
      "9 18 27 36 45 54 63 72 81 --------------------\n"
     ]
    }
   ],
   "source": [
    "def func(i):\n",
    "    for j in range(1,i+1):\n",
    "        print(i*j,end=' ')\n",
    "    print('-'*20)\n",
    "\n",
    "for i in range(1,10):\n",
    "    func(i)"
   ]
  },
  {
   "cell_type": "markdown",
   "metadata": {},
   "source": [
    "## 参数校验\n",
    "- 当传入了不恰当的参数时，内置函数abs会检查出参数错误，而我们定义的my_abs没有参数检查，会导致if语句出错，出错信息和abs不一样。所以，这个函数定义不够完善。\n",
    "\n",
    "- 让我们修改一下my_abs的定义，对参数类型做检查，只允许整数和浮点数类型的参数。数据类型检查可以用内置函数isinstance()实现："
   ]
  },
  {
   "cell_type": "code",
   "execution_count": null,
   "metadata": {},
   "outputs": [],
   "source": [
    "def my_abs(x):\n",
    "    # 增加参数校验\n",
    "    if not isinstance(x, (int, float)):\n",
    "        raise TypeError('bad operand type')\n",
    "    if x >= 0:\n",
    "        return x\n",
    "    else:\n",
    "        return -x"
   ]
  },
  {
   "cell_type": "markdown",
   "metadata": {},
   "source": [
    "## 返回多个值\n",
    "- 函数可以返回多个值吗？答案是肯定的。\n",
    "- 比如在游戏中经常需要从一个点移动到另一个点，给出坐标、位移和角度，就可以计算出新的新的坐标：\n",
    "- 但其实这只是一种假象，Python函数返回的仍然是单一值：原来返回值是一个tuple！但是，在语法上，返回一个tuple可以省略括号，而多个变量可以同时接收一个tuple，按位置赋给对应的值，所以，Python的函数返回多值其实就是返回一个tuple，但写起来更方便"
   ]
  },
  {
   "cell_type": "code",
   "execution_count": 1,
   "metadata": {},
   "outputs": [
    {
     "name": "stdout",
     "output_type": "stream",
     "text": [
      "(151.96152422706632, 70.0)\n"
     ]
    }
   ],
   "source": [
    "import math\n",
    "\n",
    "def move(x, y, step, angle=0):\n",
    "    nx = x + step * math.cos(angle)\n",
    "    ny = y - step * math.sin(angle)\n",
    "    return nx, ny\n",
    "\n",
    "\n",
    "r = move(100, 100, 60, math.pi / 6)\n",
    "print(r)"
   ]
  },
  {
   "cell_type": "markdown",
   "metadata": {},
   "source": [
    "### 练习\n",
    "- 请定义一个函数quadratic(a, b, c)，接收3个参数，返回一元二次方程：\n",
    "- ax2 + bx + c = 0  的两个解。\n",
    "- 提示：计算平方根可以调用math.sqrt()函数："
   ]
  },
  {
   "cell_type": "code",
   "execution_count": 2,
   "metadata": {},
   "outputs": [
    {
     "name": "stdout",
     "output_type": "stream",
     "text": [
      "quadratic(2, 3, 1) = (-0.5, -1.0)\n",
      "quadratic(1, 3, -4) = (1.0, -4.0)\n",
      "测试成功\n"
     ]
    }
   ],
   "source": [
    "import math\n",
    "\n",
    "def quadratic(a, b, c):\n",
    "    \n",
    "    # 求ax2 + bx + c = 0  的两个解 x1,x2\n",
    "    # 根据公式：x = -b 加减 根号(b的平方 - 4ac) 除以 2a，所以x1\\x2分三种情况:\n",
    "    # 根号(b的平方 - 4ac) > 0 则正常返回\n",
    "    # 根号(b的平方 - 4ac) = 0 则x1 = x2\n",
    "    # 根号(b的平方 - 4ac) < 0 则无意义，也就无返回\n",
    "    \n",
    "    t = math.sqrt(pow(b,2) - 4*a*c)\n",
    "    b2to4ac = pow(b,2) - 4*a*c\n",
    "    \n",
    "    if b2to4ac > 0 :\n",
    "        x1 = (-b + t)/(2*a) \n",
    "        x2 = (-b - t)/(2*a)\n",
    "        return x1,x2\n",
    "    elif b2to4ac == 0 :\n",
    "        return x1\n",
    "    else:\n",
    "        return None\n",
    "    \n",
    "# 测试:\n",
    "print('quadratic(2, 3, 1) =', quadratic(2, 3, 1))\n",
    "print('quadratic(1, 3, -4) =', quadratic(1, 3, -4))\n",
    "\n",
    "if quadratic(2, 3, 1) != (-0.5, -1.0):\n",
    "    print('测试失败')\n",
    "elif quadratic(1, 3, -4) != (1.0, -4.0):\n",
    "    print('测试失败')\n",
    "else:\n",
    "    print('测试成功')"
   ]
  },
  {
   "cell_type": "markdown",
   "metadata": {},
   "source": [
    "# 参数详解\n",
    "- 参考资料：https://www.cnblogs.com/bingabcd/p/6671368.html\n",
    "- python参考资料： headfirst python -> 零基础入门学习python（小甲鱼),本讲义参考的是流畅的python-->习题-->后期可以考虑腾讯公开免费课\n",
    "- 参数分类\n",
    "  - 普通参数\n",
    "  - 默认参数\n",
    "  - 关键字参数\n",
    "  - 收集参数\n",
    "  \n",
    "- 普通参数\n",
    "  - 直接定义变量名\n",
    "  - 调用的时候直接把变量或者值放入指定位置\n",
    "            def func1(v1,v2):\n",
    "                函数体\n",
    "                \n",
    "            # 调用\n",
    "            函数名（value1，value2，......）\n",
    "            \n",
    "            # 调用的时候，具体参考的是位置，按位置赋值。\n",
    "- 默认参数\n",
    "  - 形参带有默认值\n",
    "  - 调用的时候有就赋值，没有就默认值\n",
    "             def func1(a=v1,b=v2):\n",
    "                函数体\n",
    "                \n",
    "             # 调用1\n",
    "             func_name()\n",
    "             \n",
    "             # 调用2\n",
    "             value1 = 100\n",
    "             value2 = 200\n",
    "             func_name(value1,value2)\n",
    "             "
   ]
  },
  {
   "cell_type": "code",
   "execution_count": 62,
   "metadata": {},
   "outputs": [
    {
     "name": "stdout",
     "output_type": "stream",
     "text": [
      "wu is 18,and he is a good student!\n",
      "sarah is 21,and she is a good student!\n"
     ]
    }
   ],
   "source": [
    "# 默认参数\n",
    "def func(name, age, gender='male'):\n",
    "    if gender == 'male':\n",
    "        print('{0} is {1},and he is a good student!'.format(name,age))\n",
    "    else:\n",
    "        print('{0} is {1},and she is a good student!'.format(name,age))\n",
    "\n",
    "# 调用\n",
    "func('wu',18)\n",
    "func('sarah',21,'famale')"
   ]
  },
  {
   "cell_type": "markdown",
   "metadata": {},
   "source": [
    "# 关键字参数\n",
    "- 语法\n",
    "   def func(p1=v1,p2=v2,...):\n",
    "          func body\n",
    "   - 调用\n",
    "   func(p1=value1,p2=value2...)\n",
    "\n",
    "- 不易混淆，实参和形参一一对应即可，容易出错\n",
    "- 使用关键字参数，可以不考虑参数位置"
   ]
  },
  {
   "cell_type": "code",
   "execution_count": 65,
   "metadata": {},
   "outputs": [
    {
     "name": "stdout",
     "output_type": "stream",
     "text": [
      "wujian is 18,我住chaoyang\n",
      "关键字 is 80,我住haidian\n"
     ]
    }
   ],
   "source": [
    "# 关键字参数\n",
    "def stu(name, age, add):\n",
    "    print('{0} is {1},我住{2}'.format(name,age,add))\n",
    "\n",
    "stu('wujian',18,'chaoyang')\n",
    "\n",
    "def stu_key(name='No name',age=0,add='No add'):\n",
    "    print('{0} is {1},我住{2}'.format(name,age,add))\n",
    "\n",
    "n = '关键字'\n",
    "a = 80\n",
    "addr = 'haidian'\n",
    "stu_key(name=n, age=a, add=addr) "
   ]
  },
  {
   "cell_type": "markdown",
   "metadata": {},
   "source": [
    "# 收集参数\n",
    "- 把一个或者多个，数量、位置不定的参数，放入一个特定的数据结构中\n",
    "- 语法\n",
    "      def func(*args):\n",
    "           func_body\n",
    "           按照list的使用方式访问args得到传入的参数\n",
    "    - 调用：\n",
    "    func(p1,p2,p3...)\n",
    "- 参数名args不是必须这么写，但是我们推荐使用args，约定俗成\n",
    "- 参数名args前面加*星号\n",
    "- 收集参数可以喝其他参数共存"
   ]
  },
  {
   "cell_type": "code",
   "execution_count": 69,
   "metadata": {},
   "outputs": [
    {
     "name": "stdout",
     "output_type": "stream",
     "text": [
      "hello 大家好，我自我介绍一下，简单说：\n",
      "<class 'tuple'>\n",
      "wujian\n",
      "18\n",
      "海淀区\n",
      "看电视\n",
      "single\n",
      "hello 大家好，我自我介绍一下，简单说：\n",
      "<class 'tuple'>\n",
      "zhou\n",
      "hello 大家好，我自我介绍一下，简单说：\n",
      "<class 'tuple'>\n"
     ]
    }
   ],
   "source": [
    "# 收集参数代码\n",
    "# 函数模拟一个学生自我介绍，具体内容格式不清楚\n",
    "# args把它看做是一个list或者tuple\n",
    "def stu( *args):\n",
    "    print('hello 大家好，我自我介绍一下，简单说：')\n",
    "    print(type(args))\n",
    "    \n",
    "    for i in args:\n",
    "        print(i)\n",
    "\n",
    "        \n",
    "# 说明收集参数可以不带任何实参调用，此时收集参数为空tuple        \n",
    "stu('wujian',18,'海淀区','看电视','single')\n",
    "stu('zhou')\n",
    "stu()"
   ]
  },
  {
   "cell_type": "markdown",
   "metadata": {},
   "source": [
    "# 收集参数-关键字收集\n",
    "- 把关键字参数按照字典格式存入收集参数\n",
    "- 语法：\n",
    "             def func( **kwargs):\n",
    "                 func_body\n",
    "            \n",
    "            - 调用\n",
    "            func(p1=vi, p2=v2, p3=v3,...)\n",
    "      - kwargs一般约定俗成\n",
    "      - 调用的时候，把多余的关键字参数放入kwargs\n",
    "      - 访问kwargs需要按照字典格式访问"
   ]
  },
  {
   "cell_type": "code",
   "execution_count": 15,
   "metadata": {},
   "outputs": [
    {
     "name": "stdout",
     "output_type": "stream",
     "text": [
      "函数开始执行\n",
      "<class 'dict'>\n",
      "name----wujian\n",
      "age----19\n",
      "lover----wxj\n",
      "add----海淀\n",
      "==============================\n",
      "函数开始执行\n",
      "<class 'dict'>\n",
      "name----sarah\n",
      "==============================\n",
      "函数开始执行\n",
      "<class 'dict'>\n"
     ]
    }
   ],
   "source": [
    "# 关键字收集参数\n",
    "# 自我介绍\n",
    "# 调用的时候使用关键字参数\n",
    "\n",
    "def func_key( **kwargs):\n",
    "    print('函数开始执行')\n",
    "    print(type(kwargs))\n",
    "    for k,v in kwargs.items():\n",
    "        print('{0}----{1}'.format(k,v))\n",
    "    \n",
    "func_key(name='wujian', age=19, lover='wxj',add='海淀')\n",
    "print('='*30)\n",
    "func_key(name='sarah')\n",
    "print('='*30)\n",
    "func_key()#可以为空\n"
   ]
  },
  {
   "cell_type": "markdown",
   "metadata": {},
   "source": [
    "# 参数收集-混合调用的顺序问题\n",
    "- 收集参数，关键字参数，普通参数可以混合使用\n",
    "- 混合使用时：普通参数 > 关键字参数 > tuple收集参数 > dict收集参数 //位置要一一对应不能颠倒"
   ]
  },
  {
   "cell_type": "code",
   "execution_count": 24,
   "metadata": {},
   "outputs": [
    {
     "name": "stdout",
     "output_type": "stream",
     "text": [
      "我叫wujian,我今年19岁了\n",
      "我没什么爱好\n",
      "______________________________\n",
      "______________________________\n",
      "我叫hhh,我今年23岁了\n",
      "我非常喜欢绘画\n",
      "______________________________\n",
      "______________________________\n",
      "我叫aaa,我今年6岁了\n",
      "我非常喜欢看电视\n",
      "______________________________\n",
      "p1 -- ddd\n",
      "p2 -- eee\n",
      "p3 -- 500\n",
      "______________________________\n",
      "我叫aaa,我今年6岁了\n",
      "我非常喜欢看电视\n",
      "______________________________\n",
      "p1 -- ddd\n",
      "p2 -- eee\n",
      "p3 -- 500\n",
      "______________________________\n"
     ]
    }
   ],
   "source": [
    "# 收集参数的混合调用\n",
    "# 模拟一个自我介绍\n",
    "\n",
    "def stu(name, age, hobby='没有', **kyargs):\n",
    "    print('我叫{0},我今年{1}岁了'.format(name,age))\n",
    "    if hobby=='没有':\n",
    "        print('我没什么爱好')\n",
    "    else:\n",
    "        print('我非常喜欢{0}'.format(hobby))\n",
    "    print('_'* 30)\n",
    "    \n",
    "    for k,v in kyargs.items():\n",
    "        print(k,'--',v)\n",
    "    else:\n",
    "        print('_'* 30)\n",
    "\n",
    "\n",
    "n = 'wujian'\n",
    "a = 19\n",
    "stu(n,a)\n",
    "\n",
    "stu('hhh',23,hobby='绘画')\n",
    "\n",
    "stu('aaa',6,hobby='看电视',p1='ddd',p2='eee',p3=500)\n",
    "\n",
    "stu('aaa',6,hobby='看电视',p1='ddd',p2='eee',p3=500)"
   ]
  },
  {
   "cell_type": "markdown",
   "metadata": {},
   "source": [
    "# 收集参数的解包问题\n",
    "- 把参数直接放入tuple或者dict中，要注意解包问题"
   ]
  },
  {
   "cell_type": "code",
   "execution_count": 30,
   "metadata": {},
   "outputs": [
    {
     "name": "stdout",
     "output_type": "stream",
     "text": [
      "下面开始了\n",
      "<class 'list'>\n",
      "0\n",
      "['www', '123', 100, 'wu']\n",
      "______________________________\n",
      "下面开始了\n",
      "<class 'str'>\n",
      "0\n",
      "www\n",
      "<class 'str'>\n",
      "1\n",
      "123\n",
      "<class 'int'>\n",
      "2\n",
      "100\n",
      "<class 'str'>\n",
      "3\n",
      "wu\n"
     ]
    }
   ],
   "source": [
    "# 解包\n",
    "def func( *args):\n",
    "    print('下面开始了')\n",
    "    n = 0\n",
    "    for i in args:\n",
    "        print(type(i))\n",
    "        print(n)\n",
    "        n += 1\n",
    "        print(i)\n",
    "\n",
    "# 定义一个列表aaa        \n",
    "aaa = ['www','123',100,'wu']\n",
    "\n",
    "# 直接把list穿给函数，结果函数把整个aaa当成args的第一个元素打印了\n",
    "func(aaa)\n",
    "print('_'* 30)\n",
    "\n",
    "# 加一个*星号解包\n",
    "func( *aaa)\n"
   ]
  },
  {
   "cell_type": "markdown",
   "metadata": {},
   "source": [
    "### 同理dict类型的收集参数一样可以解包，但是需要两个星号**"
   ]
  },
  {
   "cell_type": "markdown",
   "metadata": {},
   "source": [
    "# 返回值\n",
    "- 有没有返回值是函数和过程的主要区别\n",
    "- 需要用return显示返回内容\n",
    "- 如果没有写return，则默认返回None\n",
    "- 所以，无论有无返回值都建议写return"
   ]
  },
  {
   "cell_type": "code",
   "execution_count": 31,
   "metadata": {},
   "outputs": [
    {
     "name": "stdout",
     "output_type": "stream",
     "text": [
      "有返回值呀\n",
      "1\n",
      "没有返回值\n",
      "None\n"
     ]
    }
   ],
   "source": [
    "# 返回值示例\n",
    "\n",
    "def func_1():\n",
    "    print(\"有返回值呀\")\n",
    "    return 1\n",
    "\n",
    "def func_2():\n",
    "    print(\"没有返回值\")\n",
    "     \n",
    "    \n",
    "f1 = func_1()\n",
    "print(f1)\n",
    "\n",
    "f2 = func_2()\n",
    "print(f2)"
   ]
  },
  {
   "cell_type": "markdown",
   "metadata": {},
   "source": [
    "# 说明文档\n",
    "- 函数的文档是对党显函数提供使用帮助\n",
    "- 在函数的开始使用''' '''三引号定义文档块\n",
    "- 一般具有特定格式，参看案例\n",
    "- 文档查阅：使用help()函数，或者使用doc"
   ]
  },
  {
   "cell_type": "code",
   "execution_count": 33,
   "metadata": {},
   "outputs": [],
   "source": [
    "# 文档案例\n",
    "# 函数stu是模拟一个学生的自我介绍的内容\n",
    "def stu(name, age, *args):\n",
    "    '''\n",
    "    这是第一行\n",
    "    这是第二行\n",
    "    这是第三行\n",
    "    '''\n",
    "    print(\"This is hanshu stu\")"
   ]
  },
  {
   "cell_type": "code",
   "execution_count": 39,
   "metadata": {},
   "outputs": [
    {
     "name": "stdout",
     "output_type": "stream",
     "text": [
      "Help on function stu in module __main__:\n",
      "\n",
      "stu(name, age)\n",
      "    这是文档的文字内容\n",
      "    :param name: 表示学生的姓名\n",
      "    :param age: 表示学生的年龄\n",
      "    :return: 此函数没有返回值\n",
      "\n"
     ]
    },
    {
     "data": {
      "text/plain": [
       "'\\n    这是文档的文字内容\\n    :param name: 表示学生的姓名\\n    :param age: 表示学生的年龄\\n    :return: 此函数没有返回值\\n    '"
      ]
     },
     "execution_count": 39,
     "metadata": {},
     "output_type": "execute_result"
    }
   ],
   "source": [
    "# doc没有自带print，也没有返回值的描述\n",
    "help(stu)\n",
    "stu.__doc__"
   ]
  },
  {
   "cell_type": "code",
   "execution_count": 37,
   "metadata": {},
   "outputs": [
    {
     "name": "stdout",
     "output_type": "stream",
     "text": [
      "Help on function stu in module __main__:\n",
      "\n",
      "stu(name, age)\n",
      "    这是文档的文字内容\n",
      "    :param name: 表示学生的姓名\n",
      "    :param age: 表示学生的年龄\n",
      "    :return: 此函数没有返回值\n",
      "\n",
      "None\n",
      "********************\n",
      "\n",
      "    这是文档的文字内容\n",
      "    :param name: 表示学生的姓名\n",
      "    :param age: 表示学生的年龄\n",
      "    :return: 此函数没有返回值\n",
      "    \n"
     ]
    }
   ],
   "source": [
    "def stu(name, age):\n",
    "    '''\n",
    "    这是文档的文字内容\n",
    "    :param name: 表示学生的姓名\n",
    "    :param age: 表示学生的年龄\n",
    "    :return: 此函数没有返回值\n",
    "    '''\n",
    "    pass\n",
    "\n",
    "\n",
    "print(help(stu))\n",
    "\n",
    "print(\"*\" * 20)\n",
    "\n",
    "print(stu.__doc__)"
   ]
  },
  {
   "cell_type": "code",
   "execution_count": null,
   "metadata": {},
   "outputs": [],
   "source": []
  }
 ],
 "metadata": {
  "kernelspec": {
   "display_name": "Python 3",
   "language": "python",
   "name": "python3"
  },
  "language_info": {
   "codemirror_mode": {
    "name": "ipython",
    "version": 3
   },
   "file_extension": ".py",
   "mimetype": "text/x-python",
   "name": "python",
   "nbconvert_exporter": "python",
   "pygments_lexer": "ipython3",
   "version": "3.6.5"
  }
 },
 "nbformat": 4,
 "nbformat_minor": 2
}
