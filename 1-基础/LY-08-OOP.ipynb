{
 "cells": [
  {
   "cell_type": "markdown",
   "metadata": {},
   "source": [
    "# OOP-Python面向对象\n",
    "- Python的面向对象\n",
    "- 面向对象编程\n",
    "  - 基础\n",
    "  - 共有私有\n",
    "  - 继承\n",
    "  - 组合，Mixin\n",
    "- 魔法函数\n",
    "  - 概述\n",
    "  - 构造类魔法函数\n",
    "  - 运算类魔法函数\n",
    "\n",
    "# 1、面向对象概述（ObjectOriented，OO）\n",
    "- OOP思想\n",
    "  - 世界的构成是由模型构成\n",
    "- 几个名词\n",
    "  - OO：面向对象\n",
    "  - OOA：面向对象分析\n",
    "  - OOD：面向对象设计\n",
    "  - OOI：面向对象的实现\n",
    "  - OOA：面向对象编程\n",
    "  - OOA - OOD - OOI 面向对象的过程\n",
    "- 类和对象的概念\n",
    "  - 累：抽象名词，代表具有共性的一类事物\n",
    "  - 对象：具象的事务，单个个体\n",
    "  - 类跟对象的关系\n",
    "    - 一个抽象代表一类事物\n",
    "    - 一个具象代表单个个体\n",
    "  - 类中的内容，应该是有两个内容\n",
    "    - 表明事物的特征，叫做属性（变量）\n",
    "    - 表明事物功能或反映等作用，成为成员方法（函数）\n",
    "\n",
    "# 类的基本实现\n",
    "- 类的命名\n",
    "  - 遵守变量命名规范\n",
    "  - 大驼峰（由一个或多个单词构成，每个单词首字母大写，单词间没有空格）如：MaxVariable\n",
    "  - 尽量避开跟系统命名相似的名称\n",
    "- 如何声明一个类\n",
    "  - class 关键字\n",
    "  - 类由属性和方法构成，其他不能出现\n",
    "  - 成员属性定义可以直接使用变量赋值。可以为None"
   ]
  },
  {
   "cell_type": "code",
   "execution_count": null,
   "metadata": {},
   "outputs": [
    {
     "name": "stdout",
     "output_type": "stream",
     "text": [
      "我正在学习Python！\n",
      "My name is Jack Arli,I am 18 years old.\n"
     ]
    }
   ],
   "source": [
    "# 定义一个学生类\n",
    "class Student():\n",
    "    pass\n",
    "\n",
    "# 实例化一个对象\n",
    "mike = Student()\n",
    "\n",
    "# 在定义一个类，用来描述Python学生\n",
    "# 定义成员方法时，系统默认（）内有一个self参数，建议函数末尾使用return语句，默认返回None\n",
    "class PythonStudent():\n",
    "    name = None\n",
    "    age = 18\n",
    "    course = 'Python'\n",
    "    \n",
    "    def studyCourse(self):\n",
    "        print('我正在学习Python！')\n",
    "        return None\n",
    "\n",
    "# 实例化一个对象，并访问对象成员\n",
    "# 注意调用成员方法的时候，括号内没有参数self\n",
    "jack = PythonStudent()\n",
    "jack.studyCourse()\n",
    "jack.name = 'Jack Arli'\n",
    "print('My name is {0},I am {1} years old.'.format(jack.name,jack.age))"
   ]
  },
  {
   "cell_type": "code",
   "execution_count": 39,
   "metadata": {},
   "outputs": [
    {
     "name": "stdout",
     "output_type": "stream",
     "text": [
      "显示类成员变量： {'__module__': '__main__', 'name': 'Box', 'age': 18, '__dict__': <attribute '__dict__' of 'Student' objects>, '__weakref__': <attribute '__weakref__' of 'Student' objects>, '__doc__': None}\n",
      "显示对象成员变量： {}\n",
      "显示对象成员name的值： Box\n"
     ]
    }
   ],
   "source": [
    "# 可以通过默认内置变量检查类和对象的所有成员 \n",
    "# obj.__dict__\n",
    "# Class.__dict__\n",
    "\n",
    "class Student():\n",
    "    name = 'Box'\n",
    "    age = 18\n",
    "    \n",
    "Student.__dict__\n",
    "\n",
    "mike = Student()\n",
    "mike.__dict__\n",
    "print('显示类成员变量：',Student.__dict__)\n",
    "print('显示对象成员变量：',mike.__dict__)\n",
    "print('显示对象成员name的值：',mike.name)"
   ]
  },
  {
   "cell_type": "markdown",
   "metadata": {},
   "source": [
    "# 3、anaconda配置虚拟环境，调试\n",
    "- anaconda主要是一个虚拟环境管理器\n",
    "- 也是安装包集合管理器\n",
    "- 控制台操作\n",
    "  - conda list:显示anaconda安装的所有包\n",
    "  - conda env list：显示anaconda所有的虚拟环境列表\n",
    "  - conda create -n xxx Python=3.6：创建Python版本为3.6的虚拟环境，名称为xxx"
   ]
  },
  {
   "cell_type": "markdown",
   "metadata": {},
   "source": [
    "# 类和对象的成员分析\n",
    "- 类和对象都可以存储成员，成员可以归类所有，也可以归对象所有\n",
    "- 类存储成员时使用的是与类关联的一个对象\n",
    "- 独享存储成员是存储在当前对象中\n",
    "- 对象访问一个成员时，优先访问对象自己的成员，如果对象中没有该成员，尝试访问类中的同名成员。\n",
    "- 创建对象的时候，类中的成员不会放入对象中，而是得到一个空对象，没有成员。\n",
    "- 通过对象对类成员重新赋值或者通过对象添加成员时，该成员会保存在当前对象中，而不会修改类成员"
   ]
  },
  {
   "cell_type": "code",
   "execution_count": 57,
   "metadata": {},
   "outputs": [
    {
     "name": "stdout",
     "output_type": "stream",
     "text": [
      "mike --- 18\n",
      "82006176 --- 1503555168\n",
      "mike --- 18\n",
      "82006176 --- 1503555168\n",
      "john --- 88\n",
      "86785752 --- 1503557408\n"
     ]
    }
   ],
   "source": [
    "class Tclass():\n",
    "    name = 'mike'\n",
    "    age = 18\n",
    "    \n",
    "    # 独享存储成员是存储在当前对象中.\n",
    "    # 此处定义了一个成员方法，为调用者self重新赋值两个成员变量\n",
    "    def say(self):\n",
    "        self.name = 'john'\n",
    "        self.age = 88\n",
    "        \n",
    "# 类存储成员时使用的是与类关联的一个对象（类实例）\n",
    "# Tclass此时为类实例\n",
    "print(Tclass.name,'---',Tclass.age)\n",
    "print(id(Tclass.name),'---',id(Tclass.age))\n",
    "\n",
    "# example为实例化对象\n",
    "example = Tclass()\n",
    "print(example.name,'---',example.age)\n",
    "print(id(example.name),'---',id(example.age))\n",
    "\n",
    "# 以上例子表明：在实例化对象尚未被赋值的前提下，类实例Tclass的属性 与 实例化对象example的属性 指向同一个变量（ID相同）\n",
    "# 对象访问一个成员时，优先访问对象自己的成员，如果对象中没有该成员，尝试访问类中的同名成员。\n",
    "\n",
    "# 调用say方法，重新赋值两个成员变量，说明独享存储成员是存储在当前对象中.\n",
    "example.say()\n",
    "print(example.name,'---',example.age)\n",
    "print(id(example.name),'---',id(example.age))"
   ]
  },
  {
   "cell_type": "code",
   "execution_count": 55,
   "metadata": {},
   "outputs": [
    {
     "name": "stdout",
     "output_type": "stream",
     "text": [
      "mike --- 18\n",
      "********************\n",
      "{'__module__': '__main__', 'name': 'mike', 'age': 18, 'say': <function Tclass.say at 0x00000000052BFEA0>, '__dict__': <attribute '__dict__' of 'Tclass' objects>, '__weakref__': <attribute '__weakref__' of 'Tclass' objects>, '__doc__': None}\n",
      "********************\n",
      "{}\n",
      "{'name': 'newName', 'age': 100}\n"
     ]
    }
   ],
   "source": [
    "# 函数内调用类成员需要用__dict__\n",
    "\n",
    "# Tclass此时为类实例\n",
    "print(Tclass.name,'---',Tclass.age)\n",
    "print(\"*\" * 20)\n",
    "example = Tclass()\n",
    "print(Tclass.__dict__) # 类实例所有成员变量\n",
    "print(\"*\" * 20)\n",
    "\n",
    "\n",
    "# 创建对象的时候，类中的成员不会放入对象中，而是得到一个空对象，没有成员。\n",
    "# 通过对象对类成员重新赋值或者通过对象添加成员时，该成员会保存在当前对象中，而不会修改类成员\n",
    "\n",
    "print(example.__dict__) # 实例化对象example所有成员变量，此时为空\n",
    "example.name = 'newName' # 为实例化对象example,的成员重新赋值\n",
    "example.age = 100\n",
    "print(example.__dict__)  # 再次查看example所有成员变量，此时就出现新赋值的两个成员变量了\n"
   ]
  },
  {
   "cell_type": "code",
   "execution_count": 65,
   "metadata": {},
   "outputs": [
    {
     "name": "stdout",
     "output_type": "stream",
     "text": [
      "My name is exampleName,I am 180\n",
      "My name is (0),I am 181\n"
     ]
    }
   ],
   "source": [
    "# 定义类成员函数\n",
    "class Student():\n",
    "    name = 'Class name'\n",
    "    age = 18\n",
    "    \n",
    "    # 注意say的写法，其中一定有一个self参数，也可以用其他名称。\n",
    "    def say(self):\n",
    "        self.name = 'exampleName'\n",
    "        self.age = 180\n",
    "        print('My name is {0},I am {1}'.format(self.name,self.age))\n",
    "    def sayAgain(s):\n",
    "        s.name = 'exampleName2'\n",
    "        s.age = 181\n",
    "        print('My name is (0),I am {1}'.format(s.name,s.age))\n",
    "\n",
    "mike = Student()\n",
    "mike.say()\n",
    "mike.sayAgain()"
   ]
  },
  {
   "cell_type": "markdown",
   "metadata": {},
   "source": [
    "# 关于self\n",
    "- self在对象的方法中表示当前对象本身，如果通过对象调用一个方法，那么该对象会自动传入到当前方法的第一个参数中\n",
    "- self不是关键字，只是一个用于接受对象的普通参数，理论上可以用任何一个普通变量名代替，s、me、this...\n",
    "- 方法中有self形参的方法称为非绑定类方法（函数），建议通过对象访问，没有self的为绑定类方法，只能通过类名访问\n",
    "- 无论是绑定类方法 还是 对象方法，如果需要访问当前类的成员，可以通过__class__.成员名来访问。"
   ]
  },
  {
   "cell_type": "code",
   "execution_count": 83,
   "metadata": {},
   "outputs": [
    {
     "name": "stdout",
     "output_type": "stream",
     "text": [
      "It is name is kaka,it is 3 years old!\n",
      "It is name is no name,it is 0 years old!\n",
      "我是绑定类函数\n",
      "It is name is no name,it is 0 years old!\n",
      "\n",
      "\n",
      "\n",
      "It is name is kaka,it is 3 years old!\n",
      "我是绑定类函数\n",
      "It is name is kaka,it is 3 years old!\n"
     ]
    }
   ],
   "source": [
    "# 定义绑定类函数\n",
    "\n",
    "class Pet():\n",
    "    name = 'no name'\n",
    "    age = 0\n",
    "    \n",
    "    def say(self):\n",
    "        self.name = 'kaka'\n",
    "        self.age = 3\n",
    "        print('It is name is {0},it is {1} years old!'.format(self.name,self.age))\n",
    "        \n",
    "    def sayAgain(self):\n",
    "        print('It is name is {0},it is {1} years old!'.format(__class__.name,__class__.age))\n",
    "        # 函数内调用类成员需要用__dict__\n",
    "        \n",
    "    def sayAgainThree():\n",
    "        print('我是绑定类函数')\n",
    "        print('It is name is {0},it is {1} years old!'.format(__class__.name,__class__.age))\n",
    "        \n",
    "kaka = Pet()\n",
    "kaka.say()\n",
    "kaka.sayAgain()\n",
    "# 调用绑定类函数使用类名\n",
    "Pet.sayAgainThree()\n",
    "\n",
    "print(\"\\n\" * 2)\n",
    "\n",
    "# 如果这么干的话，...就是把类对象重新赋值了，所以打印出来发现类变量的值发生改变\n",
    "Pet.say(Pet)\n",
    "Pet.sayAgainThree()\n",
    "\n",
    "\n",
    "    "
   ]
  },
  {
   "cell_type": "code",
   "execution_count": 93,
   "metadata": {},
   "outputs": [
    {
     "name": "stdout",
     "output_type": "stream",
     "text": [
      "<class '__main__.A'>\n",
      "lili\n",
      "18\n",
      "\n",
      "\n",
      "<class '__main__.A'>\n",
      "lili\n",
      "18\n",
      "\n",
      "\n",
      "<class 'type'>\n",
      "noName\n",
      "0\n",
      "\n",
      "\n",
      "<class 'type'>\n",
      "Big B\n",
      "100\n",
      "\n",
      "\n"
     ]
    }
   ],
   "source": [
    "# 关于self的案例\n",
    "# 鸭子模型原则\n",
    "class A():\n",
    "    name = 'noName'\n",
    "    age = 0\n",
    "    def __init__(self):\n",
    "        self.name = 'lili'\n",
    "        self.age = 18\n",
    "    def say(self):\n",
    "        print(type(self))\n",
    "        print(self.name)\n",
    "        print(self.age)\n",
    "        print('\\n')    \n",
    "\n",
    "        \n",
    "class B():\n",
    "    name = 'Big B'\n",
    "    age = 100\n",
    "    \n",
    "a = A()\n",
    "\n",
    "a.say() # 系统默认把a作为第一个参数传入\n",
    "    \n",
    "A.say(a) # 用类名A调用say，self被a替换，a为A类的对象\n",
    "\n",
    "A.say(A) # 用类名A调用say，self被A替换，A为类实例\n",
    "\n",
    "A.say(B) # 用类名A调用say，self被B替换，B为类实例，此处所谓“鸭子模型”\n",
    "         # 此时，传入的是类实例B，因为B具有name和age属性，与A结构相同，所以不会报错\n",
    "\n",
    "    "
   ]
  },
  {
   "cell_type": "markdown",
   "metadata": {},
   "source": [
    "# 面向对象三大特性\n",
    "- 封装\n",
    "- 继承\n",
    "- 多态\n",
    "\n",
    "## 封装\n",
    "- 封装就是对象成员的访问限制\n",
    "- 封装的三个级别\n",
    "  - 公开 public\n",
    "  - 受保护 protected\n",
    "  - 私有 private\n",
    "  - public、protected、private不是关键字\n",
    "- 判别对象的位置\n",
    "  - 对象内部\n",
    "  - 对象外部\n",
    "  - 子类中\n",
    "- Python中下划线的使用\n",
    "- 私有\n",
    "  - 私有成员是最高级别的封装，只能在当前类或对象中访问\n",
    "  - 在成员前面加上双下划线__\n",
    "      __age = 18\n",
    "  - Python的私有不是真私有，是一种称为name mangling的改名策略，可以使用对象._classname_attributename访问\n",
    "- 受保护的封装protected\n",
    "  - 受保护的封装是将对象成员进行保护封装，在类中或者在子类中可以访问，在外部不可以\n",
    "  - 封装方法：在成员名前面加单下划线即可\n",
    "- 公开的，公共的public\n",
    "  - 公共的封装实际对成员没有任何操作，任何地方都可以访问"
   ]
  },
  {
   "cell_type": "code",
   "execution_count": 103,
   "metadata": {},
   "outputs": [
    {
     "name": "stdout",
     "output_type": "stream",
     "text": [
      "noName\n",
      "\n",
      "类外部访问私有变量，报错！\n"
     ]
    },
    {
     "ename": "AttributeError",
     "evalue": "'Person' object has no attribute '__age'",
     "traceback": [
      "\u001b[1;31m---------------------------------------------------------------------------\u001b[0m",
      "\u001b[1;31mAttributeError\u001b[0m                            Traceback (most recent call last)",
      "\u001b[1;32m<ipython-input-103-67f968d92da0>\u001b[0m in \u001b[0;36m<module>\u001b[1;34m()\u001b[0m\n\u001b[0;32m      7\u001b[0m \u001b[0mprint\u001b[0m\u001b[1;33m(\u001b[0m\u001b[0mp\u001b[0m\u001b[1;33m.\u001b[0m\u001b[0mname\u001b[0m\u001b[1;33m)\u001b[0m\u001b[1;33m\u001b[0m\u001b[0m\n\u001b[0;32m      8\u001b[0m \u001b[0mprint\u001b[0m\u001b[1;33m(\u001b[0m\u001b[1;34m'\\n类外部访问私有变量，报错！'\u001b[0m\u001b[1;33m)\u001b[0m\u001b[1;33m\u001b[0m\u001b[0m\n\u001b[1;32m----> 9\u001b[1;33m \u001b[0mprint\u001b[0m\u001b[1;33m(\u001b[0m\u001b[0mp\u001b[0m\u001b[1;33m.\u001b[0m\u001b[0m__age\u001b[0m\u001b[1;33m)\u001b[0m\u001b[1;33m\u001b[0m\u001b[0m\n\u001b[0m\u001b[0;32m     10\u001b[0m \u001b[0mprint\u001b[0m\u001b[1;33m(\u001b[0m\u001b[1;34m'\\name mangling技术'\u001b[0m\u001b[1;33m)\u001b[0m\u001b[1;33m\u001b[0m\u001b[0m\n",
      "\u001b[1;31mAttributeError\u001b[0m: 'Person' object has no attribute '__age'"
     ],
     "output_type": "error"
    }
   ],
   "source": [
    "# 私有变量案例\n",
    "class Person():\n",
    "    name = 'noName'\n",
    "    __age = 18\n",
    "p = Person()\n",
    "\n",
    "print(p.name)\n",
    "print('\\n类外部访问私有变量，报错！')\n",
    "print(p.__age)\n",
    "\n"
   ]
  },
  {
   "cell_type": "code",
   "execution_count": 108,
   "metadata": {},
   "outputs": [
    {
     "name": "stdout",
     "output_type": "stream",
     "text": [
      "\n",
      " name mangling技术\n",
      "{'__module__': '__main__', 'name': 'noName', '_Person__age': 18, '__dict__': <attribute '__dict__' of 'Person' objects>, '__weakref__': <attribute '__weakref__' of 'Person' objects>, '__doc__': None}\n",
      "\n",
      "\n",
      "18\n"
     ]
    }
   ],
   "source": [
    "print('\\n name mangling技术')\n",
    "# 先检查类成员\n",
    "print(Person.__dict__)\n",
    "print('\\n')\n",
    "\n",
    "# 使用对象._classname_attributename访问\n",
    "print(p._Person__age)\n",
    "\n"
   ]
  },
  {
   "cell_type": "markdown",
   "metadata": {},
   "source": [
    "## 继承\n",
    "- 继承就是一个类可以获得另外一个类中成员属性和成员方法\n",
    "- 作用：减少代码重复，同时可以设置类与类的直接关系\n",
    "- 继承与被继承的概念：\n",
    "  - 被继承的类叫做父类，基类、超类\n",
    "  - 继承的类叫做子类、派生类\n",
    "  - 子类与父类存在一个is-a的关系"
   ]
  },
  {
   "cell_type": "code",
   "execution_count": 118,
   "metadata": {},
   "outputs": [
    {
     "name": "stdout",
     "output_type": "stream",
     "text": [
      "noName\n",
      "kaka\n",
      "\n",
      "\n",
      "sleepping.....\n",
      "9527\n",
      "I am teaching!\n"
     ]
    }
   ],
   "source": [
    "# 继承的语法\n",
    "# 在python中，所有类都有共同的父类object\n",
    "\n",
    "class Person():\n",
    "    name = 'noName'\n",
    "    age = 18\n",
    "    __score = 0 # 私有\n",
    "    _petname = 'kaka' # 受保护\n",
    "    def sleep(self):\n",
    "        print('sleepping.....')\n",
    "\n",
    "class Teacher(Person):\n",
    "    teacher_id = '9527'\n",
    "    def teaching(self):\n",
    "        print('I am teaching!')\n",
    "\n",
    "t = Teacher()\n",
    "print(t.name)\n",
    "print(t._petname)  # 父类的保护成员可以访问，为啥？\n",
    "# print(t.__score)  # 公开访问父类私有变量，报错 \n",
    "\n",
    "print('\\n')\n",
    "# 子类对象可以访问父类的对象方法，也可以访问自身的对象方法\n",
    "t.sleep()\n",
    "print(t.teacher_id)\n",
    "t.teaching()"
   ]
  },
  {
   "cell_type": "code",
   "execution_count": 119,
   "metadata": {},
   "outputs": [
    {
     "name": "stdout",
     "output_type": "stream",
     "text": [
      "sarah\n"
     ]
    }
   ],
   "source": [
    "# 子类和父类共同定义一个变量，则优先使用子类自己的\n",
    "class Person():\n",
    "    name = 'noName'\n",
    "    age = 18\n",
    "    __score = 0\n",
    "    _petname = 'kaka'\n",
    "    \n",
    "    def sleep(self):\n",
    "        print('sleepping...')\n",
    "\n",
    "class Teacher():\n",
    "    teacher_id = '9526'\n",
    "    name = 'sarah'\n",
    "    def teaching(self):\n",
    "        print('teaching....')\n",
    "        \n",
    "t = Teacher()\n",
    "print(t.name)"
   ]
  },
  {
   "cell_type": "code",
   "execution_count": 127,
   "metadata": {},
   "outputs": [
    {
     "name": "stdout",
     "output_type": "stream",
     "text": [
      "working...and make some money\n",
      "teaching....\n"
     ]
    }
   ],
   "source": [
    "# 子类扩充父类功能的案例\n",
    "# 人有work的功能，老师也有，但是老师还要讲课\n",
    "class Person():\n",
    "    name = 'noName'\n",
    "    age = 18\n",
    "    __score = 0\n",
    "    _petname = 'kaka'\n",
    "    def sleep(self):\n",
    "        print('sleepping...')\n",
    "    def work(self):\n",
    "        print('working...and make some money')\n",
    "        \n",
    "class Teacher(Person):\n",
    "    teacher_id = '9525'\n",
    "    name = 'sarah'\n",
    "    def teach(self):\n",
    "        print('teaching....')\n",
    "        \n",
    "    # 这里扩充父类的功能只需要调用父类相应的函数\n",
    "    # Person.work(self)\n",
    "    # 也可以用super()获得父类\n",
    "    def work(self):\n",
    "        super().work()\n",
    "        # Person.work(self)\n",
    "        self.teach()\n",
    "\n",
    "t = Teacher()\n",
    "t.work()\n",
    "        "
   ]
  },
  {
   "cell_type": "markdown",
   "metadata": {},
   "source": [
    "- 继承的特征\n",
    "  - 所有的类都是object的子类\n",
    "  - 子类继承父类，则可以使用父类中除私有成员外的所有内容\n",
    "  - 子类继承父类后并没有将父类成员完全赋值到子类中，而是通过引用关系访问调用\n",
    "  - 子类中可以定义独有的成员属性和方法\n",
    "  - 子类中定义的成员和父类成员如果相同，则优先使用子类自身成员\n",
    "  - 子类如果想扩充父类的方法，可以在定义新方法的同时访问父类的成员进行代码重写，\n",
    "    - 可以使用父类名.父类成员——例如：Person.work(self)；\n",
    "    - 也可以用super()获得父类\n",
    "    \n",
    "- 继承变量函数的查找顺序问题\n",
    "  - 有限查找自己的变量，没有则找父类\n",
    "  - 构造函数如果本类中没有，则自动调用父类的构造函数\n",
    "  - 如果奔雷有定义，则不再继续向上找"
   ]
  },
  {
   "cell_type": "markdown",
   "metadata": {},
   "source": [
    "- 构造函数\n",
    "  - 是一类特殊的函数，在进行实例化之前进行调用\n",
    "  - 如果定义了构造函数，则实例化时调用它，而不查找父类的构造函数，否则自动查找父类的构造函数\n",
    "  - 如果子类没有定义构造函数，而父类构造函数带参数，则构造对象时的参数应该按照父类的参数构造"
   ]
  },
  {
   "cell_type": "code",
   "execution_count": 128,
   "metadata": {},
   "outputs": [
    {
     "name": "stdout",
     "output_type": "stream",
     "text": [
      "初始化了一条狗，I am init in dog\n"
     ]
    }
   ],
   "source": [
    "# 构造函数\n",
    "class Animel():\n",
    "    pass\n",
    "\n",
    "class BRAnimel(Animel):\n",
    "    pass\n",
    "\n",
    "class Dog(BRAnimel):\n",
    "    def __init__(self):\n",
    "        print('初始化了一条狗，I am init in dog')\n",
    "\n",
    "# 每次初始化对象时自动调用\n",
    "kaka = Dog()"
   ]
  },
  {
   "cell_type": "code",
   "execution_count": 129,
   "metadata": {},
   "outputs": [
    {
     "name": "stdout",
     "output_type": "stream",
     "text": [
      "初始化了一条狗，I am init in dog\n",
      "初始化了只哺乳动物\n"
     ]
    }
   ],
   "source": [
    "class Animel():\n",
    "    def __init__(self):\n",
    "        print('初始化了只动物')\n",
    "\n",
    "class BRAnimel(Animel):\n",
    "    def __init__(self):\n",
    "        print('初始化了只哺乳动物')\n",
    "\n",
    "class Dog(BRAnimel):\n",
    "    def __init__(self):\n",
    "        print('初始化了一条狗，I am init in dog')\n",
    "\n",
    "class Cat(BRAnimel):\n",
    "    pass\n",
    "\n",
    "# 猫并没有定义构造函数，于是调用了父类的构造函数\n",
    "# 在BRAnimel类中找到了，于是停止向上找\n",
    "d = Dog()\n",
    "c = Cat()"
   ]
  },
  {
   "cell_type": "code",
   "execution_count": 140,
   "metadata": {},
   "outputs": [
    {
     "ename": "TypeError",
     "evalue": "__init__() missing 1 required positional argument: 'name'",
     "traceback": [
      "\u001b[1;31m---------------------------------------------------------------------------\u001b[0m",
      "\u001b[1;31mTypeError\u001b[0m                                 Traceback (most recent call last)",
      "\u001b[1;32m<ipython-input-140-bf17e19e289a>\u001b[0m in \u001b[0;36m<module>\u001b[1;34m()\u001b[0m\n\u001b[0;32m     15\u001b[0m \u001b[1;33m\u001b[0m\u001b[0m\n\u001b[0;32m     16\u001b[0m \u001b[1;31m# 初始化c的时候，由于没有定义，于是向父类查找，父类构造函数需要传入参数name，所以报错\u001b[0m\u001b[1;33m\u001b[0m\u001b[1;33m\u001b[0m\u001b[0m\n\u001b[1;32m---> 17\u001b[1;33m \u001b[0mc\u001b[0m \u001b[1;33m=\u001b[0m \u001b[0mCat\u001b[0m\u001b[1;33m(\u001b[0m\u001b[1;33m)\u001b[0m\u001b[1;33m\u001b[0m\u001b[0m\n\u001b[0m\u001b[0;32m     18\u001b[0m \u001b[1;31m# c = Cat('oo')\u001b[0m\u001b[1;33m\u001b[0m\u001b[1;33m\u001b[0m\u001b[0m\n",
      "\u001b[1;31mTypeError\u001b[0m: __init__() missing 1 required positional argument: 'name'"
     ],
     "output_type": "error"
    }
   ],
   "source": [
    "class Animel():\n",
    "    def __init__(self):\n",
    "        print('初始化了只动物')\n",
    "\n",
    "class BRAnimel(Animel):\n",
    "    def __init__(self,name):\n",
    "        print('初始化了只名叫{0}的哺乳动物'.format(name))\n",
    "\n",
    "class Dog(BRAnimel):\n",
    "    def __init__(self):\n",
    "        print('初始化了一条狗，I am init in dog')\n",
    "\n",
    "class Cat(BRAnimel):\n",
    "    pass\n",
    "\n",
    "# 初始化c的时候，由于没有定义，于是向父类查找，父类构造函数需要传入参数name，所以报错\n",
    "c = Cat() # 所以报错\n",
    "# c = Cat('oo')"
   ]
  },
  {
   "cell_type": "code",
   "execution_count": 3,
   "metadata": {},
   "outputs": [
    {
     "name": "stdout",
     "output_type": "stream",
     "text": [
      "B构造\n",
      "我是C\n",
      "这是第一种方式实现的扩展C的功能\n"
     ]
    }
   ],
   "source": [
    "# 构造函数的调用顺序与扩展\n",
    "class A():\n",
    "    def __init__(self):\n",
    "        print('A')\n",
    "class B():\n",
    "    def __init__(self,name):\n",
    "        print('B构造')\n",
    "        print(name)\n",
    "        \n",
    "class C(B):\n",
    "    # c想扩展B的构造函数\n",
    "    # 调用B的构造函数后在添加一些功能\n",
    "    # 第一种方式实现\n",
    "    def __init__(self,name):\n",
    "        B.__init__(self,name)\n",
    "        print('这是第一种方式实现的扩展C的功能')\n",
    "\n",
    "       \n",
    "c = C('我是C')\n",
    "\n",
    "        \n",
    "    "
   ]
  },
  {
   "cell_type": "code",
   "execution_count": 4,
   "metadata": {},
   "outputs": [
    {
     "name": "stdout",
     "output_type": "stream",
     "text": [
      "B构造\n",
      "我是C\n",
      "这是第二种方式实现的扩展C的功能\n"
     ]
    }
   ],
   "source": [
    "# 构造函数的调用顺序与扩展\n",
    "class A():\n",
    "    def __init__(self):\n",
    "        print('A')\n",
    "class B():\n",
    "    def __init__(self,name):\n",
    "        print('B构造')\n",
    "        print(name)\n",
    "        \n",
    "class C(B):\n",
    "    # c想扩展B的构造函数\n",
    "    # 调用B的构造函数后在添加一些功能\n",
    "    # 第二种方式实现\n",
    "    def __init__(self,name):\n",
    "        super(C,self).__init__(name) # 首先调用父类的构造函数，下面再扩展自己的功能\n",
    "        print('这是第二种方式实现的扩展C的功能')\n",
    "\n",
    "       \n",
    "c = C('我是C')\n"
   ]
  },
  {
   "cell_type": "markdown",
   "metadata": {},
   "source": [
    "- super\n",
    "  - super不是关键字，而是一个类\n",
    "  - super的作用是获取MRO列表中的第一个类（Method Resolution Order）\n",
    "  - super于父类直接没任何实质性关系，但通过super可以调用到父类\n",
    "  - super使用两个方法，参见在构造函数中调用父类构造函数"
   ]
  },
  {
   "cell_type": "code",
   "execution_count": 141,
   "metadata": {},
   "outputs": [
    {
     "name": "stdout",
     "output_type": "stream",
     "text": [
      "<class 'type'>\n",
      "Help on class type in module builtins:\n",
      "\n",
      "class type(object)\n",
      " |  type(object_or_name, bases, dict)\n",
      " |  type(object) -> the object's type\n",
      " |  type(name, bases, dict) -> a new type\n",
      " |  \n",
      " |  Methods defined here:\n",
      " |  \n",
      " |  __call__(self, /, *args, **kwargs)\n",
      " |      Call self as a function.\n",
      " |  \n",
      " |  __delattr__(self, name, /)\n",
      " |      Implement delattr(self, name).\n",
      " |  \n",
      " |  __dir__(...)\n",
      " |      __dir__() -> list\n",
      " |      specialized __dir__ implementation for types\n",
      " |  \n",
      " |  __getattribute__(self, name, /)\n",
      " |      Return getattr(self, name).\n",
      " |  \n",
      " |  __init__(self, /, *args, **kwargs)\n",
      " |      Initialize self.  See help(type(self)) for accurate signature.\n",
      " |  \n",
      " |  __instancecheck__(...)\n",
      " |      __instancecheck__() -> bool\n",
      " |      check if an object is an instance\n",
      " |  \n",
      " |  __new__(*args, **kwargs)\n",
      " |      Create and return a new object.  See help(type) for accurate signature.\n",
      " |  \n",
      " |  __prepare__(...)\n",
      " |      __prepare__() -> dict\n",
      " |      used to create the namespace for the class statement\n",
      " |  \n",
      " |  __repr__(self, /)\n",
      " |      Return repr(self).\n",
      " |  \n",
      " |  __setattr__(self, name, value, /)\n",
      " |      Implement setattr(self, name, value).\n",
      " |  \n",
      " |  __sizeof__(...)\n",
      " |      __sizeof__() -> int\n",
      " |      return memory consumption of the type object\n",
      " |  \n",
      " |  __subclasscheck__(...)\n",
      " |      __subclasscheck__() -> bool\n",
      " |      check if a class is a subclass\n",
      " |  \n",
      " |  __subclasses__(...)\n",
      " |      __subclasses__() -> list of immediate subclasses\n",
      " |  \n",
      " |  mro(...)\n",
      " |      mro() -> list\n",
      " |      return a type's method resolution order\n",
      " |  \n",
      " |  ----------------------------------------------------------------------\n",
      " |  Data descriptors defined here:\n",
      " |  \n",
      " |  __abstractmethods__\n",
      " |  \n",
      " |  __dict__\n",
      " |  \n",
      " |  __text_signature__\n",
      " |  \n",
      " |  ----------------------------------------------------------------------\n",
      " |  Data and other attributes defined here:\n",
      " |  \n",
      " |  __base__ = <class 'object'>\n",
      " |      The most base type\n",
      " |  \n",
      " |  __bases__ = (<class 'object'>,)\n",
      " |  \n",
      " |  __basicsize__ = 864\n",
      " |  \n",
      " |  __dictoffset__ = 264\n",
      " |  \n",
      " |  __flags__ = -2146675712\n",
      " |  \n",
      " |  __itemsize__ = 40\n",
      " |  \n",
      " |  __mro__ = (<class 'type'>, <class 'object'>)\n",
      " |  \n",
      " |  __weakrefoffset__ = 368\n",
      "\n"
     ]
    }
   ],
   "source": [
    "print(type(super)) # 表明super是一个类\n",
    "help(type)\n",
    "# ??????????????????????????????????"
   ]
  },
  {
   "cell_type": "markdown",
   "metadata": {},
   "source": [
    "- 单继承和多继承\n",
    "  - 单继承：每个类只能继承一个父类\n",
    "  - 多继承：每个类允许继承多个父类\n",
    "- 各自优缺点\n",
    "  - 单继承：\n",
    "    - 优点：传承有序，逻辑清晰，简单，不易出错\n",
    "    - 缺点：功能不能无限扩展，只能在当前唯一的继承链中扩展\n",
    "  - 多继承：\n",
    "    - 优点：功能扩展方便\n",
    "    - 缺点：继承关系混乱\n",
    "\n",
    " "
   ]
  },
  {
   "cell_type": "code",
   "execution_count": 147,
   "metadata": {},
   "outputs": [
    {
     "name": "stdout",
     "output_type": "stream",
     "text": [
      "working...\n",
      "\n",
      "\n",
      "flying...\n",
      "swimming...\n"
     ]
    }
   ],
   "source": [
    "# 多继承的例子\n",
    "# 子类可以直接拥有父亲的属性和方法，私有除外\n",
    "# 注意构造函数的写法\n",
    "class Fish():\n",
    "    def __init__(self,name):\n",
    "        self.name = name\n",
    "    def swim(self):\n",
    "        print('swimming...')\n",
    "        \n",
    "class Bird():\n",
    "    def __init__(self,name):\n",
    "        self.name = name\n",
    "    def fly(self):\n",
    "        print('flying...')\n",
    "        \n",
    "class Person():\n",
    "    def __init__(self,name):\n",
    "        self.name = name\n",
    "    def work(self):\n",
    "        print('working...')\n",
    "    \n",
    "# 单继承的例子\n",
    "class Student(Person):\n",
    "    def __init__(self,name):\n",
    "        self.name = name\n",
    "s = Student('sarah')\n",
    "s.work()\n",
    "\n",
    "print('\\n')\n",
    "\n",
    "# 多继承的例子\n",
    "class SuperMan(Fish,Bird):\n",
    "    def __init__(self,name):\n",
    "        self.name = name\n",
    "\n",
    "superman = SuperMan('King')\n",
    "superman.fly()\n",
    "superman.swim()"
   ]
  },
  {
   "cell_type": "markdown",
   "metadata": {},
   "source": [
    "  - 多继承之菱形继承，钻石继承问题\n",
    "    - 多个子类继承自同一个弗雷，这些子类又被同一个类继承，继承关系图呈现菱形结构\n",
    "    - 关于多继承的 MRO（Method Resolution Order）\n",
    "      - MRO就是多继承中，用于保存继承顺序的一个列表\n",
    "      - Python本身采用C3算法来处理多继承和菱形继承进行计算的结果\n",
    "      - MRO列表的计算原则\n",
    "        - 子类永远在父类前面\n",
    "        - 如果有多个父类，则根据继承语法中括号内的书写顺序\n",
    "        - 如果多个类继承了同一个父类，孙子类中只会选取继承语法括号中第一个父亲的父类"
   ]
  },
  {
   "cell_type": "code",
   "execution_count": null,
   "metadata": {},
   "outputs": [],
   "source": [
    "# 菱形继承问题\n",
    "class A():\n",
    "    pass\n",
    "class B(A):\n",
    "    pass\n",
    "class C(A):\n",
    "    pass\n",
    "class D(B,C):\n",
    "    pass"
   ]
  },
  {
   "cell_type": "markdown",
   "metadata": {},
   "source": [
    "## 多态\n",
    "- 多态就是同一个对象在不同情况下有不同的状态出现\n",
    "- 多态不是语法，是一种设计思想\n",
    "- 多态和多态性\n",
    "  - 多态性：一种调用方式，不同的执行效果\n",
    "  - 多态：同一事物的多种形态\n",
    "  \n",
    "### Mixin设计模式\n",
    "  - 主要采用多继承方式对类的功能进行扩展\n",
    "  - [Mixin概念](https://www.zhihu.com/question/20778853)\n",
    "  - [MRO 和 Mixin](https://www.zhihu.com/question/20778853)\n",
    "  - [Mixin模式](https://www.cnblogs.com/xybaby/p/6484262.html)\n",
    "  - Mixin MRO\n",
    "  - MRO\n",
    "- 我们使用多继承语法来实现\n",
    "- 使用Mixin实现多继承功能扩展要谨慎\n",
    "  - 首先Mixin必须表示某一单一功能，而不是某个物品，或属性\n",
    "  - 职责必须单一，如果有多个功能，则可以写多个Mixin\n",
    "  - Mixin不能依赖子类的实现\n",
    "  - 子类即使没有继承这个Mixin类，也能照样工作，只是缺少了该Mixin的功能\n",
    "- 优点\n",
    "  - 使用Mixin可以在部队类进行任何修改的情况下，扩展功能\n",
    "  - 可以方便的组织和维护不同功能组件的划分\n",
    "  - 可以根据需要任意调整功能类的组合\n",
    "  - 可以避免创建很多新的类，导致类的继承混乱"
   ]
  },
  {
   "cell_type": "code",
   "execution_count": 27,
   "metadata": {},
   "outputs": [
    {
     "name": "stdout",
     "output_type": "stream",
     "text": [
      "(<class '__main__.Tutor'>, <class '__main__.Teacher'>, <class '__main__.Student'>, <class '__main__.Person'>, <class 'object'>)\n",
      "{}\n",
      "{'__module__': '__main__', '__doc__': None}\n"
     ]
    }
   ],
   "source": [
    "# Mixin案例\n",
    "\n",
    "class Person():\n",
    "    name = 'noName'\n",
    "    age = 18\n",
    "    \n",
    "    def eat(self):\n",
    "        print('eatting...')\n",
    "    def drink(self):\n",
    "        print('drinking...')\n",
    "    def sleep(self):\n",
    "        print('sleepping...')\n",
    "\n",
    "class Teacher(Person):\n",
    "    def work(self):\n",
    "        print('working...')\n",
    "        \n",
    "class Student(Person):\n",
    "    def study(self):\n",
    "        print('studing...')\n",
    "\n",
    "class Tutor(Teacher,Student):\n",
    "    pass\n",
    "\n",
    "t = Tutor()\n",
    "print(Tutor.__mro__)\n",
    "print(t.__dict__)# 对象成员为空\n",
    "print(Tutor.__dict__)# 类成员也基本没有\n"
   ]
  },
  {
   "cell_type": "code",
   "execution_count": 28,
   "metadata": {},
   "outputs": [
    {
     "name": "stdout",
     "output_type": "stream",
     "text": [
      "(<class '__main__.TutorM'>, <class '__main__.Person'>, <class '__main__.TeacherMixin'>, <class '__main__.StudentMixin'>, <class 'object'>)\n",
      "{}\n",
      "{'__module__': '__main__', '__doc__': None}\n",
      "working...00\n",
      "studing...01\n"
     ]
    }
   ],
   "source": [
    "class TeacherMixin():\n",
    "    def work(self):\n",
    "        print('working...00')\n",
    "class StudentMixin():\n",
    "    def study(self):\n",
    "        print('studing...01')\n",
    "class TutorM(Person,TeacherMixin,StudentMixin):\n",
    "    pass\n",
    "\n",
    "tt = TutorM()\n",
    "print(TutorM.__mro__)\n",
    "print(tt.__dict__)\n",
    "print(TutorM.__dict__)\n",
    "tt.work()\n",
    "tt.study()"
   ]
  },
  {
   "cell_type": "markdown",
   "metadata": {},
   "source": [
    "# 类de相关函数 Build-in Function\n",
    "- [Python的内置函数列表](https://www.cnblogs.com/pyyu/p/6702896.html)\n",
    "- issubclass:检测一个类是否是另一类的子类\n",
    "- isinstance:检测一个对象是否是一个类的实例\n",
    "- hasattr:检测一个对象是否有成员xxx\n",
    "- getattr:get attribute\n",
    "- setattr:set attribute\n",
    "- delattr:delete attribute\n",
    "- dir:获取对象的成员列表\n",
    "- help()"
   ]
  },
  {
   "cell_type": "code",
   "execution_count": 32,
   "metadata": {},
   "outputs": [
    {
     "name": "stdout",
     "output_type": "stream",
     "text": [
      "True\n",
      "False\n",
      "True\n"
     ]
    }
   ],
   "source": [
    "# issubclass:检测一个类是否是另一类的子类\n",
    "class A():\n",
    "    pass\n",
    "class B(A):\n",
    "    pass\n",
    "class C():\n",
    "    pass\n",
    "\n",
    "print(issubclass(B,A))\n",
    "print(issubclass(C,A))\n",
    "print(issubclass(A,object))"
   ]
  },
  {
   "cell_type": "code",
   "execution_count": 34,
   "metadata": {},
   "outputs": [
    {
     "name": "stdout",
     "output_type": "stream",
     "text": [
      "True\n",
      "False\n"
     ]
    }
   ],
   "source": [
    "# isinstance:检测一个对象是否是一个类的实例\n",
    "class A():\n",
    "    pass\n",
    "print(isinstance(a,A))\n",
    "print(isinstance(A,A))"
   ]
  },
  {
   "cell_type": "code",
   "execution_count": 39,
   "metadata": {},
   "outputs": [
    {
     "name": "stdout",
     "output_type": "stream",
     "text": [
      "True\n",
      "sarah\n"
     ]
    }
   ],
   "source": [
    "# hasattr:检测一个对象是否有成员xxx\n",
    "class A():\n",
    "    name = 'mike'\n",
    "a = A()\n",
    "print(hasattr(a,'name'))\n",
    "\n",
    "# setattr的用法\n",
    "setattr(a,'name','sarah')\n",
    "print(a.name)"
   ]
  },
  {
   "cell_type": "code",
   "execution_count": 38,
   "metadata": {},
   "outputs": [
    {
     "name": "stdout",
     "output_type": "stream",
     "text": [
      "Help on built-in function setattr in module builtins:\n",
      "\n",
      "setattr(obj, name, value, /)\n",
      "    Sets the named attribute on the given object to the specified value.\n",
      "    \n",
      "    setattr(x, 'y', v) is equivalent to ``x.y = v''\n",
      "\n"
     ]
    }
   ],
   "source": [
    "# help案例\n",
    "# 我想知道setattr的具体用法\n",
    "help(setattr)"
   ]
  },
  {
   "cell_type": "code",
   "execution_count": 49,
   "metadata": {},
   "outputs": [
    {
     "name": "stdout",
     "output_type": "stream",
     "text": [
      "['__class__', '__delattr__', '__dict__', '__dir__', '__doc__', '__eq__', '__format__', '__ge__', '__getattribute__', '__gt__', '__hash__', '__init__', '__init_subclass__', '__le__', '__lt__', '__module__', '__ne__', '__new__', '__reduce__', '__reduce_ex__', '__repr__', '__setattr__', '__sizeof__', '__str__', '__subclasshook__', '__weakref__', 'name']\n"
     ]
    },
    {
     "data": {
      "text/plain": [
       "['__class__',\n",
       " '__delattr__',\n",
       " '__dict__',\n",
       " '__dir__',\n",
       " '__doc__',\n",
       " '__eq__',\n",
       " '__format__',\n",
       " '__ge__',\n",
       " '__getattribute__',\n",
       " '__gt__',\n",
       " '__hash__',\n",
       " '__init__',\n",
       " '__init_subclass__',\n",
       " '__le__',\n",
       " '__lt__',\n",
       " '__module__',\n",
       " '__ne__',\n",
       " '__new__',\n",
       " '__reduce__',\n",
       " '__reduce_ex__',\n",
       " '__repr__',\n",
       " '__setattr__',\n",
       " '__sizeof__',\n",
       " '__str__',\n",
       " '__subclasshook__',\n",
       " '__weakref__',\n",
       " 'name']"
      ]
     },
     "execution_count": 49,
     "metadata": {},
     "output_type": "execute_result"
    }
   ],
   "source": [
    "# dir 获取对象的成员列表\n",
    "class A():\n",
    "    name = 'aaa'\n",
    "\n",
    "\n",
    "print(dir(A))\n",
    "a = A()\n",
    "\n",
    "dir(a)"
   ]
  },
  {
   "cell_type": "markdown",
   "metadata": {},
   "source": [
    "# 类de属性 \n",
    "- __dict__:以字典的方式显示类成员的组成\n",
    "- __doc__:获取类的说明文档信息\n",
    "- __name__:获取类的名称，如果在模块中使用，获取模块的名称\n",
    "- __module__: 类定义所在的模块（类的全名是'__main__.className'，如果类位于一个导入模块mymod中，那么className.__module__ 等于 mymod）\n",
    "- __bases__:获取某个类的所有父类，以元组的方式显示"
   ]
  },
  {
   "cell_type": "code",
   "execution_count": 57,
   "metadata": {},
   "outputs": [
    {
     "name": "stdout",
     "output_type": "stream",
     "text": [
      "Employee.__doc__: \n",
      "    ---所有员工的父类\n",
      "    这里是用来写这个类的说明文档的地方，\n",
      "    而且你想怎么写就怎么写\n",
      "    没有人会管你，好叻！\n",
      "    \n",
      "Employee.__name__: Employee\n",
      "Employee.__module__: __main__\n",
      "Employee.__bases__: (<class 'object'>,)\n",
      "Employee.__dict__: {'__module__': '__main__', '__doc__': '\\n    ---所有员工的父类\\n    这里是用来写这个类的说明文档的地方，\\n    而且你想怎么写就怎么写\\n    没有人会管你，好叻！\\n    ', 'empCount': 0, '__init__': <function Employee.__init__ at 0x00000000050BEE18>, 'displayCount': <function Employee.displayCount at 0x0000000004E21B70>, 'displayEmployee': <function Employee.displayEmployee at 0x0000000004E21950>, '__dict__': <attribute '__dict__' of 'Employee' objects>, '__weakref__': <attribute '__weakref__' of 'Employee' objects>}\n"
     ]
    }
   ],
   "source": [
    "# 内置属性案例\n",
    "class Employee:\n",
    "    '''\n",
    "    ---所有员工的父类\n",
    "    这里是用来写这个类的说明文档的地方，\n",
    "    而且你想怎么写就怎么写\n",
    "    没有人会管你，好叻！\n",
    "    '''\n",
    "    empCount = 0\n",
    "\n",
    "    def __init__(self, name, salary):\n",
    "        self.name = name\n",
    "        self.salary = salary\n",
    "        Employee.empCount += 1\n",
    "   \n",
    "    def displayCount(self):\n",
    "        print(\"Total Employee {0}\".Employee.empCount)\n",
    "\n",
    "    def displayEmployee(self):\n",
    "        print (\"Name : \", self.name,  \", Salary: \", self.salary)\n",
    "\n",
    "print(\"Employee.__doc__:\", Employee.__doc__)\n",
    "print(\"Employee.__name__:\", Employee.__name__)\n",
    "print(\"Employee.__module__:\", Employee.__module__)\n",
    "print(\"Employee.__bases__:\", Employee.__bases__)\n",
    "print(\"Employee.__dict__:\", Employee.__dict__)"
   ]
  },
  {
   "cell_type": "code",
   "execution_count": 67,
   "metadata": {},
   "outputs": [
    {
     "name": "stdout",
     "output_type": "stream",
     "text": [
      "SARAHSARAH\n",
      "NoNameNoName\n"
     ]
    }
   ],
   "source": [
    "# property案例\n",
    "# 要求对任意输入的姓名，具有name，age属性\n",
    "# 年龄，我们希望内部统一用整数保存\n",
    "# x = property(fget,fset,fdel,doc)\n",
    "class Person():\n",
    "    '''\n",
    "    定义一个Person类，具有name，age属性\n",
    "    这里是用来写这个类的说明文档的地方，\n",
    "    而且你想怎么写就怎么写\n",
    "    没有人会管你，好叻！\n",
    "    '''\n",
    "    # 函数的名称可以任意\n",
    "    def fget(self):\n",
    "        return self._name * 2\n",
    "    \n",
    "    def fset(self,name):\n",
    "        # 所有输入的姓名自动以大写形式保存\n",
    "        self._name = name.upper()\n",
    "    \n",
    "    def fdel(self):\n",
    "        self._name = 'NoName'\n",
    "    \n",
    "    name = property(fget,fset,fdel,'对name进行操作了')\n",
    "\n",
    "p1 = Person()\n",
    "p1.name = 'Sarah'\n",
    "print(p1.name)\n",
    "\n",
    "p1.fdel()\n",
    "print(p1.name)\n",
    "\n"
   ]
  },
  {
   "cell_type": "code",
   "execution_count": 44,
   "metadata": {},
   "outputs": [
    {
     "name": "stdout",
     "output_type": "stream",
     "text": [
      "输入的内容：55.644556\n",
      "保存的整数：55\n"
     ]
    }
   ],
   "source": [
    "# 作业：\n",
    "# 1. 在用户输入年龄的时候，可以输入整数，小数，浮点数\n",
    "# 2. 但内部为了数据清洁，我们统一需要保存整数，直接舍去小数点\n",
    "\n",
    "class Person():\n",
    "    '''\n",
    "    1. 在用户输入年龄的时候，可以输入整数，小数，浮点数\n",
    "    2. 但内部为了数据清洁，我们统一需要保存整数，直接舍去小数点 \n",
    "    '''\n",
    "    def getProperty(self):\n",
    "        return self._age\n",
    "    def setProperty(self,age):\n",
    "        self._age = int(float(age))\n",
    "    def delProperty(self):\n",
    "        self._age = 0\n",
    "    \n",
    "    age = property(getProperty,setProperty,delProperty,'对age进行操作了')\n",
    "p1 = Person()\n",
    "\n",
    "\n",
    "p1.age = input('输入的内容：')\n",
    "print('保存的整数：{0}'.format(p1.age))\n",
    "\n",
    "\n",
    "## 问题：如何设置多个属性？关于属性还是不太清楚！！！！！！！！！！！！！！！！！！！！！！！"
   ]
  },
  {
   "cell_type": "code",
   "execution_count": 49,
   "metadata": {},
   "outputs": [
    {
     "name": "stdout",
     "output_type": "stream",
     "text": [
      "{'__module__': '__main__', '__doc__': '\\n    1. 在用户输入年龄的时候，可以输入整数，小数，浮点数\\n    2. 但内部为了数据清洁，我们统一需要保存整数，直接舍去小数点 \\n    ', 'getProperty': <function Person.getProperty at 0x0000000004E51C80>, 'setProperty': <function Person.setProperty at 0x0000000004E51AE8>, 'delProperty': <function Person.delProperty at 0x0000000004E51D90>, 'age': <property object at 0x000000000512E138>, '__dict__': <attribute '__dict__' of 'Person' objects>, '__weakref__': <attribute '__weakref__' of 'Person' objects>}\n",
      "\n",
      "    1. 在用户输入年龄的时候，可以输入整数，小数，浮点数\n",
      "    2. 但内部为了数据清洁，我们统一需要保存整数，直接舍去小数点 \n",
      "    \n",
      "Person\n",
      "(<class 'object'>,)\n"
     ]
    }
   ],
   "source": [
    "# 类的内置属性举例\n",
    "print(Person.__dict__)\n",
    "print(Person.__doc__)\n",
    "print(Person.__name__)\n",
    "print(Person.__bases__)"
   ]
  },
  {
   "cell_type": "markdown",
   "metadata": {},
   "source": [
    "# 类的常用魔术方法\n",
    "- 魔术方法就是不需要手动调用的方法，在一些特定的时机自动触发\n",
    "- 魔术方法的写法：方法名左右加双下划线\n",
    "- 操作类\n",
    "  - __init__:构造函数时触发\n",
    "  - __new__:对象实例化时触发，比init要早，一般不需要使用\n",
    "  - __call__:把对象当函数使用的时候触发\n",
    "  - __str__:当对象被当做字符串使用的时候触发\n",
    "  - __repr__:返回字符串\n",
    "    - [__repr__跟__str__具体区别](https://blog.csdn.net/luckytanggu/article/details/53649156):\n",
    "    - __repr__和__str__这两个方法都是用于显示的，\n",
    "    - __str__是面向用户的，而__repr__面向程序员。\n",
    "  - [描述符相关](https://www.ibm.com/developerworks/cn/opensource/os-pythondescriptors/)\n",
    "    - __get__(self, instance, owner)\n",
    "    - __set__(self, instance, value)\n",
    "    - __delete__(self, instance)\n",
    "  - 属性操作相关\n",
    "    - __getattr__:访问一个不存在的属性时触发\n",
    "    - __setattr__:对成员属性进行设置的时候触发\n",
    "      - 参数：\n",
    "        - self用来获取当前对象\n",
    "        - 被设置的属性名称，以字符串形式出现\n",
    "        - 需要对属性名称设置的值\n",
    "      - 作用：进行属性设置的时候进行验证或者修改\n",
    "      - 注意：在该方法中不能对属性直接进行赋值操作，否则死循环\n",
    "      - 参看案例\n",
    "  - 运算分类相关魔术方法\n",
    "    - __gt__:进行大于判断的时候触发的函数\n",
    "      - 参数：\n",
    "        - self\n",
    "        - 第二个参数是第二个对象\n",
    "        - 返回值可以是任意值，推荐返回布尔值\n",
    "        - 参见案例"
   ]
  },
  {
   "cell_type": "code",
   "execution_count": 50,
   "metadata": {},
   "outputs": [
    {
     "name": "stdout",
     "output_type": "stream",
     "text": [
      "构造对象自动调用\n"
     ]
    }
   ],
   "source": [
    "# __init__的例子\n",
    "class A():\n",
    "    def __init__(self,name = 0):\n",
    "        print('构造对象自动调用')\n",
    "a = A()"
   ]
  },
  {
   "cell_type": "code",
   "execution_count": 57,
   "metadata": {},
   "outputs": [
    {
     "name": "stdout",
     "output_type": "stream",
     "text": [
      "我被Call了\n"
     ]
    }
   ],
   "source": [
    "# __call__把对象当函数用的时候调用，call他一下\n",
    "class Person():\n",
    "    def __call__(self):\n",
    "        print('我被Call了')\n",
    "p = Person()\n",
    "p()\n"
   ]
  },
  {
   "cell_type": "code",
   "execution_count": 66,
   "metadata": {},
   "outputs": [
    {
     "name": "stdout",
     "output_type": "stream",
     "text": [
      "我被当作字符串了\n"
     ]
    }
   ],
   "source": [
    "# __str__\n",
    "class Person():\n",
    "    def __str__(self):\n",
    "        return '我被当作字符串了'\n",
    "p = Person()\n",
    "print(p)"
   ]
  },
  {
   "cell_type": "code",
   "execution_count": 71,
   "metadata": {},
   "outputs": [
    {
     "name": "stdout",
     "output_type": "stream",
     "text": [
      "没有啊\n",
      "None\n"
     ]
    }
   ],
   "source": [
    "# __getattr__\n",
    "class A():\n",
    "    m = 'mm'\n",
    "    age = 11\n",
    "    def __getattr__(self,name):\n",
    "        print('没有啊')\n",
    "        \n",
    "a = A()\n",
    "print(a.add)\n",
    "# 为什么会打印一个None？\n",
    "# 因为__getattr__(self,name)这个函数有返回值，不写的话默认为None"
   ]
  },
  {
   "cell_type": "code",
   "execution_count": 102,
   "metadata": {},
   "outputs": [
    {
     "name": "stdout",
     "output_type": "stream",
     "text": [
      "设置属性age\n",
      "100\n"
     ]
    }
   ],
   "source": [
    "# __setattr__ 设置一个成员时触发，不写就默认存在\n",
    "class B():\n",
    "    age = 0\n",
    "    def __setattr__(self,name,value):\n",
    "        super().__setattr__(name,value)\n",
    "        print('设置属性{0}'.format(name))\n",
    "        # self.name = value  这语句会导致死循环\n",
    "        # 为避免此种情况，规定统一调用父类魔法函数\n",
    "        \n",
    "b = B()\n",
    "b.age = 100\n",
    "print(b.age)"
   ]
  },
  {
   "cell_type": "code",
   "execution_count": 109,
   "metadata": {},
   "outputs": [
    {
     "name": "stdout",
     "output_type": "stream",
     "text": [
      "False\n"
     ]
    }
   ],
   "source": [
    "# __gt__ 运算分类相关魔术方法,进行大于判断的时候触发的函数\n",
    "class Student():\n",
    "    def __init__(self,name):\n",
    "        self._name = name\n",
    "        \n",
    "    def __gt__(self,obj): \n",
    "        # self,第二个参数是第二个对象,返回值可以是任意值，推荐返回布尔值\n",
    "        return self._name > obj._name\n",
    "\n",
    "stu1 = Student('one')\n",
    "stu2 = Student('two')\n",
    "print(stu1 > stu2)\n",
    "\n",
    "# 此函数功能是当前对象和别的对象进行比较的时候，触发一些行为。可以返回任意值。\n",
    "# 字符串的比较是按什么规则        "
   ]
  },
  {
   "cell_type": "markdown",
   "metadata": {},
   "source": [
    "# 类和对象的三种方法（函数）\n",
    "- 实例方法\n",
    "  - 需要实例化对象才能使用的方法，使用过程中可能需要借助对象的其他方法完成\n",
    "- 静态方法\n",
    "  - 不需要实例化，通过类名直接调用\n",
    "- 类方法\n",
    "  - 不需要实例化\n",
    "- [三种方法的区别](https://blog.csdn.net/autoliuweijie/article/details/50557230)\n",
    "- [三种方法的区别2](https://www.cnblogs.com/wcwnina/p/8644892.html)\n",
    "- 参看案例"
   ]
  },
  {
   "cell_type": "code",
   "execution_count": 119,
   "metadata": {},
   "outputs": [
    {
     "name": "stdout",
     "output_type": "stream",
     "text": [
      "<__main__.Person object at 0x000000000525B0F0>\n",
      "我是实例方法\n",
      "\n",
      "\n",
      "<class '__main__.Person'>\n",
      "我是类方法\n",
      "<class '__main__.Person'>\n",
      "我是类方法\n",
      "\n",
      "\n",
      "我是静态方法\n",
      "我是静态方法\n"
     ]
    }
   ],
   "source": [
    "# 三种方法的例子\n",
    "class Person():\n",
    "    # 实例方法\n",
    "    def eat(self):\n",
    "        print(self)\n",
    "        print('我是实例方法')\n",
    "        \n",
    "    # 类方法，第一个参数一般命名为cls，区别于self\n",
    "    @classmethod\n",
    "    def play(cls):\n",
    "        print(cls)\n",
    "        print('我是类方法')\n",
    "    @staticmethod\n",
    "    def say():\n",
    "        print('我是静态方法')\n",
    "\n",
    "p = Person()\n",
    "\n",
    "p.eat()\n",
    "print('\\n')\n",
    "Person.play()\n",
    "p.play()# 实例调用类方法，系统还是把它当作类调用的\n",
    "print('\\n')\n",
    "Person.say()\n",
    "p.say()# 实例调用静态方法也可以"
   ]
  },
  {
   "cell_type": "markdown",
   "metadata": {},
   "source": [
    "# 类-成员描述-属性的补充"
   ]
  },
  {
   "cell_type": "code",
   "execution_count": 123,
   "metadata": {},
   "outputs": [
    {
     "name": "stdout",
     "output_type": "stream",
     "text": [
      "aaa\n"
     ]
    },
    {
     "data": {
      "text/plain": [
       "{'age': 18}"
      ]
     },
     "execution_count": 123,
     "metadata": {},
     "output_type": "execute_result"
    }
   ],
   "source": [
    "#变量的三种用法\n",
    "\n",
    "class A():\n",
    "    def __init__(self):\n",
    "        self.name = \"haha\"\n",
    "        self.age =18\n",
    "        \n",
    "# 属性的三种用法\n",
    "# 赋值\n",
    "# 读取\n",
    "# 删除\n",
    "a = A()\n",
    "a.name = 'aaa'\n",
    "print(a.name)\n",
    "del a.name\n",
    "a.__dict__"
   ]
  },
  {
   "cell_type": "code",
   "execution_count": 132,
   "metadata": {},
   "outputs": [
    {
     "name": "stdout",
     "output_type": "stream",
     "text": [
      "我被读取了\n",
      "haha\n"
     ]
    }
   ],
   "source": [
    "# 类属性 property\n",
    "# 应用场景\n",
    "# 对应变量除了普通三种操作，还想增加一些附加的操作，那么可以通过property来完成\n",
    "class A():\n",
    "    def __init__(self):\n",
    "        self.name = \"haha\"\n",
    "        self.age =18\n",
    "    # 是对类变量进行读取操作的时候应该执行的功能\n",
    "    def fget(self):\n",
    "        print('我被读取了')\n",
    "        return self.name\n",
    "    # 对对象进行写操作的时候执行的功能\n",
    "    def fset(self,name):\n",
    "        print('我被改写了')\n",
    "        self.name = '我变成'+ name\n",
    "    # 模拟删除的时候执行的功能\n",
    "    def fdel(self):\n",
    "        pass  #不让你删除，忽略\n",
    "    \n",
    "    # property的四个参数顺序是固定的\n",
    "      # 第一个参数代表读取时调用\n",
    "      # 第二个参数代表写入时调用\n",
    "      # 第三个是删除\n",
    "    name2 = property(fget,fset,fdel,'这里是property的说明文档')\n",
    "\n",
    "a = A()\n",
    "#print(a.name)\n",
    "print(a.name2)       "
   ]
  },
  {
   "cell_type": "markdown",
   "metadata": {},
   "source": [
    "# 抽象类\n",
    "- 抽象方法：没有具体实现内容的方法称为抽象方法\n",
    "- 抽象方法的主要意义是规范了子类的行为和接口\n",
    "- 抽象类的使用需要借助abc模块\n",
    "\n",
    "     import abc\n",
    "    "
   ]
  },
  {
   "cell_type": "code",
   "execution_count": 136,
   "metadata": {},
   "outputs": [
    {
     "name": "stdout",
     "output_type": "stream",
     "text": [
      "闻闻对方\n",
      "你好\n"
     ]
    }
   ],
   "source": [
    "# 抽象：规范事务的行为\n",
    "# 父类不实现，只是定义接口,具体实现交给子类\n",
    "class Ab():\n",
    "    def sayHello(self):\n",
    "        pass\n",
    "\n",
    "\n",
    "class Dog(Ab):\n",
    "    def sayHello(self):\n",
    "        print('闻闻对方')\n",
    "class Person(Ab):\n",
    "    def sayHello(self):\n",
    "        print('你好')\n",
    "\n",
    "d = Dog()\n",
    "d.sayHello()\n",
    "p = Person()\n",
    "p.sayHello()"
   ]
  },
  {
   "cell_type": "markdown",
   "metadata": {},
   "source": [
    "- 抽象类：包含抽象方法的类，叫抽象类，通常叫ABC类\n",
    "- 抽象类的使用\n",
    "  - 可以包含抽象方法，也可包含具体方法\n",
    "  - 抽象类中可以有方法也可以有属性\n",
    "  - 抽象类不允许直接实例化\n",
    "    - 必须继承才可以使用，且继承的子类必须实现所有继承来的抽象方法\n",
    "  - 假定子类没有实现所有继承的抽象方法，则子类也不能实例化\n",
    "  - 抽象类的主要作用是设定类的标准，以便于开发是具有统一规范"
   ]
  },
  {
   "cell_type": "code",
   "execution_count": 139,
   "metadata": {},
   "outputs": [],
   "source": [
    "# 抽象类的实现\n",
    "import abc\n",
    "\n",
    "# 声明一个类并且指定当前类的元类\n",
    "class Human(metaclass = abc.ABCMeta):\n",
    "    # 定义一个实例抽象方法\n",
    "    @abc.abstractmethod\n",
    "    def smoking(self):\n",
    "        pass\n",
    "    # 定义一个类抽象方法\n",
    "    @abc.abstractclassmethod\n",
    "    def drink():\n",
    "        pass\n",
    "    # 定义一个静态抽象方法\n",
    "    @abc.abstractstaticmethod\n",
    "    def play():\n",
    "        pass\n",
    "    def sleep():\n",
    "        print('sleep...')"
   ]
  },
  {
   "cell_type": "markdown",
   "metadata": {},
   "source": [
    "# 自定义类\n",
    "- 类其实是一个定义和各种方法的自由组合\n",
    "- 可以定义类和函数，然后自己通过类直接赋值\n",
    "- 可以借助于MethodType实现\n",
    "- 可以借助于type实现\n",
    "- 利用元类实现\n",
    "  - 元类也是类\n",
    "  - MetaClass,创造类的类，生产机器的机器\n",
    "  - 用来创造别的类"
   ]
  },
  {
   "cell_type": "code",
   "execution_count": 145,
   "metadata": {},
   "outputs": [
    {
     "name": "stdout",
     "output_type": "stream",
     "text": [
      "saying\n",
      "saying\n",
      "saying\n"
     ]
    }
   ],
   "source": [
    "# 类可以自由组装\n",
    "class A():\n",
    "    pass\n",
    "\n",
    "def say(self):\n",
    "    print('saying')\n",
    "    \n",
    "say(1)\n",
    "A.say = say\n",
    "# 函数名可以当变量使用，通过赋值组装到类成员里使用\n",
    "a = A()\n",
    "a.say()\n",
    "\n",
    "#函数名当变量用\n",
    "A.han = say\n",
    "a.han()"
   ]
  },
  {
   "cell_type": "code",
   "execution_count": 150,
   "metadata": {},
   "outputs": [
    {
     "name": "stdout",
     "output_type": "stream",
     "text": [
      "saying\n"
     ]
    }
   ],
   "source": [
    "# 组装2\n",
    "# 导入MethodType\n",
    "from types import MethodType\n",
    "\n",
    "class A():\n",
    "    pass\n",
    "\n",
    "def say(self):\n",
    "    print('saying')\n",
    "\n",
    "a = A()\n",
    "\n",
    "# MethodType可以将不相关的类和函数绑在一起\n",
    "# 通过MethodType将say函数绑定到A类上，然后在赋值给对象a\n",
    "a.say = MethodType(say,A)\n",
    "a.say()\n"
   ]
  },
  {
   "cell_type": "code",
   "execution_count": 152,
   "metadata": {},
   "outputs": [
    {
     "name": "stdout",
     "output_type": "stream",
     "text": [
      "Help on class method in module builtins:\n",
      "\n",
      "class method(object)\n",
      " |  method(function, instance)\n",
      " |  \n",
      " |  Create a bound instance method object.\n",
      " |  \n",
      " |  Methods defined here:\n",
      " |  \n",
      " |  __call__(self, /, *args, **kwargs)\n",
      " |      Call self as a function.\n",
      " |  \n",
      " |  __delattr__(self, name, /)\n",
      " |      Implement delattr(self, name).\n",
      " |  \n",
      " |  __eq__(self, value, /)\n",
      " |      Return self==value.\n",
      " |  \n",
      " |  __ge__(self, value, /)\n",
      " |      Return self>=value.\n",
      " |  \n",
      " |  __get__(self, instance, owner, /)\n",
      " |      Return an attribute of instance, which is of type owner.\n",
      " |  \n",
      " |  __getattribute__(self, name, /)\n",
      " |      Return getattr(self, name).\n",
      " |  \n",
      " |  __gt__(self, value, /)\n",
      " |      Return self>value.\n",
      " |  \n",
      " |  __hash__(self, /)\n",
      " |      Return hash(self).\n",
      " |  \n",
      " |  __le__(self, value, /)\n",
      " |      Return self<=value.\n",
      " |  \n",
      " |  __lt__(self, value, /)\n",
      " |      Return self<value.\n",
      " |  \n",
      " |  __ne__(self, value, /)\n",
      " |      Return self!=value.\n",
      " |  \n",
      " |  __new__(*args, **kwargs) from builtins.type\n",
      " |      Create and return a new object.  See help(type) for accurate signature.\n",
      " |  \n",
      " |  __reduce__(...)\n",
      " |      helper for pickle\n",
      " |  \n",
      " |  __repr__(self, /)\n",
      " |      Return repr(self).\n",
      " |  \n",
      " |  __setattr__(self, name, value, /)\n",
      " |      Implement setattr(self, name, value).\n",
      " |  \n",
      " |  ----------------------------------------------------------------------\n",
      " |  Data descriptors defined here:\n",
      " |  \n",
      " |  __func__\n",
      " |      the function (or other callable) implementing a method\n",
      " |  \n",
      " |  __self__\n",
      " |      the instance to which a method is bound\n",
      "\n"
     ]
    }
   ],
   "source": [
    "help(MethodType)"
   ]
  },
  {
   "cell_type": "code",
   "execution_count": 153,
   "metadata": {},
   "outputs": [
    {
     "data": {
      "text/plain": [
       "int"
      ]
     },
     "execution_count": 153,
     "metadata": {},
     "output_type": "execute_result"
    }
   ],
   "source": [
    "type(9)\n",
    "#  |  type(object) -> the object's type\n"
   ]
  },
  {
   "cell_type": "code",
   "execution_count": 155,
   "metadata": {},
   "outputs": [
    {
     "name": "stdout",
     "output_type": "stream",
     "text": [
      "Help on class type in module builtins:\n",
      "\n",
      "class type(object)\n",
      " |  type(object_or_name, bases, dict)\n",
      " |  type(object) -> the object's type\n",
      " |  type(name, bases, dict) -> a new type\n",
      " |  \n",
      " |  Methods defined here:\n",
      " |  \n",
      " |  __call__(self, /, *args, **kwargs)\n",
      " |      Call self as a function.\n",
      " |  \n",
      " |  __delattr__(self, name, /)\n",
      " |      Implement delattr(self, name).\n",
      " |  \n",
      " |  __dir__(...)\n",
      " |      __dir__() -> list\n",
      " |      specialized __dir__ implementation for types\n",
      " |  \n",
      " |  __getattribute__(self, name, /)\n",
      " |      Return getattr(self, name).\n",
      " |  \n",
      " |  __init__(self, /, *args, **kwargs)\n",
      " |      Initialize self.  See help(type(self)) for accurate signature.\n",
      " |  \n",
      " |  __instancecheck__(...)\n",
      " |      __instancecheck__() -> bool\n",
      " |      check if an object is an instance\n",
      " |  \n",
      " |  __new__(*args, **kwargs)\n",
      " |      Create and return a new object.  See help(type) for accurate signature.\n",
      " |  \n",
      " |  __prepare__(...)\n",
      " |      __prepare__() -> dict\n",
      " |      used to create the namespace for the class statement\n",
      " |  \n",
      " |  __repr__(self, /)\n",
      " |      Return repr(self).\n",
      " |  \n",
      " |  __setattr__(self, name, value, /)\n",
      " |      Implement setattr(self, name, value).\n",
      " |  \n",
      " |  __sizeof__(...)\n",
      " |      __sizeof__() -> int\n",
      " |      return memory consumption of the type object\n",
      " |  \n",
      " |  __subclasscheck__(...)\n",
      " |      __subclasscheck__() -> bool\n",
      " |      check if a class is a subclass\n",
      " |  \n",
      " |  __subclasses__(...)\n",
      " |      __subclasses__() -> list of immediate subclasses\n",
      " |  \n",
      " |  mro(...)\n",
      " |      mro() -> list\n",
      " |      return a type's method resolution order\n",
      " |  \n",
      " |  ----------------------------------------------------------------------\n",
      " |  Data descriptors defined here:\n",
      " |  \n",
      " |  __abstractmethods__\n",
      " |  \n",
      " |  __dict__\n",
      " |  \n",
      " |  __text_signature__\n",
      " |  \n",
      " |  ----------------------------------------------------------------------\n",
      " |  Data and other attributes defined here:\n",
      " |  \n",
      " |  __base__ = <class 'object'>\n",
      " |      The most base type\n",
      " |  \n",
      " |  __bases__ = (<class 'object'>,)\n",
      " |  \n",
      " |  __basicsize__ = 864\n",
      " |  \n",
      " |  __dictoffset__ = 264\n",
      " |  \n",
      " |  __flags__ = -2146675712\n",
      " |  \n",
      " |  __itemsize__ = 40\n",
      " |  \n",
      " |  __mro__ = (<class 'type'>, <class 'object'>)\n",
      " |  \n",
      " |  __weakrefoffset__ = 368\n",
      "\n"
     ]
    }
   ],
   "source": [
    "help(type)"
   ]
  },
  {
   "cell_type": "code",
   "execution_count": 162,
   "metadata": {},
   "outputs": [
    {
     "name": "stdout",
     "output_type": "stream",
     "text": [
      "playing\n",
      "saying\n"
     ]
    }
   ],
   "source": [
    "# |  type(name, bases, dict) -> a new type\n",
    "# 利用type造一个类\n",
    "\n",
    "# 先定义一个函数\n",
    "\n",
    "def say(self):\n",
    "    print('saying')\n",
    "def play(self):\n",
    "    print('playing')\n",
    "    \n",
    "# 用type组装一个类\n",
    "A =type('Aclass',(object,),{'class_say':say,'class_play':play})\n",
    "\n",
    "# 然后我们就得到一个类A，然后就可以正常使用了\n",
    "\n",
    "a = A()\n",
    "# A.__dict__\n",
    "# dir(a)\n",
    "\n",
    "a.class_play()\n",
    "a.class_say()"
   ]
  },
  {
   "cell_type": "code",
   "execution_count": 170,
   "metadata": {},
   "outputs": [
    {
     "name": "stdout",
     "output_type": "stream",
     "text": [
      "哈哈我是元类\n"
     ]
    },
    {
     "data": {
      "text/plain": [
       "'000000'"
      ]
     },
     "execution_count": 170,
     "metadata": {},
     "output_type": "execute_result"
    }
   ],
   "source": [
    "# 元类演示\n",
    "# 元类写法是固定的，他必须继承自type\n",
    "# 元类的命名必须以MetalClass结尾\n",
    "# 参考廖雪峰关于元类的\n",
    "\n",
    "class YuanMetalClass(type):\n",
    "    def __new__(cls,name,bases,attrs):\n",
    "        #自己的业务\n",
    "        print('哈哈我是元类')\n",
    "        attrs['id'] = '000000'\n",
    "        attrs['addr'] = '北京市朝阳区'\n",
    "        return type.__new__(cls,name,bases,attrs)\n",
    "    \n",
    "# 定义完了就可以使用，但注意写法\n",
    "\n",
    "class PersonQD(object,metaclass = YuanMetalClass):\n",
    "    pass\n",
    "p = PersonQD()\n",
    "#p.__dict__\n",
    "p.id"
   ]
  },
  {
   "cell_type": "code",
   "execution_count": null,
   "metadata": {},
   "outputs": [],
   "source": []
  }
 ],
 "metadata": {
  "kernelspec": {
   "display_name": "Python 3",
   "language": "python",
   "name": "python3"
  },
  "language_info": {
   "codemirror_mode": {
    "name": "ipython",
    "version": 3
   },
   "file_extension": ".py",
   "mimetype": "text/x-python",
   "name": "python",
   "nbconvert_exporter": "python",
   "pygments_lexer": "ipython3",
   "version": "3.6.5"
  }
 },
 "nbformat": 4,
 "nbformat_minor": 2
}
