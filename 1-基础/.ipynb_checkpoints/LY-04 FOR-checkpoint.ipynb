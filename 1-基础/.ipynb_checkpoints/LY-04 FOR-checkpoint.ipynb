{
 "cells": [
  {
   "cell_type": "markdown",
   "metadata": {},
   "source": [
    "# 简单图形打印\n",
    "'''\n",
    "打印以下图形\n",
    "×××××\n",
    "×××××\n",
    "×××××\n",
    "×××××\n",
    "'''\n",
    "\n",
    "print(\"*  \" * 5)\n",
    "print(\"*  \" * 5)\n",
    "print(\"*  \" * 5)\n",
    "print(\"*  \" * 5)\n",
    "print(\"*  \" * 5)"
   ]
  },
  {
   "cell_type": "code",
   "execution_count": 17,
   "metadata": {},
   "outputs": [
    {
     "name": "stdout",
     "output_type": "stream",
     "text": [
      "*  *  *  *  *  \n",
      "*  *  *  *  *  \n",
      "*  *  *  *  *  \n",
      "*  *  *  *  *  \n"
     ]
    }
   ],
   "source": [
    "for i in range(0,4):\n",
    "    print(\"*  \" * 5)"
   ]
  },
  {
   "cell_type": "code",
   "execution_count": 29,
   "metadata": {},
   "outputs": [
    {
     "name": "stdout",
     "output_type": "stream",
     "text": [
      "*  *  *  *  *  \n",
      "*  *  *  *  *  \n",
      "*  *  *  *  *  \n",
      "*  *  *  *  *  \n"
     ]
    }
   ],
   "source": [
    "#利用for循环打印4行*，rang(0,4)代表从0到4打印四行        \n",
    "#通过end参数控制不换行（end=\"\"代表不换行，不写就自动换行）    \n",
    "#打印空字符代表默认换行，#print()默认自动换行\n",
    "for i in range(0,4):\n",
    "    for j in range(0,5):\n",
    "        print(\"*  \",end=\"\")\n",
    "    print()"
   ]
  },
  {
   "cell_type": "markdown",
   "metadata": {},
   "source": [
    "#打印以下图形\n",
    "'''\n",
    "打印以下图形\n",
    "×××××\n",
    "×   ×\n",
    "×   ×\n",
    "×××××\n",
    "思路：\n",
    "1、正常利用for循环\n",
    "2、如果是第一行和最后一行，则完整打印\n",
    "3、否则判断打印咧，如果是第一列或最后一列则打印*,否则打印空格\n",
    "'''"
   ]
  },
  {
   "cell_type": "code",
   "execution_count": 35,
   "metadata": {},
   "outputs": [
    {
     "name": "stdout",
     "output_type": "stream",
     "text": [
      "* * * * * \n",
      "*       *\n",
      "*       *\n",
      "* * * * * \n"
     ]
    }
   ],
   "source": [
    "# 外层循环控制,一行行打\n",
    "for i in range(0,4):\n",
    "    if i==0:\n",
    "        print(\"* \"*5)\n",
    "    if i==1:\n",
    "        print(\"*       *\")\n",
    "    if i==2:\n",
    "        print(\"*       *\")\n",
    "    if i==3:\n",
    "        print(\"* \"*5)\n",
    "    "
   ]
  },
  {
   "cell_type": "code",
   "execution_count": 83,
   "metadata": {},
   "outputs": [
    {
     "name": "stdout",
     "output_type": "stream",
     "text": [
      "* * * * * \n",
      "*       *\n",
      "*       *\n",
      "* * * * * \n"
     ]
    }
   ],
   "source": [
    "#判断第1、4行打满\n",
    "for i in range(5):\n",
    "        if i==0 or i==3:\n",
    "            print(\"* \"*5)\n",
    "        if i==1 or i==2:\n",
    "            print(\"*       *\")\n",
    "        \n"
   ]
  },
  {
   "cell_type": "code",
   "execution_count": 54,
   "metadata": {},
   "outputs": [
    {
     "name": "stdout",
     "output_type": "stream",
     "text": [
      "* * * * * \n",
      "*       * \n",
      "*       * \n",
      "* * * * * \n"
     ]
    }
   ],
   "source": [
    "#\n",
    "for i in range(0,4):\n",
    "        if i==0 or i==3:\n",
    "            print(\"* \"*5)\n",
    "            \n",
    "        if i==1 or i==2:\n",
    "            for j in range(5):\n",
    "                if j==0 or j==4:\n",
    "                    print(\"* \",end=\"\")\n",
    "                else:\n",
    "                    print(\"  \",end=\"\")\n",
    "            print()\n"
   ]
  },
  {
   "cell_type": "code",
   "execution_count": 87,
   "metadata": {},
   "outputs": [
    {
     "name": "stdout",
     "output_type": "stream",
     "text": [
      "* \n",
      "* * \n",
      "* * * \n",
      "* * * * \n",
      "* * * * * \n"
     ]
    }
   ],
   "source": [
    "#打印三角形,打印每一行，每一行打印i+1个星号，一行打完不换行end=”“，一行完毕换行print()\n",
    "for i in range(5):\n",
    "    for j in range(i+1):\n",
    "        print(\"* \",end=\"\"#不换行)\n",
    "    print()#换行"
   ]
  },
  {
   "cell_type": "code",
   "execution_count": 91,
   "metadata": {},
   "outputs": [
    {
     "name": "stdout",
     "output_type": "stream",
     "text": [
      "* \n",
      "* * \n",
      "*   * \n",
      "*     * \n",
      "* * * * * \n"
     ]
    }
   ],
   "source": [
    "#打印空心三角形\n",
    "#先判断是第几行，最后一行全部打印所有星星\n",
    "#如果不是最后一行，判断是第一列或是最后一列，j控制的是列的数字\n",
    "#否则打印空格\n",
    "for i in range(5):\n",
    "    for j in range(i+1):\n",
    "        if i==4:               \n",
    "            print(\"* \",end=\"\")\n",
    "            continue\n",
    "                              \n",
    "        if j==0 or j==i:\n",
    "            print(\"* \",end=\"\")\n",
    "        else:\n",
    "            print(\"  \",end=\"\")\n",
    "        \n",
    "    print()"
   ]
  },
  {
   "cell_type": "code",
   "execution_count": 125,
   "metadata": {},
   "outputs": [
    {
     "name": "stdout",
     "output_type": "stream",
     "text": [
      "* * * * * \n",
      "* * * * \n",
      "* * * \n",
      "* * \n",
      "* \n",
      "\n",
      "\n",
      "* * * * * \n",
      "* * * * \n",
      "* * * \n",
      "* * \n",
      "* \n",
      "\n",
      "\n",
      "* * * * * \n",
      "*     * \n",
      "*   * \n",
      "* * \n",
      "* \n"
     ]
    }
   ],
   "source": [
    "#倒立三角\n",
    "'''\n",
    "*****\n",
    "****\n",
    "***\n",
    "**\n",
    "*\n",
    "''' \n",
    "# i-for控制行号\n",
    "# j-for控制列号\n",
    "for i in range(5):\n",
    "    for j in range(5-i):\n",
    "        print(\"* \",end=\"\")\n",
    "    print()#换行\n",
    "    \n",
    "print()\n",
    "print()\n",
    "\n",
    "#另一种写法\n",
    "#range(起始，终点，步长)\n",
    "for i in range(5,0,-1):\n",
    "    for j in range(i,0,-1):\n",
    "        print(\"* \",end=\"\")\n",
    "    print()#换行\n",
    "\n",
    "print()\n",
    "print()\n",
    "    \n",
    "    \n",
    "for i in range(5):\n",
    "    for j in range(5-i):\n",
    "        if i==0:\n",
    "            print(\"* \",end=\"\")\n",
    "            continue\n",
    "            \n",
    "        if j==0 or j==5-i-1:\n",
    "            print(\"* \",end=\"\")\n",
    "        else:\n",
    "            print(\"  \",end=\"\")\n",
    "        \n",
    "    print()\n",
    "\n",
    "    "
   ]
  },
  {
   "cell_type": "code",
   "execution_count": 127,
   "metadata": {},
   "outputs": [
    {
     "name": "stdout",
     "output_type": "stream",
     "text": [
      "      * \n",
      "     * * \n",
      "    * * * \n",
      "   * * * * \n",
      "  * * * * * \n",
      " * * * * * * \n"
     ]
    }
   ],
   "source": [
    "#正三角形\n",
    "#先打印一行空格代表每一行星星前的空格\n",
    "#再不换行，打印星号\n",
    "\n",
    "for i in range(6):\n",
    "    for j in range(6-i):\n",
    "        print(\" \",end=\"\")\n",
    "    for m in range(i+1):\n",
    "        print(\"* \",end=\"\")\n",
    "    print()\n",
    "    "
   ]
  },
  {
   "cell_type": "code",
   "execution_count": 135,
   "metadata": {},
   "outputs": [
    {
     "name": "stdout",
     "output_type": "stream",
     "text": [
      "    * \n",
      "   * * \n",
      "  *   * \n",
      " *     * \n",
      "* * * * * \n"
     ]
    }
   ],
   "source": [
    "#打印空三角\n",
    "for i in range(1,6):\n",
    "    #更改打印起始位置\n",
    "    for k in range(1,6-i):\n",
    "        print(\" \",end=\"\")\n",
    "    #控制列，规则是第一行一列，第二行两列\n",
    "    for j in range(6-i,6):\n",
    "        if i==5 or j==6-i or j==5:\n",
    "            print(\"* \",end=\"\")\n",
    "        else:\n",
    "            print(\"  \",end=\"\")\n",
    "    print()"
   ]
  },
  {
   "cell_type": "code",
   "execution_count": null,
   "metadata": {
    "collapsed": true
   },
   "outputs": [],
   "source": []
  }
 ],
 "metadata": {
  "celltoolbar": "Edit Metadata",
  "kernelspec": {
   "display_name": "Python 3",
   "language": "python",
   "name": "python3"
  },
  "language_info": {
   "codemirror_mode": {
    "name": "ipython",
    "version": 3
   },
   "file_extension": ".py",
   "mimetype": "text/x-python",
   "name": "python",
   "nbconvert_exporter": "python",
   "pygments_lexer": "ipython3",
   "version": "3.6.5"
  }
 },
 "nbformat": 4,
 "nbformat_minor": 2
}
