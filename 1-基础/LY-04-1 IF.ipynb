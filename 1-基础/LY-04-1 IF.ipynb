{
 "cells": [
  {
   "cell_type": "markdown",
   "metadata": {},
   "source": [
    "# 三大结构\n",
    "- 顺序\n",
    "- 分支\n",
    "- 循环\n",
    "\n",
    "# 分支\n",
    "- 分支的基本语法\n",
    "     if条件表达式：\n",
    "        语句1\n",
    "        语句2\n",
    "        语句3\n",
    "        ...\n",
    "- 条件表达式：结果必须为布尔值的表达式\n",
    "- 表达式后面有：\n",
    "- if后面出现的语句，如果属于同一语句块，必须同一个紧锁等级\n",
    "- 条件表达式为True，才执行后面的缩进语句块"
   ]
  },
  {
   "cell_type": "code",
   "execution_count": null,
   "metadata": {},
   "outputs": [
    {
     "name": "stdout",
     "output_type": "stream",
     "text": [
      "孩子\n"
     ]
    }
   ],
   "source": [
    "# if语句练习\n",
    "# 如果age<18，则打印后面\n",
    "age = 4\n",
    "if age<18:\n",
    "    print('孩子')"
   ]
  },
  {
   "cell_type": "code",
   "execution_count": 3,
   "metadata": {},
   "outputs": [
    {
     "name": "stdout",
     "output_type": "stream",
     "text": [
      "今天学习for循环\n",
      "开始讲for循环了\n"
     ]
    }
   ],
   "source": [
    "print(\"今天学习for循环\")\n",
    "gender = \"男\"\n",
    "if gender == \"女\":\n",
    "    print(\"来，叔叔给你糖吃\")\n",
    "\n",
    "print(\"开始讲for循环了\")"
   ]
  },
  {
   "cell_type": "markdown",
   "metadata": {},
   "source": [
    "# 双向循环\n",
    "- if...else...语句\n",
    "\n",
    "  if 条件表达式:\n",
    "      语句1\n",
    "      语句2\n",
    "      ...\n",
    "  else:\n",
    "      语句1\n",
    "      语句2\n",
    "      .....\n",
    "- 双向分支有两个分支，当程序执行到if ... else...语句的时候，一定会执行if或else中的一个，也仅执行一个\n",
    "- 缩进问题，if和else一个层级，其余语句一个层级"
   ]
  },
  {
   "cell_type": "code",
   "execution_count": 8,
   "metadata": {},
   "outputs": [
    {
     "name": "stdout",
     "output_type": "stream",
     "text": [
      "请输入性别:wu\n",
      "你输入的性别是wu\n"
     ]
    }
   ],
   "source": [
    "# input()的作用：\n",
    "#1、先输出括号内的字符串。\n",
    "#2、接受用户输入的内容，并返回给程序。\n",
    "#3、返回的值一定是个字符串类型\n",
    "gender = input('请输入性别:')\n",
    "print ('你输入的性别是{0}'.format(gender))"
   ]
  },
  {
   "cell_type": "code",
   "execution_count": 9,
   "metadata": {},
   "outputs": [
    {
     "name": "stdout",
     "output_type": "stream",
     "text": [
      "发糖喽发糖喽\n",
      "你是女生，特殊照顾喽\n",
      "开始上课喽\n"
     ]
    }
   ],
   "source": [
    "if  gender == \"nan\":\n",
    "    print(\"来，我们纪念一下今天吧，代码敲十遍\")\n",
    "else:\n",
    "    print(\"发糖喽发糖喽\")\n",
    "    print(\"你是女生，特殊照顾喽\")\n",
    "        \n",
    "print(\"开始上课喽\")"
   ]
  },
  {
   "cell_type": "markdown",
   "metadata": {},
   "source": [
    "# 多路分支\n",
    "- 很多分支的情况，简称多路分支\n",
    "\n",
    "  if  条件表达式：\n",
    "      语句1\n",
    "      ....\n",
    "  elif 条件表达式：\n",
    "      语句1\n",
    "      ...\n",
    "  elif 条件表达式：\n",
    "      语句1\n",
    "      ...\n",
    "  .....\n",
    "  else:\n",
    "      语句1\n",
    "      ....\n",
    "      \n",
    "- elif 可以由很多\n",
    "\n",
    "- else可选\n",
    "- 多路分支只会选一个执行"
   ]
  },
  {
   "cell_type": "code",
   "execution_count": 12,
   "metadata": {},
   "outputs": [
    {
     "name": "stdout",
     "output_type": "stream",
     "text": [
      "请输入学生成绩：3\n",
      "起开，我没你这傻学生\n"
     ]
    }
   ],
   "source": [
    "# score  存放学生成绩\n",
    "# 注意input的返回值类型\n",
    "score = input(\"请输入学生成绩：\")\n",
    "# 需要把str转换成int\n",
    "score = int(score)\n",
    "\n",
    "if score>=90:\n",
    "    print(\"A\")\n",
    "elif score>= 80:\n",
    "    print(\"B\")\n",
    "elif score >= 70:\n",
    "    print(\"C\")\n",
    "elif score >=60 :\n",
    "    print(\"D\")\n",
    "else:\n",
    "    print(\"起开，我没你这傻学生\")"
   ]
  },
  {
   "cell_type": "markdown",
   "metadata": {},
   "source": [
    "# if语句\n",
    "- 可以嵌套使用，但不推荐\n",
    "- Python没有switch-case语句\n",
    "\n",
    "# 循环语句\n",
    "- 重复执行某些固定动作或者处理基本固定的事物\n",
    "- 分类\n",
    "  for循环\n",
    "  while循环 # for循环\n",
    "- for循环\n",
    "\n",
    "  for 变量 in 序列：\n",
    "      语句1\n",
    "      语句2\n",
    "      ..."
   ]
  },
  {
   "cell_type": "code",
   "execution_count": 14,
   "metadata": {},
   "outputs": [
    {
     "name": "stdout",
     "output_type": "stream",
     "text": [
      "al\n",
      "sk\n",
      "ij\n",
      "ok\n"
     ]
    }
   ],
   "source": [
    "list1 = ['al','sk','ij','ok']\n",
    "for i in list1:\n",
    "    print(i)"
   ]
  },
  {
   "cell_type": "code",
   "execution_count": 25,
   "metadata": {},
   "outputs": [
    {
     "name": "stdout",
     "output_type": "stream",
     "text": [
      "al\n",
      "继续找\n",
      "sk\n",
      "继续找\n",
      "ij\n",
      "继续找\n",
      "ok\n",
      "找到ok啦!!!!\n",
      "op\n",
      "继续找\n",
      "er\n",
      "继续找\n"
     ]
    }
   ],
   "source": [
    "list1 = ['al','sk','ij','ok','op','er']\n",
    "for i in list1:\n",
    "    print(i)\n",
    "    if i == 'ok':\n",
    "        print('找到{0}啦!!!!'.format(i))\n",
    "    else:\n",
    "        print(\"继续找\")\n",
    "        \n"
   ]
  },
  {
   "cell_type": "markdown",
   "metadata": {},
   "source": [
    "# range介绍\n",
    "- 生成一个数字序列\n",
    "- 范围可以设定"
   ]
  },
  {
   "cell_type": "code",
   "execution_count": 26,
   "metadata": {},
   "outputs": [
    {
     "name": "stdout",
     "output_type": "stream",
     "text": [
      "1\n",
      "2\n",
      "3\n",
      "4\n",
      "5\n",
      "6\n",
      "7\n",
      "8\n",
      "9\n",
      "10\n"
     ]
    }
   ],
   "source": [
    "# 注意，一般在python中，如果由表示数字范围的两个数，一般是包含左边数字不包含右边数字\n",
    "# randint是特例，他左右都包含\n",
    "# range函数在python2 和 python3中有严重区别\n",
    "\n",
    "for i in range(1,11):\n",
    "    print(i)"
   ]
  },
  {
   "cell_type": "markdown",
   "metadata": {},
   "source": [
    "# for-else语句\n",
    "- 当for循环结束的时候，会执行else\n",
    "- else语句是可选语句"
   ]
  },
  {
   "cell_type": "code",
   "execution_count": null,
   "metadata": {},
   "outputs": [],
   "source": [
    "# for-else语句\n",
    "# 打印列表中的同学，\n",
    "# 如果没有在列表中，或者列表结束了，我们需要打印提示语句，表示不在爱了\n",
    "\n",
    "# 打印学生列表姓名\n",
    "# 如果是jingjign，那肯定是我的最爱呀，\n",
    "# 如果是别的学生，那要冷酷的拒绝他\n",
    "for name in  ['zhangsan', 'lisi', 'wangwu','jingjing']:\n",
    "    print(name)\n",
    "    if name == \"jingjing\":\n",
    "        print(\"我的最爱{0}出现了\".format(name))\n",
    "    else:\n",
    "        print(\"同学我们不约，不约，同学请自重\")\n",
    "else:\n",
    "    print(\"别的都不是我的学生，不会在爱了\")"
   ]
  },
  {
   "cell_type": "markdown",
   "metadata": {},
   "source": [
    "# break  contineu  pass\n",
    "- break：无条件结束整个循环，简称循环猝死\n",
    "- contineu：无条件结束本次循环，继续进入下一轮循环\n",
    "- pass：表示略过，通常用于占位"
   ]
  },
  {
   "cell_type": "code",
   "execution_count": 36,
   "metadata": {},
   "outputs": [
    {
     "name": "stdout",
     "output_type": "stream",
     "text": [
      "1\n",
      "2\n",
      "3\n",
      "4\n",
      "5\n",
      "终于找到6啦！\n",
      "* * * * * * * * * * "
     ]
    }
   ],
   "source": [
    "# for 循环中的变量表示，一般用i，k，m，n，或者indx，idx，item之类\n",
    "for i in range(1,11):\n",
    "    if i == 6:\n",
    "        print('终于找到{0}啦！'.format(i))\n",
    "        break\n",
    "    else:\n",
    "        print(i)\n",
    "\n",
    "# 在python中，如果循环变量名称不重要，可以用下划线（_)代替        \n",
    "for _ in range(10):\n",
    "    print('* ',end='')"
   ]
  },
  {
   "cell_type": "code",
   "execution_count": 50,
   "metadata": {},
   "outputs": [
    {
     "name": "stdout",
     "output_type": "stream",
     "text": [
      "偶数为：2\n",
      "偶数为：4\n",
      "偶数为：6\n",
      "偶数为：8\n",
      "偶数为：10\n",
      "====================\n",
      "偶数为：2\n",
      "偶数为：4\n",
      "偶数为：6\n",
      "偶数为：8\n",
      "偶数为：10\n",
      "====================\n",
      "奇数为：1\n",
      "奇数为：3\n",
      "奇数为：5\n",
      "奇数为：7\n",
      "奇数为：9\n"
     ]
    }
   ],
   "source": [
    "# 找偶数\n",
    "for i in range(1,11):\n",
    "    if i%2 ==1:\n",
    "        continue\n",
    "    else:\n",
    "        print('偶数为：{0}'.format(i))\n",
    "        \n",
    "print('='*20)\n",
    "\n",
    "# 找偶数2\n",
    "for i in range(1,11):\n",
    "    if i%2 == 0:\n",
    "        print('偶数为：{0}'.format(i))\n",
    "        \n",
    "print('='*20)\n",
    "\n",
    "# 本案例完整显示continue的用法和作用\n",
    "for i in range(1,11):\n",
    "    if i % 2 == 0:\n",
    "        continue\n",
    "\n",
    "        \n",
    "    print('奇数为：{0}'.format(i))\n"
   ]
  },
  {
   "cell_type": "code",
   "execution_count": 52,
   "metadata": {},
   "outputs": [
    {
     "name": "stdout",
     "output_type": "stream",
     "text": [
      "wo zai zheli\n",
      "wo zai zheli\n"
     ]
    }
   ],
   "source": [
    "# pass例子，一般用于占位\n",
    "# pass没有跳过功能\n",
    "\n",
    "for i in range(1,3):\n",
    "    pass\n",
    "    print(\"wo zai zheli\")"
   ]
  },
  {
   "cell_type": "markdown",
   "metadata": {},
   "source": [
    "# while循环\n",
    "- 在条件成立之前保持循环\n",
    "- 不知道循环次数\n",
    "- while语法\n",
    "      while 条件表达式:\n",
    "          语句块\n",
    "      \n",
    "      while 条件表达式：\n",
    "          语句块1\n",
    "      else:\n",
    "          语句块2"
   ]
  },
  {
   "cell_type": "code",
   "execution_count": 1,
   "metadata": {},
   "outputs": [
    {
     "name": "stdout",
     "output_type": "stream",
     "text": [
      "第1年，目前额度：106700.0元\n",
      "第2年，目前额度：113848.9元\n",
      "第3年，目前额度：121476.77629999998元\n",
      "第4年，目前额度：129615.72031209998元\n",
      "第5年，目前额度：138299.97357301068元\n",
      "第6年，目前额度：147566.07180240238元\n",
      "第7年，目前额度：157452.99861316333元\n",
      "第8年，目前额度：168002.34952024528元\n",
      "第9年，目前额度：179258.5069381017元\n",
      "第10年，目前额度：191268.8269029545元\n",
      "第11年，目前额度：204083.83830545243元\n",
      "hahaha\n"
     ]
    }
   ],
   "source": [
    "# 年利率6.7%，本利翻滚，几年后翻倍。\n",
    "\n",
    "b = 100000\n",
    "year = 0\n",
    "\n",
    "while b<200000:\n",
    "    b *= (1 + 0.067)\n",
    "    year += 1\n",
    "    print('第{0}年，目前额度：{1}元'.format(year,b))\n",
    "else:\n",
    "    print('hahaha')"
   ]
  },
  {
   "cell_type": "code",
   "execution_count": 1,
   "metadata": {},
   "outputs": [
    {
     "name": "stdout",
     "output_type": "stream",
     "text": [
      "METHOD 1\n",
      "current weight: 0\n",
      "  adding bananas (15)\n",
      "current weight: 15\n",
      "  adding mattresses (24)\n",
      "current weight: 39\n",
      "  adding dog kennels (42)\n",
      "current weight: 81\n",
      "  adding machine (120)\n",
      "current weight: 201\n",
      "  breaking loop now!\n",
      "\n",
      "Final Weight: 201\n",
      "Final Items: ['bananas', 'mattresses', 'dog kennels', 'machine']\n",
      "\n",
      "METHOD 2\n",
      "current weight: 0\n",
      "  adding bananas (15)\n",
      "current weight: 15\n",
      "  adding mattresses (24)\n",
      "current weight: 39\n",
      "  adding dog kennels (42)\n",
      "current weight: 81\n",
      "  skipping machine (120)\n",
      "current weight: 81\n",
      "  adding cheeses (5)\n",
      "\n",
      "Final Weight: 86\n",
      "Final Items: ['bananas', 'mattresses', 'dog kennels', 'cheeses']\n"
     ]
    }
   ],
   "source": [
    "# 一个经典的使用break和continue的例子\n",
    "# 最终确保weight <100 的情况下尽量多的装载货物。\n",
    "\n",
    "# 一个元组构成的列表，货物名称，重量两个参数\n",
    "manifest = [(\"bananas\", 15), (\"mattresses\", 24), (\"dog kennels\", 42), (\"machine\", 120), (\"cheeses\", 5)]\n",
    "\n",
    "# 方法一，不行\n",
    "# the code breaks the loop when weight exceeds or reaches the limit\n",
    "print(\"METHOD 1\")\n",
    "weight = 0\n",
    "items = []\n",
    "for cargo_name, cargo_weight in manifest:\n",
    "    print(\"current weight: {}\".format(weight))\n",
    "    if weight >= 100:\n",
    "        print(\"  breaking loop now!\")\n",
    "        break\n",
    "    else:\n",
    "        print(\"  adding {} ({})\".format(cargo_name, cargo_weight))\n",
    "        items.append(cargo_name)\n",
    "        weight += cargo_weight\n",
    "\n",
    "print(\"\\nFinal Weight: {}\".format(weight))\n",
    "print(\"Final Items: {}\".format(items))\n",
    "\n",
    "# 方法二，好\n",
    "# skips an iteration when adding an item would exceed the limit\n",
    "# breaks the loop if weight is exactly the value of the limit\n",
    "print(\"\\nMETHOD 2\")\n",
    "weight = 0\n",
    "items = []\n",
    "for cargo_name, cargo_weight in manifest:\n",
    "    print(\"current weight: {}\".format(weight))\n",
    "    if weight >= 100:\n",
    "        print(\"  breaking from the loop now!\")\n",
    "        break\n",
    "    elif weight + cargo_weight > 100:\n",
    "        print(\"  skipping {} ({})\".format(cargo_name, cargo_weight))\n",
    "        continue\n",
    "    else:\n",
    "        print(\"  adding {} ({})\".format(cargo_name, cargo_weight))\n",
    "        items.append(cargo_name)\n",
    "        weight += cargo_weight\n",
    "\n",
    "print(\"\\nFinal Weight: {}\".format(weight))\n",
    "print(\"Final Items: {}\".format(items))"
   ]
  },
  {
   "cell_type": "markdown",
   "metadata": {},
   "source": [
    "## 练习：截断字符串\n",
    "- 用 break 语句写一个循环，用于创建刚好长 140 个字符的字符串 news_ticker。你应该通过添加 headlines 列表中的新闻标题创建新闻提醒，在每个新闻标题之间插入空格。如果有必要的话，将最后一个新闻标题从中间截断，使 news_ticker 刚好长 140 个字符。\n",
    "\n",
    "- 注意，break 同时适用于 for 和 while 循环。使用你认为最合适的循环。考虑向代码中添加 print 语句以帮助你解决 bug。"
   ]
  },
  {
   "cell_type": "code",
   "execution_count": 2,
   "metadata": {},
   "outputs": [
    {
     "name": "stdout",
     "output_type": "stream",
     "text": [
      "正常添加前： 0\n",
      "正常添加前： 24\n",
      "正常添加前： 55\n",
      "正常添加前： 101\n",
      "添加最后一个单词\n",
      "总长： 140\n",
      "终止\n",
      "Local Bear Eaten by Man Legislature Announces New Laws Peasant Discovers Violence Inherent in System Cat Rescues Fireman Stuck in Tree Brave\n"
     ]
    }
   ],
   "source": [
    "# HINT: modify the headlines list to verify your loop works with different inputs\n",
    "headlines = [\"Local Bear Eaten by Man\",\n",
    "             \"Legislature Announces New Laws\",\n",
    "             \"Peasant Discovers Violence Inherent in System\",\n",
    "             \"Cat Rescues Fireman Stuck in Tree\",\n",
    "             \"Brave Knight Runs Away\",\n",
    "             \"Papperbok Review: Totally Triffic\"]\n",
    "\n",
    "news_ticker = \"\"\n",
    "# write your loop here\n",
    "\n",
    "for s in headlines:\n",
    "    if len(news_ticker) >= 140:\n",
    "        print('终止')\n",
    "        break\n",
    "    elif len(news_ticker)+len(s) > 140:\n",
    "        print('添加最后一个单词')\n",
    "        news_ticker += s\n",
    "        news_ticker = news_ticker[:140]\n",
    "        print('总长：',len(news_ticker))\n",
    "        continue\n",
    "    else:\n",
    "        print('正常添加前：',len(news_ticker))\n",
    "        news_ticker += (s+' ')\n",
    "        \n",
    "\n",
    "\n",
    "print(news_ticker)\n"
   ]
  },
  {
   "cell_type": "code",
   "execution_count": 3,
   "metadata": {},
   "outputs": [
    {
     "name": "stdout",
     "output_type": "stream",
     "text": [
      "Local Bear Eaten by Man Legislature Announces New Laws Peasant Discovers Violence Inherent in System Cat Rescues Fireman Stuck in Tree Brave\n"
     ]
    }
   ],
   "source": [
    "headlines = [\"Local Bear Eaten by Man\",\n",
    "             \"Legislature Announces New Laws\",\n",
    "             \"Peasant Discovers Violence Inherent in System\",\n",
    "             \"Cat Rescues Fireman Stuck in Tree\",\n",
    "             \"Brave Knight Runs Away\",\n",
    "             \"Papperbok Review: Totally Triffic\"]\n",
    "\n",
    "news_ticker = \"\"\n",
    "for headline in headlines:\n",
    "    news_ticker += headline + \" \"\n",
    "    if len(news_ticker) >= 140:\n",
    "        news_ticker = news_ticker[:140]\n",
    "        break\n",
    "\n",
    "print(news_ticker)"
   ]
  },
  {
   "cell_type": "markdown",
   "metadata": {},
   "source": [
    "# zip(), enumerate()"
   ]
  },
  {
   "cell_type": "code",
   "execution_count": 4,
   "metadata": {},
   "outputs": [
    {
     "name": "stdout",
     "output_type": "stream",
     "text": [
      "F: 23, 677, 4\n",
      "J: 53, 233, 16\n",
      "A: 2, 405, -6\n",
      "Q: -12, 433, -42\n",
      "Y: 95, 905, 3\n",
      "B: 103, 376, -6\n",
      "W: 14, 432, 23\n",
      "X: -5, 445, -1\n"
     ]
    }
   ],
   "source": [
    "x_coord = [23, 53, 2, -12, 95, 103, 14, -5]\n",
    "y_coord = [677, 233, 405, 433, 905, 376, 432, 445]\n",
    "z_coord = [4, 16, -6, -42, 3, -6, 23, -1]\n",
    "labels = [\"F\", \"J\", \"A\", \"Q\", \"Y\", \"B\", \"W\", \"X\"]\n",
    "\n",
    "points = []\n",
    "# write your for loop here\n",
    "for point in zip(labels, x_coord, y_coord, z_coord):\n",
    "    points.append('{0}: {1}, {2}, {3}'.format(*point))\n",
    "\n",
    "\n",
    "for point in points:\n",
    "    print(point)"
   ]
  },
  {
   "cell_type": "code",
   "execution_count": 5,
   "metadata": {},
   "outputs": [
    {
     "name": "stdout",
     "output_type": "stream",
     "text": [
      "{'Barney': 72, 'Robin': 68, 'Ted': 72, 'Lily': 66, 'Marshall': 76}\n"
     ]
    }
   ],
   "source": [
    "cast_names = [\"Barney\", \"Robin\", \"Ted\", \"Lily\", \"Marshall\"]\n",
    "cast_heights = [72, 68, 72, 66, 76]\n",
    "\n",
    "\n",
    "cast = dict(zip(cast_names, cast_heights))\n",
    "\n",
    "\n",
    "print(cast)"
   ]
  },
  {
   "cell_type": "code",
   "execution_count": 7,
   "metadata": {},
   "outputs": [
    {
     "name": "stdout",
     "output_type": "stream",
     "text": [
      "['Barney Stinson 72', 'Robin Scherbatsky 68', 'Ted Mosby 72', 'Lily Aldrin 66', 'Marshall Eriksen 76']\n"
     ]
    }
   ],
   "source": [
    "# 练习：Enumerate\n",
    "# 使用 enumerate 修改列表 cast，使每个元素都包含姓名，然后是角色的对应身高。\n",
    "\n",
    "# 例如，cast 的第一个元素应该从 \"Barney Stinson\" 更改为 \"Barney Stinson 72”。\n",
    "cast = [\"Barney Stinson\", \"Robin Scherbatsky\", \"Ted Mosby\", \"Lily Aldrin\", \"Marshall Eriksen\"]\n",
    "heights = [72, 68, 72, 66, 76]\n",
    "\n",
    "# write your for loop here\n",
    "for i,e in enumerate(heights):\n",
    "    cast[i] = (cast[i] + ' ' + str(e))\n",
    "\n",
    "\n",
    "print(cast)"
   ]
  },
  {
   "cell_type": "code",
   "execution_count": 8,
   "metadata": {},
   "outputs": [
    {
     "name": "stdout",
     "output_type": "stream",
     "text": [
      "('Barney', 'Robin', 'Ted', 'Lily', 'Marshall')\n",
      "(72, 68, 72, 66, 76)\n"
     ]
    }
   ],
   "source": [
    "cast = ((\"Barney\", 72), (\"Robin\", 68), (\"Ted\", 72), (\"Lily\", 66), (\"Marshall\", 76))\n",
    "\n",
    "# define names and heights here\n",
    "\n",
    "names,heights = list(zip(*cast))    \n",
    "\n",
    "print(names)\n",
    "print(heights)"
   ]
  },
  {
   "cell_type": "code",
   "execution_count": null,
   "metadata": {},
   "outputs": [],
   "source": []
  }
 ],
 "metadata": {
  "kernelspec": {
   "display_name": "Python 3",
   "language": "python",
   "name": "python3"
  },
  "language_info": {
   "codemirror_mode": {
    "name": "ipython",
    "version": 3
   },
   "file_extension": ".py",
   "mimetype": "text/x-python",
   "name": "python",
   "nbconvert_exporter": "python",
   "pygments_lexer": "ipython3",
   "version": "3.6.5"
  }
 },
 "nbformat": 4,
 "nbformat_minor": 2
}
