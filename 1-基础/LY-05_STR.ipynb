{
 "cells": [
  {
   "cell_type": "markdown",
   "metadata": {},
   "source": [
    "# Python 数据类型的内置函数\n",
    "- str\n",
    "- list\n",
    "- dict\n",
    "- set"
   ]
  },
  {
   "cell_type": "markdown",
   "metadata": {},
   "source": [
    "# 字符串的简单操作1"
   ]
  },
  {
   "cell_type": "code",
   "execution_count": 1,
   "metadata": {
    "scrolled": true
   },
   "outputs": [
    {
     "name": "stdout",
     "output_type": "stream",
     "text": [
      "Let's go\n",
      "Let's go\n",
      "c:\\user\n",
      "I love \r\n",
      " wangixoajing\n"
     ]
    }
   ],
   "source": [
    "# 如果想表示出Let‘s go来\n",
    "# 1. 可以使用嵌套引号，即外层使用双引号\n",
    "# 2. 转义字符\n",
    "s = \"Let's go\"\n",
    "print(s)\n",
    "\n",
    "#\\' == '\n",
    "ss = 'Let\\'s go'\n",
    "print(ss)\n",
    "\n",
    "# \\\\ = \\\n",
    "sss = \"c:\\\\user\"\n",
    "print(sss)\n",
    "\n",
    "# 回车换行符\n",
    "s1 = \"I love \\r\\n wangixoajing\"\n",
    "print(s1)"
   ]
  },
  {
   "cell_type": "code",
   "execution_count": null,
   "metadata": {
    "collapsed": true
   },
   "outputs": [],
   "source": [
    "# 字符串的格式化\n",
    "- 把字符串按照一定格式打印或者填充\n",
    "- 格式化由两种方法\n",
    "  - 利用百分号%\n",
    "  - 利用format函数"
   ]
  },
  {
   "cell_type": "code",
   "execution_count": null,
   "metadata": {
    "collapsed": true
   },
   "outputs": [],
   "source": [
    "s = \"你好，世界！\""
   ]
  },
  {
   "cell_type": "markdown",
   "metadata": {},
   "source": [
    "## 利用百分号格式化\n",
    "- 字符串中，%表示对字符进行格式化\n",
    "- %d：此处应该放入一个整数\n",
    "- %s：此处应该放入一个字符串"
   ]
  },
  {
   "cell_type": "code",
   "execution_count": 3,
   "metadata": {},
   "outputs": [
    {
     "name": "stdout",
     "output_type": "stream",
     "text": [
      "你好 %s\n"
     ]
    }
   ],
   "source": [
    "#直接打印，因为没有参数\n",
    "s = \"你好 %s\"\n",
    "print(s)"
   ]
  },
  {
   "cell_type": "code",
   "execution_count": 6,
   "metadata": {},
   "outputs": [
    {
     "name": "stdout",
     "output_type": "stream",
     "text": [
      "你好 我是wujian1360\n",
      "你好 我是小明\n"
     ]
    }
   ],
   "source": [
    "#%s的例子\n",
    "t = \"我是wujian1360\"\n",
    "print(\"你好 %s\" % t)\n",
    "print(\"你好 %s\" % \"我是小明\")"
   ]
  },
  {
   "cell_type": "code",
   "execution_count": 8,
   "metadata": {},
   "outputs": [
    {
     "name": "stdout",
     "output_type": "stream",
     "text": [
      "I am %d years old\n",
      "I am 18 years old\n"
     ]
    }
   ],
   "source": [
    "#%d的例子\n",
    "s = \"I am %d years old\"\n",
    "print(s)\n",
    "print(s % 18)"
   ]
  },
  {
   "cell_type": "code",
   "execution_count": 12,
   "metadata": {},
   "outputs": [
    {
     "name": "stdout",
     "output_type": "stream",
     "text": [
      "I am %s,I am %d years old\n",
      "I am wujian,I am 18 years old\n",
      "I am Wang,I am 38 years old\n"
     ]
    }
   ],
   "source": [
    "s = \"I am %s,I am %d years old\"\n",
    "print(s)\n",
    "print(s % (\"wujian\",18))\n",
    "print(s % (\"Wang\",38))"
   ]
  },
  {
   "cell_type": "markdown",
   "metadata": {},
   "source": [
    "# format 函数格式化字符串\n",
    "- 直接用format函数进行格式化\n",
    "- 推荐使用这种方法\n",
    "- 在使用上，以{}和：代替%，后面用format带参数完成"
   ]
  },
  {
   "cell_type": "code",
   "execution_count": 21,
   "metadata": {},
   "outputs": [
    {
     "name": "stdout",
     "output_type": "stream",
     "text": [
      "I am wujian1360\n",
      "Hello! I am wujian1360,I am 38 years old,My kid's name is Sarah,she's 7 years old\n"
     ]
    }
   ],
   "source": [
    "s = \"I am {}\".format(\"wujian1360\")\n",
    "print(s)\n",
    "\n",
    "# {2}代表.format()里面的第三个字段\n",
    "s = \"Hello! I am {0},I am {1} years old,My kid's name is {2},she's {3} years old\".format(\"wujian1360\",38,\"Sarah\",7)\n",
    "print(s)"
   ]
  },
  {
   "cell_type": "markdown",
   "metadata": {},
   "source": [
    "# None\n",
    "- 表示什么都没有\n",
    "- 如果函数没有返回值，可以返回它\n",
    "- 用来占位置\n",
    "- 用来接触变量绑定"
   ]
  },
  {
   "cell_type": "markdown",
   "metadata": {},
   "source": [
    "# 表达式\n",
    "- 表达式：由一个或几个数字、变量、运算符组合成的一行代码\n",
    "- 表达式通常会返回一个结果 #运算符\n",
    "- 运算：由一个以上的值 经过变化 得到新的值 的过程就叫运算\n",
    "- 运算符：用于运算的符号\n",
    "- 运算符的分类\n",
    "  - 算术运算符\n",
    "  - 比较运算符（关系运算符）\n",
    "  - 赋值运算符\n",
    "  - 位运算符\n",
    "  - 成员运算符\n",
    "  - 身份运算符\n",
    "  \n",
    "  \n",
    "# 算术运算符\n",
    "- 进行算术运算符的符号\n",
    "- Python没有自增自减运算符"
   ]
  },
  {
   "cell_type": "code",
   "execution_count": 37,
   "metadata": {},
   "outputs": [
    {
     "name": "stdout",
     "output_type": "stream",
     "text": [
      "1\n",
      "2\n",
      "9的2次方 = 81\n",
      "18除以7的商 = 2 \n",
      "3的3次方 = 27\n"
     ]
    }
   ],
   "source": [
    "# +,- 跟正常算术运算符一样\n",
    "a = 9+3-2\n",
    "\n",
    "# *乘号 9/4代表9÷4\n",
    "# 在Python2与3中除号结果可能不一致\n",
    "\n",
    "# 取余运算%：两个数字相除应该有商数和余数，%只会得到余数\n",
    "a = 9%4\n",
    "print(a)\n",
    "# //表示取商，也叫地板除\n",
    "b = 9//4\n",
    "print(b)\n",
    "# **表示幂运算\n",
    "c = 9 **2\n",
    "print(\"9的2次方 = {0}\".format(c))\n",
    "\n",
    "d = 18//7\n",
    "e = 3 **3\n",
    "print(\"18除以7的商 = {0} \\n3的3次方 = {1}\".format(d,e))"
   ]
  },
  {
   "cell_type": "markdown",
   "metadata": {},
   "source": [
    "# 比较运算符\n",
    "- 对两个变量或者值进行比较的运算符\n",
    "- 比较的结果通常是布尔值，即True或False"
   ]
  },
  {
   "cell_type": "code",
   "execution_count": 39,
   "metadata": {},
   "outputs": [
    {
     "name": "stdout",
     "output_type": "stream",
     "text": [
      "False\n",
      "True\n"
     ]
    }
   ],
   "source": [
    "# == 完全等于\n",
    "# 先将 a == 80 比较的值赋值给b\n",
    "a = 8\n",
    "b = a == 80\n",
    "print(b)\n",
    "\n",
    "# != 不等于\n",
    "print(9!=8)\n",
    "\n",
    "# > < >= <="
   ]
  },
  {
   "cell_type": "markdown",
   "metadata": {},
   "source": [
    "# 赋值运算符"
   ]
  },
  {
   "cell_type": "code",
   "execution_count": 40,
   "metadata": {},
   "outputs": [
    {
     "name": "stdout",
     "output_type": "stream",
     "text": [
      "2\n"
     ]
    }
   ],
   "source": [
    "# =,赋值\n",
    "a = 0\n",
    "c = a = 4\n",
    "\n",
    "# +=,是缩写\n",
    "a = 0\n",
    "a += 2\n",
    "print(a)"
   ]
  },
  {
   "cell_type": "markdown",
   "metadata": {},
   "source": [
    "# 逻辑运算符\n",
    "- 对布尔值进行计算的符号\n",
    "- and 逻辑与\n",
    "- or 逻辑或\n",
    "- not 逻辑非\n",
    "- Python中逻辑运算没有 异或运算\n",
    "- 运算法则:\n",
    "  - and看做乘法，or看做加法\n",
    "  - True看做1，False看做0\n",
    "  - 则逻辑运算就能转换成整数数学运算\n",
    "  - 最后结果如果是0则位False，1为True\n",
    "- 逻辑运算的短路问题\n",
    "  - 逻辑运算式，按照运算顺序计算，一旦能够确定整个式子未来的值，则不再进行计算，直接返回"
   ]
  },
  {
   "cell_type": "code",
   "execution_count": 43,
   "metadata": {},
   "outputs": [
    {
     "name": "stdout",
     "output_type": "stream",
     "text": [
      "True\n",
      "True\n"
     ]
    }
   ],
   "source": [
    "# 逻辑运算符案例\n",
    "a = True\n",
    "b = False\n",
    "c = True\n",
    "\n",
    "# 以下式子等价于 d = 1*0+1\n",
    "d = a and b or c\n",
    "print(d)\n",
    "\n",
    "d = a and b or a\n",
    "print(d)"
   ]
  },
  {
   "cell_type": "code",
   "execution_count": 44,
   "metadata": {},
   "outputs": [
    {
     "ename": "SyntaxError",
     "evalue": "invalid syntax (<ipython-input-44-d7011a7957d1>, line 8)",
     "output_type": "error",
     "traceback": [
      "\u001b[0;36m  File \u001b[0;32m\"<ipython-input-44-d7011a7957d1>\"\u001b[0;36m, line \u001b[0;32m8\u001b[0m\n\u001b[0;31m    a = a or (b=9) and 6\u001b[0m\n\u001b[0m               ^\u001b[0m\n\u001b[0;31mSyntaxError\u001b[0m\u001b[0;31m:\u001b[0m invalid syntax\n"
     ]
    }
   ],
   "source": [
    "# 逻辑运算的短路案例\n",
    "\n",
    "# 下面的逻辑表达式，a的值一定是True则运行到or的时候，则整个表达式不再往下计算\n",
    "a = True or xxx\n",
    "\n",
    "# 下面的表达式，如果xxx中包含赋值表达式，则结果很难预测\n",
    "b = 0\n",
    "a = a or (b=9) and 6\n",
    "\n",
    "# b的最终的值应该是0而不是9"
   ]
  },
  {
   "cell_type": "markdown",
   "metadata": {},
   "source": [
    "# 成员运算符号\n",
    "- 用来检测某一个变量是否是另一个变量的成员\n",
    "- in\n",
    "- not in"
   ]
  },
  {
   "cell_type": "code",
   "execution_count": 47,
   "metadata": {},
   "outputs": [
    {
     "name": "stdout",
     "output_type": "stream",
     "text": [
      "False\n",
      "True\n",
      "False\n"
     ]
    }
   ],
   "source": [
    "# 例子\n",
    "l = [1,2,3,4,5]\n",
    "a = 7\n",
    "b = a in l\n",
    "print(b)\n",
    "\n",
    "a = 4\n",
    "b = a in l\n",
    "print(b)\n",
    "print(b not in l)"
   ]
  },
  {
   "cell_type": "markdown",
   "metadata": {},
   "source": [
    "# 身份运算\n",
    "- is：用来检测两个变量是不是同一个变量\n",
    "  - 语法就是 a is b\n",
    "- is not：检测两个变量不是同一个变量"
   ]
  },
  {
   "cell_type": "code",
   "execution_count": 51,
   "metadata": {},
   "outputs": [
    {
     "name": "stdout",
     "output_type": "stream",
     "text": [
      "True\n",
      "True\n",
      "False\n"
     ]
    }
   ],
   "source": [
    "a = 9\n",
    "b = 9\n",
    "print(a is b)\n",
    "\n",
    "a = \"World\"\n",
    "b = \"World\"\n",
    "print(a is b)\n",
    "\n",
    "#多了空格键就不是同一个变量了\n",
    "a = \"Hello World\"\n",
    "b = \"Hello World\"\n",
    "print(a is b)"
   ]
  },
  {
   "cell_type": "markdown",
   "metadata": {},
   "source": [
    "# 运算符的优先级问题\n",
    "- ()具有最高优先级\n",
    "- 优先级排序\n",
    "               ** 指数\n",
    "               ~ + - 按位翻转，一元加减号 +@ -@\n",
    "               * / % // 乘除 取模 和取整除\n",
    "               + - 加法减法\n",
    "               >> <<   右移，左移运算符\n",
    "               &   位 'AND'\n",
    "               ^ | 位运算符\n",
    "               <= < > >=   比较运算符\n",
    "               <> == !=    等于运算符\n",
    "               = %= /= //= -= += *= **=    赋值运算符\n",
    "               is     is not   身份运算符\n",
    "               in     not in   成员运算符\n",
    "               not  or  and  逻辑运算符"
   ]
  },
  {
   "cell_type": "markdown",
   "metadata": {},
   "source": [
    "# 字符串的简单操作2"
   ]
  },
  {
   "cell_type": "code",
   "execution_count": 3,
   "metadata": {},
   "outputs": [
    {
     "name": "stdout",
     "output_type": "stream",
     "text": [
      "你好, 你很帅！\n"
     ]
    }
   ],
   "source": [
    "# 连接操作\n",
    "s1 = \"你好,\"\n",
    "s2 = \"你很帅！\"\n",
    "\n",
    "s3 = s1 + \" \" + s2\n",
    "\n",
    "print(s3)"
   ]
  },
  {
   "cell_type": "code",
   "execution_count": 7,
   "metadata": {},
   "outputs": [
    {
     "name": "stdout",
     "output_type": "stream",
     "text": [
      "我是男神! 我是男神! 我是男神! 我是男神! 我是男神! 我是男神! 我是男神! 我是男神! \n"
     ]
    }
   ],
   "source": [
    "#字符串的乘法\n",
    "s = \"我是男神! \"\n",
    "s1 = s*8\n",
    "print(s1)"
   ]
  },
  {
   "cell_type": "code",
   "execution_count": 17,
   "metadata": {},
   "outputs": [
    {
     "name": "stdout",
     "output_type": "stream",
     "text": [
      "是\n",
      "棒\n",
      "3456\n",
      "123456789\n"
     ]
    }
   ],
   "source": [
    "#字符串当成列表\n",
    "s = \"你是女神!你好棒\"\n",
    "print(s[1])\n",
    "print(s[-1])\n",
    "\n",
    "s1 = \"123456789\"\n",
    "print(s1[2:6])\n",
    "print(s1[:])"
   ]
  },
  {
   "cell_type": "code",
   "execution_count": 31,
   "metadata": {},
   "outputs": [
    {
     "name": "stdout",
     "output_type": "stream",
     "text": [
      "140566308146992\n",
      "你是女\n",
      "140566307819968\n",
      "140566308146992\n",
      "\n",
      "140566308146992\n",
      "140566308146992\n"
     ]
    }
   ],
   "source": [
    "#切片返回的是全新的字符串,id返回字符串的地址，如果切去一部分，地址就不一样证明是全新的字符串，因为字符串不能对下标元素直接赋值。\n",
    "s = \"你是女神!你好棒\"\n",
    "print(id(s))\n",
    "print(s[:3])\n",
    "print(id(s[:3]))\n",
    "print(id(s[:]))\n",
    "\n",
    "print()\n",
    "\n",
    "#列表和字符串不同，字符串完全赋值后，id地址不变\n",
    "s1 = s[:]\n",
    "print(id(s1))\n",
    "print(id(s))\n",
    "\n"
   ]
  },
  {
   "cell_type": "code",
   "execution_count": 27,
   "metadata": {},
   "outputs": [
    {
     "name": "stdout",
     "output_type": "stream",
     "text": [
      "[1, 2, 3, 4, 5, 6]\n",
      "140566316600392\n",
      "140566316599112\n",
      "\n",
      "140566316600392\n",
      "140566376399880\n"
     ]
    }
   ],
   "source": [
    "# 用实验证明部分切片和完整切片的区别\n",
    "# id不同就不是同一块东西\n",
    "l = [1,2,3,4,5,6,7,8,9,100]\n",
    "l1 = l[:6]\n",
    "print(l1)\n",
    "print(id(l))\n",
    "print(id(l1))\n",
    "\n",
    "print()\n",
    "\n",
    "#列表和字符串不同，字符串完全赋值后，id地址不变\n",
    "l2 = l[:]\n",
    "print(id(l))\n",
    "print(id(l2))"
   ]
  },
  {
   "cell_type": "code",
   "execution_count": 33,
   "metadata": {},
   "outputs": [
    {
     "name": "stdout",
     "output_type": "stream",
     "text": [
      "Help on class str in module builtins:\n",
      "\n",
      "class str(object)\n",
      " |  str(object='') -> str\n",
      " |  str(bytes_or_buffer[, encoding[, errors]]) -> str\n",
      " |  \n",
      " |  Create a new string object from the given object. If encoding or\n",
      " |  errors is specified, then the object must expose a data buffer\n",
      " |  that will be decoded using the given encoding and error handler.\n",
      " |  Otherwise, returns the result of object.__str__() (if defined)\n",
      " |  or repr(object).\n",
      " |  encoding defaults to sys.getdefaultencoding().\n",
      " |  errors defaults to 'strict'.\n",
      " |  \n",
      " |  Methods defined here:\n",
      " |  \n",
      " |  __add__(self, value, /)\n",
      " |      Return self+value.\n",
      " |  \n",
      " |  __contains__(self, key, /)\n",
      " |      Return key in self.\n",
      " |  \n",
      " |  __eq__(self, value, /)\n",
      " |      Return self==value.\n",
      " |  \n",
      " |  __format__(...)\n",
      " |      S.__format__(format_spec) -> str\n",
      " |      \n",
      " |      Return a formatted version of S as described by format_spec.\n",
      " |  \n",
      " |  __ge__(self, value, /)\n",
      " |      Return self>=value.\n",
      " |  \n",
      " |  __getattribute__(self, name, /)\n",
      " |      Return getattr(self, name).\n",
      " |  \n",
      " |  __getitem__(self, key, /)\n",
      " |      Return self[key].\n",
      " |  \n",
      " |  __getnewargs__(...)\n",
      " |  \n",
      " |  __gt__(self, value, /)\n",
      " |      Return self>value.\n",
      " |  \n",
      " |  __hash__(self, /)\n",
      " |      Return hash(self).\n",
      " |  \n",
      " |  __iter__(self, /)\n",
      " |      Implement iter(self).\n",
      " |  \n",
      " |  __le__(self, value, /)\n",
      " |      Return self<=value.\n",
      " |  \n",
      " |  __len__(self, /)\n",
      " |      Return len(self).\n",
      " |  \n",
      " |  __lt__(self, value, /)\n",
      " |      Return self<value.\n",
      " |  \n",
      " |  __mod__(self, value, /)\n",
      " |      Return self%value.\n",
      " |  \n",
      " |  __mul__(self, value, /)\n",
      " |      Return self*value.n\n",
      " |  \n",
      " |  __ne__(self, value, /)\n",
      " |      Return self!=value.\n",
      " |  \n",
      " |  __new__(*args, **kwargs) from builtins.type\n",
      " |      Create and return a new object.  See help(type) for accurate signature.\n",
      " |  \n",
      " |  __repr__(self, /)\n",
      " |      Return repr(self).\n",
      " |  \n",
      " |  __rmod__(self, value, /)\n",
      " |      Return value%self.\n",
      " |  \n",
      " |  __rmul__(self, value, /)\n",
      " |      Return self*value.\n",
      " |  \n",
      " |  __sizeof__(...)\n",
      " |      S.__sizeof__() -> size of S in memory, in bytes\n",
      " |  \n",
      " |  __str__(self, /)\n",
      " |      Return str(self).\n",
      " |  \n",
      " |  capitalize(...)\n",
      " |      S.capitalize() -> str\n",
      " |      \n",
      " |      Return a capitalized version of S, i.e. make the first character\n",
      " |      have upper case and the rest lower case.\n",
      " |  \n",
      " |  casefold(...)\n",
      " |      S.casefold() -> str\n",
      " |      \n",
      " |      Return a version of S suitable for caseless comparisons.\n",
      " |  \n",
      " |  center(...)\n",
      " |      S.center(width[, fillchar]) -> str\n",
      " |      \n",
      " |      Return S centered in a string of length width. Padding is\n",
      " |      done using the specified fill character (default is a space)\n",
      " |  \n",
      " |  count(...)\n",
      " |      S.count(sub[, start[, end]]) -> int\n",
      " |      \n",
      " |      Return the number of non-overlapping occurrences of substring sub in\n",
      " |      string S[start:end].  Optional arguments start and end are\n",
      " |      interpreted as in slice notation.\n",
      " |  \n",
      " |  encode(...)\n",
      " |      S.encode(encoding='utf-8', errors='strict') -> bytes\n",
      " |      \n",
      " |      Encode S using the codec registered for encoding. Default encoding\n",
      " |      is 'utf-8'. errors may be given to set a different error\n",
      " |      handling scheme. Default is 'strict' meaning that encoding errors raise\n",
      " |      a UnicodeEncodeError. Other possible values are 'ignore', 'replace' and\n",
      " |      'xmlcharrefreplace' as well as any other name registered with\n",
      " |      codecs.register_error that can handle UnicodeEncodeErrors.\n",
      " |  \n",
      " |  endswith(...)\n",
      " |      S.endswith(suffix[, start[, end]]) -> bool\n",
      " |      \n",
      " |      Return True if S ends with the specified suffix, False otherwise.\n",
      " |      With optional start, test S beginning at that position.\n",
      " |      With optional end, stop comparing S at that position.\n",
      " |      suffix can also be a tuple of strings to try.\n",
      " |  \n",
      " |  expandtabs(...)\n",
      " |      S.expandtabs(tabsize=8) -> str\n",
      " |      \n",
      " |      Return a copy of S where all tab characters are expanded using spaces.\n",
      " |      If tabsize is not given, a tab size of 8 characters is assumed.\n",
      " |  \n",
      " |  find(...)\n",
      " |      S.find(sub[, start[, end]]) -> int\n",
      " |      \n",
      " |      Return the lowest index in S where substring sub is found,\n",
      " |      such that sub is contained within S[start:end].  Optional\n",
      " |      arguments start and end are interpreted as in slice notation.\n",
      " |      \n",
      " |      Return -1 on failure.\n",
      " |  \n",
      " |  format(...)\n",
      " |      S.format(*args, **kwargs) -> str\n",
      " |      \n",
      " |      Return a formatted version of S, using substitutions from args and kwargs.\n",
      " |      The substitutions are identified by braces ('{' and '}').\n",
      " |  \n",
      " |  format_map(...)\n",
      " |      S.format_map(mapping) -> str\n",
      " |      \n",
      " |      Return a formatted version of S, using substitutions from mapping.\n",
      " |      The substitutions are identified by braces ('{' and '}').\n",
      " |  \n",
      " |  index(...)\n",
      " |      S.index(sub[, start[, end]]) -> int\n",
      " |      \n",
      " |      Return the lowest index in S where substring sub is found, \n",
      " |      such that sub is contained within S[start:end].  Optional\n",
      " |      arguments start and end are interpreted as in slice notation.\n",
      " |      \n",
      " |      Raises ValueError when the substring is not found.\n",
      " |  \n",
      " |  isalnum(...)\n",
      " |      S.isalnum() -> bool\n",
      " |      \n",
      " |      Return True if all characters in S are alphanumeric\n",
      " |      and there is at least one character in S, False otherwise.\n",
      " |  \n",
      " |  isalpha(...)\n",
      " |      S.isalpha() -> bool\n",
      " |      \n",
      " |      Return True if all characters in S are alphabetic\n",
      " |      and there is at least one character in S, False otherwise.\n",
      " |  \n",
      " |  isdecimal(...)\n",
      " |      S.isdecimal() -> bool\n",
      " |      \n",
      " |      Return True if there are only decimal characters in S,\n",
      " |      False otherwise.\n",
      " |  \n",
      " |  isdigit(...)\n",
      " |      S.isdigit() -> bool\n",
      " |      \n",
      " |      Return True if all characters in S are digits\n",
      " |      and there is at least one character in S, False otherwise.\n",
      " |  \n",
      " |  isidentifier(...)\n",
      " |      S.isidentifier() -> bool\n",
      " |      \n",
      " |      Return True if S is a valid identifier according\n",
      " |      to the language definition.\n",
      " |      \n",
      " |      Use keyword.iskeyword() to test for reserved identifiers\n",
      " |      such as \"def\" and \"class\".\n",
      " |  \n",
      " |  islower(...)\n",
      " |      S.islower() -> bool\n",
      " |      \n",
      " |      Return True if all cased characters in S are lowercase and there is\n",
      " |      at least one cased character in S, False otherwise.\n",
      " |  \n",
      " |  isnumeric(...)\n",
      " |      S.isnumeric() -> bool\n",
      " |      \n",
      " |      Return True if there are only numeric characters in S,\n",
      " |      False otherwise.\n",
      " |  \n",
      " |  isprintable(...)\n",
      " |      S.isprintable() -> bool\n",
      " |      \n",
      " |      Return True if all characters in S are considered\n",
      " |      printable in repr() or S is empty, False otherwise.\n",
      " |  \n",
      " |  isspace(...)\n",
      " |      S.isspace() -> bool\n",
      " |      \n",
      " |      Return True if all characters in S are whitespace\n",
      " |      and there is at least one character in S, False otherwise.\n",
      " |  \n",
      " |  istitle(...)\n",
      " |      S.istitle() -> bool\n",
      " |      \n",
      " |      Return True if S is a titlecased string and there is at least one\n",
      " |      character in S, i.e. upper- and titlecase characters may only\n",
      " |      follow uncased characters and lowercase characters only cased ones.\n",
      " |      Return False otherwise.\n",
      " |  \n",
      " |  isupper(...)\n",
      " |      S.isupper() -> bool\n",
      " |      \n",
      " |      Return True if all cased characters in S are uppercase and there is\n",
      " |      at least one cased character in S, False otherwise.\n",
      " |  \n",
      " |  join(...)\n",
      " |      S.join(iterable) -> str\n",
      " |      \n",
      " |      Return a string which is the concatenation of the strings in the\n",
      " |      iterable.  The separator between elements is S.\n",
      " |  \n",
      " |  ljust(...)\n",
      " |      S.ljust(width[, fillchar]) -> str\n",
      " |      \n",
      " |      Return S left-justified in a Unicode string of length width. Padding is\n",
      " |      done using the specified fill character (default is a space).\n",
      " |  \n",
      " |  lower(...)\n",
      " |      S.lower() -> str\n",
      " |      \n",
      " |      Return a copy of the string S converted to lowercase.\n",
      " |  \n",
      " |  lstrip(...)\n",
      " |      S.lstrip([chars]) -> str\n",
      " |      \n",
      " |      Return a copy of the string S with leading whitespace removed.\n",
      " |      If chars is given and not None, remove characters in chars instead.\n",
      " |  \n",
      " |  partition(...)\n",
      " |      S.partition(sep) -> (head, sep, tail)\n",
      " |      \n",
      " |      Search for the separator sep in S, and return the part before it,\n",
      " |      the separator itself, and the part after it.  If the separator is not\n",
      " |      found, return S and two empty strings.\n",
      " |  \n",
      " |  replace(...)\n",
      " |      S.replace(old, new[, count]) -> str\n",
      " |      \n",
      " |      Return a copy of S with all occurrences of substring\n",
      " |      old replaced by new.  If the optional argument count is\n",
      " |      given, only the first count occurrences are replaced.\n",
      " |  \n",
      " |  rfind(...)\n",
      " |      S.rfind(sub[, start[, end]]) -> int\n",
      " |      \n",
      " |      Return the highest index in S where substring sub is found,\n",
      " |      such that sub is contained within S[start:end].  Optional\n",
      " |      arguments start and end are interpreted as in slice notation.\n",
      " |      \n",
      " |      Return -1 on failure.\n",
      " |  \n",
      " |  rindex(...)\n",
      " |      S.rindex(sub[, start[, end]]) -> int\n",
      " |      \n",
      " |      Return the highest index in S where substring sub is found,\n",
      " |      such that sub is contained within S[start:end].  Optional\n",
      " |      arguments start and end are interpreted as in slice notation.\n",
      " |      \n",
      " |      Raises ValueError when the substring is not found.\n",
      " |  \n",
      " |  rjust(...)\n",
      " |      S.rjust(width[, fillchar]) -> str\n",
      " |      \n",
      " |      Return S right-justified in a string of length width. Padding is\n",
      " |      done using the specified fill character (default is a space).\n",
      " |  \n",
      " |  rpartition(...)\n",
      " |      S.rpartition(sep) -> (head, sep, tail)\n",
      " |      \n",
      " |      Search for the separator sep in S, starting at the end of S, and return\n",
      " |      the part before it, the separator itself, and the part after it.  If the\n",
      " |      separator is not found, return two empty strings and S.\n",
      " |  \n",
      " |  rsplit(...)\n",
      " |      S.rsplit(sep=None, maxsplit=-1) -> list of strings\n",
      " |      \n",
      " |      Return a list of the words in S, using sep as the\n",
      " |      delimiter string, starting at the end of the string and\n",
      " |      working to the front.  If maxsplit is given, at most maxsplit\n",
      " |      splits are done. If sep is not specified, any whitespace string\n",
      " |      is a separator.\n",
      " |  \n",
      " |  rstrip(...)\n",
      " |      S.rstrip([chars]) -> str\n",
      " |      \n",
      " |      Return a copy of the string S with trailing whitespace removed.\n",
      " |      If chars is given and not None, remove characters in chars instead.\n",
      " |  \n",
      " |  split(...)\n",
      " |      S.split(sep=None, maxsplit=-1) -> list of strings\n",
      " |      \n",
      " |      Return a list of the words in S, using sep as the\n",
      " |      delimiter string.  If maxsplit is given, at most maxsplit\n",
      " |      splits are done. If sep is not specified or is None, any\n",
      " |      whitespace string is a separator and empty strings are\n",
      " |      removed from the result.\n",
      " |  \n",
      " |  splitlines(...)\n",
      " |      S.splitlines([keepends]) -> list of strings\n",
      " |      \n",
      " |      Return a list of the lines in S, breaking at line boundaries.\n",
      " |      Line breaks are not included in the resulting list unless keepends\n",
      " |      is given and true.\n",
      " |  \n",
      " |  startswith(...)\n",
      " |      S.startswith(prefix[, start[, end]]) -> bool\n",
      " |      \n",
      " |      Return True if S starts with the specified prefix, False otherwise.\n",
      " |      With optional start, test S beginning at that position.\n",
      " |      With optional end, stop comparing S at that position.\n",
      " |      prefix can also be a tuple of strings to try.\n",
      " |  \n",
      " |  strip(...)\n",
      " |      S.strip([chars]) -> str\n",
      " |      \n",
      " |      Return a copy of the string S with leading and trailing\n",
      " |      whitespace removed.\n",
      " |      If chars is given and not None, remove characters in chars instead.\n",
      " |  \n",
      " |  swapcase(...)\n",
      " |      S.swapcase() -> str\n",
      " |      \n",
      " |      Return a copy of S with uppercase characters converted to lowercase\n",
      " |      and vice versa.\n",
      " |  \n",
      " |  title(...)\n",
      " |      S.title() -> str\n",
      " |      \n",
      " |      Return a titlecased version of S, i.e. words start with title case\n",
      " |      characters, all remaining cased characters have lower case.\n",
      " |  \n",
      " |  translate(...)\n",
      " |      S.translate(table) -> str\n",
      " |      \n",
      " |      Return a copy of the string S in which each character has been mapped\n",
      " |      through the given translation table. The table must implement\n",
      " |      lookup/indexing via __getitem__, for instance a dictionary or list,\n",
      " |      mapping Unicode ordinals to Unicode ordinals, strings, or None. If\n",
      " |      this operation raises LookupError, the character is left untouched.\n",
      " |      Characters mapped to None are deleted.\n",
      " |  \n",
      " |  upper(...)\n",
      " |      S.upper() -> str\n",
      " |      \n",
      " |      Return a copy of S converted to uppercase.\n",
      " |  \n",
      " |  zfill(...)\n",
      " |      S.zfill(width) -> str\n",
      " |      \n",
      " |      Pad a numeric string S with zeros on the left, to fill a field\n",
      " |      of the specified width. The string S is never truncated.\n",
      " |  \n",
      " |  ----------------------------------------------------------------------\n",
      " |  Static methods defined here:\n",
      " |  \n",
      " |  maketrans(x, y=None, z=None, /)\n",
      " |      Return a translation table usable for str.translate().\n",
      " |      \n",
      " |      If there is only one argument, it must be a dictionary mapping Unicode\n",
      " |      ordinals (integers) or characters to Unicode ordinals, strings or None.\n",
      " |      Character keys will be then converted to ordinals.\n",
      " |      If there are two arguments, they must be strings of equal length, and\n",
      " |      in the resulting dictionary, each character in x will be mapped to the\n",
      " |      character at the same position in y. If there is a third argument, it\n",
      " |      must be a string, whose characters will be mapped to None in the result.\n",
      "\n"
     ]
    }
   ],
   "source": [
    "help(str)"
   ]
  },
  {
   "cell_type": "code",
   "execution_count": 34,
   "metadata": {},
   "outputs": [
    {
     "name": "stdout",
     "output_type": "stream",
     "text": [
      "Hello world\n"
     ]
    }
   ],
   "source": [
    "# capitalize 首字母大写\n",
    "s = \"hello world\"\n",
    "print(s.capitalize())"
   ]
  },
  {
   "cell_type": "code",
   "execution_count": 37,
   "metadata": {},
   "outputs": [
    {
     "name": "stdout",
     "output_type": "stream",
     "text": [
      "Hello World\n"
     ]
    }
   ],
   "source": [
    "# title() 每个单词的首字母大写，标题化\n",
    "s = \"hello world\"\n",
    "print(s.title())"
   ]
  },
  {
   "cell_type": "code",
   "execution_count": 53,
   "metadata": {},
   "outputs": [
    {
     "name": "stdout",
     "output_type": "stream",
     "text": [
      "HELLO WORLD\n",
      "11\n",
      "\n",
      "10\n",
      "5\n"
     ]
    }
   ],
   "source": [
    "s = \"hello world\"\n",
    "print(s.upper())\n",
    "# s.lower()\n",
    "# s.swapcase()大小写互换\n",
    "# len求字符串长度，一个英文算一个，一个汉字也算一个\n",
    "print(len(s))\n",
    "\n",
    "print()\n",
    "\n",
    "# find()查找指定字符串，找不到返回-1，第一次找到返回第一次索引值\n",
    "# index()查找指定字符串，找不到报错\n",
    "x = \"abcdefghijsklmn\"\n",
    "x1 = x.find(\"s\",3)#从下标3开始找，返回整型下标\n",
    "x2 = x.index('f')\n",
    "print(x1)\n",
    "print(x2)"
   ]
  },
  {
   "cell_type": "code",
   "execution_count": 52,
   "metadata": {},
   "outputs": [
    {
     "name": "stdout",
     "output_type": "stream",
     "text": [
      "Help on method_descriptor:\n",
      "\n",
      "find(...)\n",
      "    S.find(sub[, start[, end]]) -> int\n",
      "    \n",
      "    Return the lowest index in S where substring sub is found,\n",
      "    such that sub is contained within S[start:end].  Optional\n",
      "    arguments start and end are interpreted as in slice notation.\n",
      "    \n",
      "    Return -1 on failure.\n",
      "\n"
     ]
    }
   ],
   "source": [
    "help(str.find)"
   ]
  },
  {
   "cell_type": "code",
   "execution_count": 54,
   "metadata": {},
   "outputs": [
    {
     "name": "stdout",
     "output_type": "stream",
     "text": [
      "2\n"
     ]
    }
   ],
   "source": [
    "# count() 计算字符串出现次数，返回整型\n",
    "x = \"abcdefsghijsklmn\"\n",
    "print(x.count('s'))"
   ]
  },
  {
   "cell_type": "code",
   "execution_count": 62,
   "metadata": {},
   "outputs": [
    {
     "name": "stdout",
     "output_type": "stream",
     "text": [
      "True\n",
      "False\n",
      "====================\n",
      "True\n",
      "False\n"
     ]
    }
   ],
   "source": [
    "# startswith()检测是否以指定字母开头，返回布尔值\n",
    "# endswith()检测是否以指定字母结束\n",
    "s = \"hello world\"\n",
    "print(s.startswith(\"h\"))\n",
    "print(s.startswith(\"H\"))\n",
    "print(\"=\"*20)\n",
    "print(s.endswith('d'))\n",
    "print(s.endswith('o'))"
   ]
  },
  {
   "cell_type": "code",
   "execution_count": 2,
   "metadata": {},
   "outputs": [
    {
     "name": "stdout",
     "output_type": "stream",
     "text": [
      "True\n"
     ]
    }
   ],
   "source": [
    "# isupper()检测所有字母是不是大写\n",
    "s = \"Hello world\"\n",
    "s1 = \"HELLO\"\n",
    "print(s1.isupper())\n",
    "\n",
    "# islower()检测是不是全小写\n",
    "# istitle()检测是不是首字母大写\n",
    "# isspace()检测是不是空字符串"
   ]
  },
  {
   "cell_type": "code",
   "execution_count": 4,
   "metadata": {},
   "outputs": [
    {
     "name": "stdout",
     "output_type": "stream",
     "text": [
      "True\n",
      "True\n"
     ]
    }
   ],
   "source": [
    "# isalpha()???这个解释需要搜索\n",
    "s = \"我\"\n",
    "print(s.isalpha())\n",
    "\n",
    "s2 = \"我like\"\n",
    "print(s2.isalpha())"
   ]
  },
  {
   "cell_type": "code",
   "execution_count": 7,
   "metadata": {},
   "outputs": [
    {
     "name": "stdout",
     "output_type": "stream",
     "text": [
      "True\n",
      "False\n",
      "False\n"
     ]
    }
   ],
   "source": [
    "# isalnum()检测字符串是否由字母和数字组成，有没有别的符号\n",
    "s = \"hahahahhahahah\"\n",
    "s1 = \"hahahah@hahahah五\"\n",
    "s2 = \"hahahahhahahah%\"\n",
    "\n",
    "print(s.isalnum())\n",
    "print(s1.isalnum())\n",
    "print(s2.isalnum())"
   ]
  },
  {
   "cell_type": "code",
   "execution_count": 30,
   "metadata": {},
   "outputs": [
    {
     "name": "stdout",
     "output_type": "stream",
     "text": [
      "True\n",
      "====================\n",
      "False\n",
      "False\n",
      "False\n",
      "====================\n",
      "False\n",
      "False\n",
      "True\n",
      "====================\n",
      "True\n",
      "True\n",
      "True\n"
     ]
    }
   ],
   "source": [
    "s = b'101100'\n",
    "print(s.isdigit())#检测是不是全是阿拉伯数字\n",
    "#print(s.isdecimal())#是不是阿拉伯数字\n",
    "#print(s.isnumeric())#检查是不是可数型的字符\n",
    "\n",
    "print(\"=\"*20)\n",
    "\n",
    "s = \"123.2\"\n",
    "print(s.isdigit())\n",
    "print(s.isdecimal())\n",
    "print(s.isnumeric())\n",
    "\n",
    "print(\"=\"*20)\n",
    "\n",
    "s = \"三百\"\n",
    "print(s.isdigit())\n",
    "print(s.isdecimal())\n",
    "print(s.isnumeric())\n",
    "\n",
    "print(\"=\"*20)\n",
    "\n",
    "s = \"99\"\n",
    "print(s.isdigit())\n",
    "print(s.isdecimal())\n",
    "print(s.isnumeric())"
   ]
  },
  {
   "cell_type": "code",
   "execution_count": 31,
   "metadata": {},
   "outputs": [
    {
     "name": "stdout",
     "output_type": "stream",
     "text": [
      "['日照香', '炉生紫烟', '锄禾日', '当午']\n"
     ]
    }
   ],
   "source": [
    "# split() 切割字符串  splitlines()捕捉换行符\\n切割\n",
    "s = \"日照香*炉生紫烟*锄禾日*当午\"\n",
    "list1 = s.split(\"*\")\n",
    "print(list1)"
   ]
  },
  {
   "cell_type": "code",
   "execution_count": 34,
   "metadata": {},
   "outputs": [
    {
     "name": "stdout",
     "output_type": "stream",
     "text": [
      "日照香*炉生紫烟*锄禾日*当午\n"
     ]
    }
   ],
   "source": [
    "# join()将列表按照指定的字符串连接，返回连接好的字符串\n",
    "list1 = ['日照香', '炉生紫烟', '锄禾日', '当午']\n",
    "s = \"*\".join(list1)\n",
    "print(s)"
   ]
  },
  {
   "cell_type": "code",
   "execution_count": 35,
   "metadata": {},
   "outputs": [
    {
     "name": "stdout",
     "output_type": "stream",
     "text": [
      "3\n",
      "abc  a\n"
     ]
    }
   ],
   "source": [
    "s = \"abc\"\n",
    "print(len(s))\n",
    "print(s.ljust(5)+\"a\")#指定字符串长度，内容居左，不足的用指定字符填充，默认空格"
   ]
  },
  {
   "cell_type": "code",
   "execution_count": 41,
   "metadata": {},
   "outputs": [
    {
     "name": "stdout",
     "output_type": "stream",
     "text": [
      "3\n",
      "%%%abc%%%\n",
      "9\n"
     ]
    }
   ],
   "source": [
    "s = \"abc\"\n",
    "print(len(s))\n",
    "print(s.center(9,\"%\"))#指定字符串长度，内容居中，不足的用指定字符填充，默认空格\n",
    "print(len(s.center(9,\"%\")))"
   ]
  },
  {
   "cell_type": "code",
   "execution_count": 42,
   "metadata": {},
   "outputs": [
    {
     "name": "stdout",
     "output_type": "stream",
     "text": [
      "3\n",
      "%%%%%%abc\n"
     ]
    }
   ],
   "source": [
    "s = \"abc\"\n",
    "print(len(s))\n",
    "print(s.rjust(9,\"%\"))#指定字符串长度，内容居右，不足的用指定字符填充，默认空格"
   ]
  },
  {
   "cell_type": "code",
   "execution_count": 48,
   "metadata": {},
   "outputs": [
    {
     "name": "stdout",
     "output_type": "stream",
     "text": [
      "abcfg\n",
      "bcfg\n",
      "abcf\n"
     ]
    }
   ],
   "source": [
    "s = \"    abcfg   \"#去掉指定得字符串，默认空格\n",
    "print(s.strip())\n",
    "s = \"abcfg\"\n",
    "print(s.lstrip(\"a\"))\n",
    "print(s.rstrip(\"g\"))\n"
   ]
  },
  {
   "cell_type": "code",
   "execution_count": 49,
   "metadata": {},
   "outputs": [
    {
     "name": "stdout",
     "output_type": "stream",
     "text": [
      "00000abc\n"
     ]
    }
   ],
   "source": [
    "# zfill()指定字符串长度，内容靠右，不足的用0填充\n",
    "s = \"abc\"\n",
    "print(s.zfill(8))"
   ]
  },
  {
   "cell_type": "code",
   "execution_count": 54,
   "metadata": {},
   "outputs": [
    {
     "name": "stdout",
     "output_type": "stream",
     "text": [
      "{23567: 22823, 28818: 30333, 32905: 33756}\n",
      "今天晚上我吃的是大白菜，可好吃了\n"
     ]
    }
   ],
   "source": [
    "# maketrans()生成用于字符串替换的映射表\n",
    "# translate()进行字符串替换\n",
    "s = \"今天晚上我吃的是小炒肉，可好吃了\"\n",
    "table = s.maketrans(\"小炒肉\",\"大白菜\")#替换字符长度要一样\n",
    "print(table)\n",
    "print(s.translate(table))"
   ]
  },
  {
   "cell_type": "code",
   "execution_count": null,
   "metadata": {
    "collapsed": true
   },
   "outputs": [],
   "source": []
  }
 ],
 "metadata": {
  "kernelspec": {
   "display_name": "Python 3",
   "language": "python",
   "name": "python3"
  },
  "language_info": {
   "codemirror_mode": {
    "name": "ipython",
    "version": 3
   },
   "file_extension": ".py",
   "mimetype": "text/x-python",
   "name": "python",
   "nbconvert_exporter": "python",
   "pygments_lexer": "ipython3",
   "version": "3.6.3"
  }
 },
 "nbformat": 4,
 "nbformat_minor": 2
}
