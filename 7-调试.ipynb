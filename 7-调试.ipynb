{
 "cells": [
  {
   "cell_type": "markdown",
   "metadata": {},
   "source": [
    "# 调试技术\n",
    "- 调试流程：单元测试->集成测试->交测试部\n",
    "- 分类：\n",
    "  - 静态调试：直接看\n",
    "  - 动态调试："
   ]
  },
  {
   "cell_type": "markdown",
   "metadata": {},
   "source": [
    "# pdb调试：命令行调试\n",
    "- 启动Python的调试器pdb，在命令行中，让程序以单步方式运行，可以随时查看运行状态。\n",
    "- debug 模块之pdb：https://blog.csdn.net/carolzhang8406/article/details/6923997\n",
    "- IBM推荐：https://www.ibm.com/developerworks/cn/linux/l-cn-pythondebugger/\n",
    "- 调试利器PDB：https://blog.csdn.net/wyb_009/article/details/8896744\n",
    "- 用PDB库调试Python程序：https://www.cnblogs.com/dkblog/archive/2010/12/07/1980682.html\n",
    "- 零基础学习PDB命令行调试：http://python.jobbole.com/81184/"
   ]
  },
  {
   "cell_type": "markdown",
   "metadata": {},
   "source": [
    "# 单元测试\n",
    "- Python Unittest 自动化单元测试框架Demo：https://blog.csdn.net/a542551042/article/details/46696635\n",
    "- PyUnit：https://wiki.python.org/moin/PyUnit\n",
    "- PyUnit详细讲解案例02：https://www.jb51.net/article/64119.htm\n",
    "- 自动化单元测试的教程：https://www.cnblogs.com/iamjqy/p/7155315.html"
   ]
  },
  {
   "cell_type": "markdown",
   "metadata": {},
   "source": [
    "# pycharm调试\n",
    "- run/debug模式\n",
    "- 案例01.py\n",
    "- 断点：程序的某一行，程序在debug模式下，遇到断点就会暂停"
   ]
  },
  {
   "cell_type": "code",
   "execution_count": null,
   "metadata": {},
   "outputs": [],
   "source": []
  }
 ],
 "metadata": {
  "kernelspec": {
   "display_name": "Python 3",
   "language": "python",
   "name": "python3"
  },
  "language_info": {
   "codemirror_mode": {
    "name": "ipython",
    "version": 3
   },
   "file_extension": ".py",
   "mimetype": "text/x-python",
   "name": "python",
   "nbconvert_exporter": "python",
   "pygments_lexer": "ipython3",
   "version": "3.6.7"
  }
 },
 "nbformat": 4,
 "nbformat_minor": 2
}
